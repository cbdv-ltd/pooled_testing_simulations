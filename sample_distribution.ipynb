{
 "cells": [
  {
   "cell_type": "code",
   "execution_count": 2,
   "metadata": {},
   "outputs": [],
   "source": [
    "import seaborn as sb\n",
    "import numpy as np\n",
    "import pandas as pd\n",
    "import matplotlib.pyplot as plt\n",
    "from scipy import stats\n",
    "from numpy.random import default_rng\n",
    "from numpy.random import SeedSequence\n",
    "from fitter import Fitter\n",
    "from scipy.stats import lognorm"
   ]
  },
  {
   "cell_type": "code",
   "execution_count": 3,
   "metadata": {},
   "outputs": [],
   "source": [
    "from numpy.random import default_rng"
   ]
  },
  {
   "cell_type": "code",
   "execution_count": 4,
   "metadata": {},
   "outputs": [],
   "source": [
    "DOI = [\"loglaplace\", \"mielke\", \"kappa3\", \"burr\", \"burr12\", \"lognorm\", \"gamma\", \"expon\", \"cauchy\", \"exponpow\"]"
   ]
  },
  {
   "cell_type": "code",
   "execution_count": 5,
   "metadata": {},
   "outputs": [
    {
     "name": "stdout",
     "output_type": "stream",
     "text": [
      "<class 'pandas.core.frame.DataFrame'>\n",
      "RangeIndex: 1275 entries, 0 to 1274\n",
      "Data columns (total 7 columns):\n",
      " #   Column               Non-Null Count  Dtype  \n",
      "---  ------               --------------  -----  \n",
      " 0   order_date_received  1274 non-null   object \n",
      " 1   accessioning_type    1275 non-null   object \n",
      " 2   sample_id            1275 non-null   object \n",
      " 3   arsenic_ug_g         885 non-null    float64\n",
      " 4   cadmium_ug_g         1072 non-null   float64\n",
      " 5   lead_ug_g            1097 non-null   float64\n",
      " 6   mercury_ug_g         961 non-null    float64\n",
      "dtypes: float64(4), object(3)\n",
      "memory usage: 69.9+ KB\n"
     ]
    }
   ],
   "source": [
    "data = pd.read_excel(\"metal_tests.xlsx\", na_values = \"ND\")\n",
    "data.info()\n",
    "data.to_csv(\"data.csv\")"
   ]
  },
  {
   "cell_type": "code",
   "execution_count": 6,
   "metadata": {},
   "outputs": [
    {
     "name": "stdout",
     "output_type": "stream",
     "text": [
      "<class 'pandas.core.frame.DataFrame'>\n",
      "Int64Index: 453 entries, 0 to 1271\n",
      "Data columns (total 7 columns):\n",
      " #   Column               Non-Null Count  Dtype  \n",
      "---  ------               --------------  -----  \n",
      " 0   order_date_received  453 non-null    object \n",
      " 1   accessioning_type    453 non-null    object \n",
      " 2   sample_id            453 non-null    object \n",
      " 3   arsenic_ug_g         396 non-null    float64\n",
      " 4   cadmium_ug_g         442 non-null    float64\n",
      " 5   lead_ug_g            411 non-null    float64\n",
      " 6   mercury_ug_g         352 non-null    float64\n",
      "dtypes: float64(4), object(3)\n",
      "memory usage: 28.3+ KB\n"
     ]
    }
   ],
   "source": [
    "flower = data.loc[(data.accessioning_type == \"Flower\") | (data.accessioning_type == \"Leaf/Mixed Plant Material\"),:].copy()\n",
    "flower.info()"
   ]
  },
  {
   "cell_type": "code",
   "execution_count": 7,
   "metadata": {},
   "outputs": [
    {
     "name": "stdout",
     "output_type": "stream",
     "text": [
      "<class 'pandas.core.frame.DataFrame'>\n",
      "Int64Index: 453 entries, 0 to 1271\n",
      "Data columns (total 7 columns):\n",
      " #   Column               Non-Null Count  Dtype  \n",
      "---  ------               --------------  -----  \n",
      " 0   order_date_received  453 non-null    object \n",
      " 1   accessioning_type    453 non-null    object \n",
      " 2   sample_id            453 non-null    object \n",
      " 3   arsenic_ug_g         396 non-null    float64\n",
      " 4   cadmium_ug_g         442 non-null    float64\n",
      " 5   lead_ug_g            411 non-null    float64\n",
      " 6   mercury_ug_g         352 non-null    float64\n",
      "dtypes: float64(4), object(3)\n",
      "memory usage: 28.3+ KB\n"
     ]
    }
   ],
   "source": [
    "floc = flower.replace(\"ND\", np.nan)\n",
    "floc.info()"
   ]
  },
  {
   "cell_type": "markdown",
   "metadata": {},
   "source": [
    "\"\tLOD\tLOQ\n",
    "Arsenic\t0.042\t0.138\n",
    "Cadmium\t0.016\t0.052\n",
    "Lead\t0.042\t0.142\n",
    "Mercury\t0.016\t0.052\n",
    "\""
   ]
  },
  {
   "cell_type": "code",
   "execution_count": 8,
   "metadata": {},
   "outputs": [],
   "source": [
    "floc[\"Arsenic_LOD\"] = 0.042\n",
    "floc[\"Cadmium_LOD\"] = 0.016\n",
    "floc[\"Lead_LOD\"] = 0.042\n",
    "floc[\"Mercury_LOD\"] = 0.016\n"
   ]
  },
  {
   "cell_type": "code",
   "execution_count": null,
   "metadata": {},
   "outputs": [],
   "source": []
  },
  {
   "cell_type": "code",
   "execution_count": 9,
   "metadata": {},
   "outputs": [
    {
     "data": {
      "image/png": "[encoded data removed]",
      "text/plain": [
       "<Figure size 432x288 with 1 Axes>"
      ]
     },
     "metadata": {
      "needs_background": "light"
     },
     "output_type": "display_data"
    }
   ],
   "source": [
    "g = sb.histplot(data=floc, x = \"lead_ug_g\", bins= 90, binrange = (0,3), kde=True)\n",
    "g.set(xlim=[0,1], ylim=[0,250])\n",
    "plt.show()"
   ]
  },
  {
   "cell_type": "code",
   "execution_count": 10,
   "metadata": {},
   "outputs": [
    {
     "data": {
      "image/png": "[encoded data removed]",
      "text/plain": [
       "<Figure size 432x288 with 1 Axes>"
      ]
     },
     "metadata": {
      "needs_background": "light"
     },
     "output_type": "display_data"
    }
   ],
   "source": [
    "g = sb.histplot(data=floc, x = \"mercury_ug_g\", bins= 90, binrange = (0,3), kde=True)\n",
    "g.set(xlim=[0,1], ylim=[0,250])\n",
    "plt.show()"
   ]
  },
  {
   "cell_type": "code",
   "execution_count": 11,
   "metadata": {},
   "outputs": [
    {
     "data": {
      "image/png": "[encoded data removed]",
      "text/plain": [
       "<Figure size 432x288 with 1 Axes>"
      ]
     },
     "metadata": {
      "needs_background": "light"
     },
     "output_type": "display_data"
    }
   ],
   "source": [
    "g = sb.histplot(data=floc, x = \"arsenic_ug_g\", bins= 90, binrange = (0,3), kde=True)\n",
    "g.set(xlim=[0,1], ylim=[0,250])\n",
    "plt.show()"
   ]
  },
  {
   "cell_type": "code",
   "execution_count": 12,
   "metadata": {},
   "outputs": [
    {
     "data": {
      "image/png": "[encoded data removed]",
      "text/plain": [
       "<Figure size 432x288 with 1 Axes>"
      ]
     },
     "metadata": {
      "needs_background": "light"
     },
     "output_type": "display_data"
    }
   ],
   "source": [
    "g = sb.histplot(data=floc, x = \"cadmium_ug_g\", bins= 90, binrange = (0,3), kde=True)\n",
    "g.set(xlim=[0,1], ylim=[0,250])\n",
    "plt.show()"
   ]
  },
  {
   "cell_type": "code",
   "execution_count": 13,
   "metadata": {},
   "outputs": [
    {
     "data": {
      "text/html": [
       "\n",
       "            <div style=\"float: left; border: 1px solid black; width:500px\">\n",
       "              <div id=\"eeb52f88-07d6-4a08-a80b-f8c19f1462fa\" style=\"background-color:blue; width:0%\">&nbsp;</div>\n",
       "            </div>\n",
       "            <label id=\"6e913eb5-0627-4ccb-a250-2e0b416ba385\" style=\"padding-left: 10px;\" text = \"\"/>\n",
       "            "
      ],
      "text/plain": [
       "<IPython.core.display.HTML object>"
      ]
     },
     "metadata": {},
     "output_type": "display_data"
    },
    {
     "data": {
      "text/html": [
       "<div>\n",
       "<style scoped>\n",
       "    .dataframe tbody tr th:only-of-type {\n",
       "        vertical-align: middle;\n",
       "    }\n",
       "\n",
       "    .dataframe tbody tr th {\n",
       "        vertical-align: top;\n",
       "    }\n",
       "\n",
       "    .dataframe thead th {\n",
       "        text-align: right;\n",
       "    }\n",
       "</style>\n",
       "<table border=\"1\" class=\"dataframe\">\n",
       "  <thead>\n",
       "    <tr style=\"text-align: right;\">\n",
       "      <th></th>\n",
       "      <th>sumsquare_error</th>\n",
       "      <th>aic</th>\n",
       "      <th>bic</th>\n",
       "      <th>kl_div</th>\n",
       "    </tr>\n",
       "  </thead>\n",
       "  <tbody>\n",
       "    <tr>\n",
       "      <th>loglaplace</th>\n",
       "      <td>22.147592</td>\n",
       "      <td>314.514642</td>\n",
       "      <td>-1085.362408</td>\n",
       "      <td>inf</td>\n",
       "    </tr>\n",
       "    <tr>\n",
       "      <th>mielke</th>\n",
       "      <td>33.100213</td>\n",
       "      <td>307.232937</td>\n",
       "      <td>-924.307542</td>\n",
       "      <td>inf</td>\n",
       "    </tr>\n",
       "    <tr>\n",
       "      <th>burr12</th>\n",
       "      <td>35.782675</td>\n",
       "      <td>305.017978</td>\n",
       "      <td>-894.228829</td>\n",
       "      <td>inf</td>\n",
       "    </tr>\n",
       "    <tr>\n",
       "      <th>lognorm</th>\n",
       "      <td>37.003239</td>\n",
       "      <td>294.788251</td>\n",
       "      <td>-887.237611</td>\n",
       "      <td>inf</td>\n",
       "    </tr>\n",
       "    <tr>\n",
       "      <th>cauchy</th>\n",
       "      <td>42.941763</td>\n",
       "      <td>433.488170</td>\n",
       "      <td>-835.741442</td>\n",
       "      <td>inf</td>\n",
       "    </tr>\n",
       "  </tbody>\n",
       "</table>\n",
       "</div>"
      ],
      "text/plain": [
       "            sumsquare_error         aic          bic  kl_div\n",
       "loglaplace        22.147592  314.514642 -1085.362408     inf\n",
       "mielke            33.100213  307.232937  -924.307542     inf\n",
       "burr12            35.782675  305.017978  -894.228829     inf\n",
       "lognorm           37.003239  294.788251  -887.237611     inf\n",
       "cauchy            42.941763  433.488170  -835.741442     inf"
      ]
     },
     "execution_count": 13,
     "metadata": {},
     "output_type": "execute_result"
    },
    {
     "data": {
      "image/png": "[encoded data removed]",
      "text/plain": [
       "<Figure size 432x288 with 1 Axes>"
      ]
     },
     "metadata": {
      "needs_background": "light"
     },
     "output_type": "display_data"
    }
   ],
   "source": [
    "fa = Fitter(np.sort(floc.arsenic_ug_g.dropna().values)[5:-5], distributions=DOI, timeout=60)\n",
    "fa.fit()\n",
    "fa.summary()\n"
   ]
  },
  {
   "cell_type": "code",
   "execution_count": 14,
   "metadata": {},
   "outputs": [
    {
     "data": {
      "text/html": [
       "\n",
       "            <div style=\"float: left; border: 1px solid black; width:500px\">\n",
       "              <div id=\"070f191a-a4bd-4f9c-a961-8c7671b7d7de\" style=\"background-color:blue; width:0%\">&nbsp;</div>\n",
       "            </div>\n",
       "            <label id=\"55dbd6f4-c073-41d8-93d6-a2980f1ec1da\" style=\"padding-left: 10px;\" text = \"\"/>\n",
       "            "
      ],
      "text/plain": [
       "<IPython.core.display.HTML object>"
      ]
     },
     "metadata": {},
     "output_type": "display_data"
    },
    {
     "data": {
      "text/html": [
       "<div>\n",
       "<style scoped>\n",
       "    .dataframe tbody tr th:only-of-type {\n",
       "        vertical-align: middle;\n",
       "    }\n",
       "\n",
       "    .dataframe tbody tr th {\n",
       "        vertical-align: top;\n",
       "    }\n",
       "\n",
       "    .dataframe thead th {\n",
       "        text-align: right;\n",
       "    }\n",
       "</style>\n",
       "<table border=\"1\" class=\"dataframe\">\n",
       "  <thead>\n",
       "    <tr style=\"text-align: right;\">\n",
       "      <th></th>\n",
       "      <th>sumsquare_error</th>\n",
       "      <th>aic</th>\n",
       "      <th>bic</th>\n",
       "      <th>kl_div</th>\n",
       "    </tr>\n",
       "  </thead>\n",
       "  <tbody>\n",
       "    <tr>\n",
       "      <th>mielke</th>\n",
       "      <td>13.807396</td>\n",
       "      <td>639.059265</td>\n",
       "      <td>-1463.197866</td>\n",
       "      <td>inf</td>\n",
       "    </tr>\n",
       "    <tr>\n",
       "      <th>burr12</th>\n",
       "      <td>13.844416</td>\n",
       "      <td>638.627415</td>\n",
       "      <td>-1462.041151</td>\n",
       "      <td>inf</td>\n",
       "    </tr>\n",
       "    <tr>\n",
       "      <th>lognorm</th>\n",
       "      <td>25.733050</td>\n",
       "      <td>716.574226</td>\n",
       "      <td>-1200.315269</td>\n",
       "      <td>inf</td>\n",
       "    </tr>\n",
       "    <tr>\n",
       "      <th>kappa3</th>\n",
       "      <td>31.279179</td>\n",
       "      <td>689.875146</td>\n",
       "      <td>-1115.999031</td>\n",
       "      <td>inf</td>\n",
       "    </tr>\n",
       "    <tr>\n",
       "      <th>loglaplace</th>\n",
       "      <td>47.868746</td>\n",
       "      <td>582.346657</td>\n",
       "      <td>-932.178647</td>\n",
       "      <td>inf</td>\n",
       "    </tr>\n",
       "  </tbody>\n",
       "</table>\n",
       "</div>"
      ],
      "text/plain": [
       "            sumsquare_error         aic          bic  kl_div\n",
       "mielke            13.807396  639.059265 -1463.197866     inf\n",
       "burr12            13.844416  638.627415 -1462.041151     inf\n",
       "lognorm           25.733050  716.574226 -1200.315269     inf\n",
       "kappa3            31.279179  689.875146 -1115.999031     inf\n",
       "loglaplace        47.868746  582.346657  -932.178647     inf"
      ]
     },
     "execution_count": 14,
     "metadata": {},
     "output_type": "execute_result"
    },
    {
     "data": {
      "image/png": "[encoded data removed]",
      "text/plain": [
       "<Figure size 432x288 with 1 Axes>"
      ]
     },
     "metadata": {
      "needs_background": "light"
     },
     "output_type": "display_data"
    }
   ],
   "source": [
    "fc = Fitter(np.sort(floc.cadmium_ug_g.dropna().values)[5:-5], distributions=DOI, timeout=60)\n",
    "fc.fit()\n",
    "fc.summary()"
   ]
  },
  {
   "cell_type": "code",
   "execution_count": 15,
   "metadata": {},
   "outputs": [
    {
     "data": {
      "text/html": [
       "\n",
       "            <div style=\"float: left; border: 1px solid black; width:500px\">\n",
       "              <div id=\"b6ddbf61-ba76-480f-a7a2-46e829b4511a\" style=\"background-color:blue; width:0%\">&nbsp;</div>\n",
       "            </div>\n",
       "            <label id=\"c52fa009-feee-439f-8643-ed7801fdf834\" style=\"padding-left: 10px;\" text = \"\"/>\n",
       "            "
      ],
      "text/plain": [
       "<IPython.core.display.HTML object>"
      ]
     },
     "metadata": {},
     "output_type": "display_data"
    },
    {
     "data": {
      "text/html": [
       "<div>\n",
       "<style scoped>\n",
       "    .dataframe tbody tr th:only-of-type {\n",
       "        vertical-align: middle;\n",
       "    }\n",
       "\n",
       "    .dataframe tbody tr th {\n",
       "        vertical-align: top;\n",
       "    }\n",
       "\n",
       "    .dataframe thead th {\n",
       "        text-align: right;\n",
       "    }\n",
       "</style>\n",
       "<table border=\"1\" class=\"dataframe\">\n",
       "  <thead>\n",
       "    <tr style=\"text-align: right;\">\n",
       "      <th></th>\n",
       "      <th>sumsquare_error</th>\n",
       "      <th>aic</th>\n",
       "      <th>bic</th>\n",
       "      <th>kl_div</th>\n",
       "    </tr>\n",
       "  </thead>\n",
       "  <tbody>\n",
       "    <tr>\n",
       "      <th>kappa3</th>\n",
       "      <td>10132.362658</td>\n",
       "      <td>-175.401355</td>\n",
       "      <td>1176.432673</td>\n",
       "      <td>inf</td>\n",
       "    </tr>\n",
       "    <tr>\n",
       "      <th>lognorm</th>\n",
       "      <td>13210.389567</td>\n",
       "      <td>-52.680130</td>\n",
       "      <td>1267.154700</td>\n",
       "      <td>inf</td>\n",
       "    </tr>\n",
       "    <tr>\n",
       "      <th>expon</th>\n",
       "      <td>13966.819552</td>\n",
       "      <td>-237.567465</td>\n",
       "      <td>1280.362749</td>\n",
       "      <td>inf</td>\n",
       "    </tr>\n",
       "    <tr>\n",
       "      <th>exponpow</th>\n",
       "      <td>17080.108035</td>\n",
       "      <td>-117.099372</td>\n",
       "      <td>1355.018229</td>\n",
       "      <td>inf</td>\n",
       "    </tr>\n",
       "    <tr>\n",
       "      <th>cauchy</th>\n",
       "      <td>20476.400677</td>\n",
       "      <td>-208.224191</td>\n",
       "      <td>1411.208033</td>\n",
       "      <td>inf</td>\n",
       "    </tr>\n",
       "  </tbody>\n",
       "</table>\n",
       "</div>"
      ],
      "text/plain": [
       "          sumsquare_error         aic          bic  kl_div\n",
       "kappa3       10132.362658 -175.401355  1176.432673     inf\n",
       "lognorm      13210.389567  -52.680130  1267.154700     inf\n",
       "expon        13966.819552 -237.567465  1280.362749     inf\n",
       "exponpow     17080.108035 -117.099372  1355.018229     inf\n",
       "cauchy       20476.400677 -208.224191  1411.208033     inf"
      ]
     },
     "execution_count": 15,
     "metadata": {},
     "output_type": "execute_result"
    },
    {
     "data": {
      "image/png": "[encoded data removed]",
      "text/plain": [
       "<Figure size 432x288 with 1 Axes>"
      ]
     },
     "metadata": {
      "needs_background": "light"
     },
     "output_type": "display_data"
    }
   ],
   "source": [
    "fm = Fitter(np.sort(floc.mercury_ug_g.dropna().values)[5:-5], distributions=DOI, timeout=60)\n",
    "fm.fit()\n",
    "fm.summary()"
   ]
  },
  {
   "cell_type": "code",
   "execution_count": 16,
   "metadata": {},
   "outputs": [
    {
     "data": {
      "text/html": [
       "\n",
       "            <div style=\"float: left; border: 1px solid black; width:500px\">\n",
       "              <div id=\"ade69534-636b-4151-b017-504a04dd79d8\" style=\"background-color:blue; width:0%\">&nbsp;</div>\n",
       "            </div>\n",
       "            <label id=\"42fe6fff-a717-4efe-8032-f6aa4bebc515\" style=\"padding-left: 10px;\" text = \"\"/>\n",
       "            "
      ],
      "text/plain": [
       "<IPython.core.display.HTML object>"
      ]
     },
     "metadata": {},
     "output_type": "display_data"
    },
    {
     "data": {
      "text/html": [
       "<div>\n",
       "<style scoped>\n",
       "    .dataframe tbody tr th:only-of-type {\n",
       "        vertical-align: middle;\n",
       "    }\n",
       "\n",
       "    .dataframe tbody tr th {\n",
       "        vertical-align: top;\n",
       "    }\n",
       "\n",
       "    .dataframe thead th {\n",
       "        text-align: right;\n",
       "    }\n",
       "</style>\n",
       "<table border=\"1\" class=\"dataframe\">\n",
       "  <thead>\n",
       "    <tr style=\"text-align: right;\">\n",
       "      <th></th>\n",
       "      <th>sumsquare_error</th>\n",
       "      <th>aic</th>\n",
       "      <th>bic</th>\n",
       "      <th>kl_div</th>\n",
       "    </tr>\n",
       "  </thead>\n",
       "  <tbody>\n",
       "    <tr>\n",
       "      <th>burr12</th>\n",
       "      <td>8.346116</td>\n",
       "      <td>471.126774</td>\n",
       "      <td>-1528.762400</td>\n",
       "      <td>inf</td>\n",
       "    </tr>\n",
       "    <tr>\n",
       "      <th>mielke</th>\n",
       "      <td>8.352463</td>\n",
       "      <td>433.656564</td>\n",
       "      <td>-1528.457559</td>\n",
       "      <td>inf</td>\n",
       "    </tr>\n",
       "    <tr>\n",
       "      <th>lognorm</th>\n",
       "      <td>8.578772</td>\n",
       "      <td>425.866815</td>\n",
       "      <td>-1523.731063</td>\n",
       "      <td>inf</td>\n",
       "    </tr>\n",
       "    <tr>\n",
       "      <th>burr</th>\n",
       "      <td>11.810266</td>\n",
       "      <td>448.060215</td>\n",
       "      <td>-1389.546063</td>\n",
       "      <td>inf</td>\n",
       "    </tr>\n",
       "    <tr>\n",
       "      <th>kappa3</th>\n",
       "      <td>13.815300</td>\n",
       "      <td>436.475021</td>\n",
       "      <td>-1332.660196</td>\n",
       "      <td>inf</td>\n",
       "    </tr>\n",
       "  </tbody>\n",
       "</table>\n",
       "</div>"
      ],
      "text/plain": [
       "         sumsquare_error         aic          bic  kl_div\n",
       "burr12          8.346116  471.126774 -1528.762400     inf\n",
       "mielke          8.352463  433.656564 -1528.457559     inf\n",
       "lognorm         8.578772  425.866815 -1523.731063     inf\n",
       "burr           11.810266  448.060215 -1389.546063     inf\n",
       "kappa3         13.815300  436.475021 -1332.660196     inf"
      ]
     },
     "execution_count": 16,
     "metadata": {},
     "output_type": "execute_result"
    },
    {
     "data": {
      "image/png": "[encoded data removed]",
      "text/plain": [
       "<Figure size 432x288 with 1 Axes>"
      ]
     },
     "metadata": {
      "needs_background": "light"
     },
     "output_type": "display_data"
    }
   ],
   "source": [
    "fl = Fitter(np.sort(floc.lead_ug_g.dropna().values)[5:-5], distributions=DOI, timeout=60)\n",
    "fl.fit()\n",
    "fl.summary()"
   ]
  },
  {
   "cell_type": "code",
   "execution_count": 17,
   "metadata": {},
   "outputs": [
    {
     "data": {
      "text/html": [
       "\n",
       "            <div style=\"float: left; border: 1px solid black; width:500px\">\n",
       "              <div id=\"f5344190-07ae-4b4c-9797-af2537d28740\" style=\"background-color:blue; width:0%\">&nbsp;</div>\n",
       "            </div>\n",
       "            <label id=\"3f590ca6-6af0-43cb-9a61-0fb68ae1d1e0\" style=\"padding-left: 10px;\" text = \"\"/>\n",
       "            "
      ],
      "text/plain": [
       "<IPython.core.display.HTML object>"
      ]
     },
     "metadata": {},
     "output_type": "display_data"
    },
    {
     "name": "stdout",
     "output_type": "stream",
     "text": [
      "{'lognorm': (1.0283536343075548, -0.00375393338877548, 0.0847535831509407)}\n"
     ]
    },
    {
     "data": {
      "image/png": "[encoded data removed]",
      "text/plain": [
       "<Figure size 432x288 with 1 Axes>"
      ]
     },
     "metadata": {
      "needs_background": "light"
     },
     "output_type": "display_data"
    }
   ],
   "source": [
    "fa_n = Fitter(np.sort(floc.arsenic_ug_g.dropna().values)[5:-5], distributions=\"lognorm\", timeout=60)\n",
    "fa_n.fit()\n",
    "fa_n.summary()\n",
    "print(fa_n.fitted_param)"
   ]
  },
  {
   "cell_type": "code",
   "execution_count": 18,
   "metadata": {},
   "outputs": [
    {
     "data": {
      "text/html": [
       "\n",
       "            <div style=\"float: left; border: 1px solid black; width:500px\">\n",
       "              <div id=\"298e37f8-8228-4a46-ad7e-af2d1a1a44ef\" style=\"background-color:blue; width:0%\">&nbsp;</div>\n",
       "            </div>\n",
       "            <label id=\"e0b64870-fe0a-424c-a8a9-9d846dab21cb\" style=\"padding-left: 10px;\" text = \"\"/>\n",
       "            "
      ],
      "text/plain": [
       "<IPython.core.display.HTML object>"
      ]
     },
     "metadata": {},
     "output_type": "display_data"
    },
    {
     "name": "stdout",
     "output_type": "stream",
     "text": [
      "{'lognorm': (1.068046255645124, 0.0007842672443029607, 0.03699750123224785)}\n"
     ]
    },
    {
     "data": {
      "image/png": "[encoded data removed]",
      "text/plain": [
       "<Figure size 432x288 with 1 Axes>"
      ]
     },
     "metadata": {
      "needs_background": "light"
     },
     "output_type": "display_data"
    }
   ],
   "source": [
    "fc_n = Fitter(np.sort(floc.cadmium_ug_g.dropna().values)[5:-5], distributions=\"lognorm\", timeout=60)\n",
    "fc_n.fit()\n",
    "fc_n.summary()\n",
    "print(fc_n.fitted_param)\n"
   ]
  },
  {
   "cell_type": "code",
   "execution_count": 19,
   "metadata": {},
   "outputs": [
    {
     "data": {
      "text/html": [
       "\n",
       "            <div style=\"float: left; border: 1px solid black; width:500px\">\n",
       "              <div id=\"5e064106-1331-40c7-b9fd-16dcba7aba31\" style=\"background-color:blue; width:0%\">&nbsp;</div>\n",
       "            </div>\n",
       "            <label id=\"205c47e0-b469-46da-9749-2eebad7b3f34\" style=\"padding-left: 10px;\" text = \"\"/>\n",
       "            "
      ],
      "text/plain": [
       "<IPython.core.display.HTML object>"
      ]
     },
     "metadata": {},
     "output_type": "display_data"
    },
    {
     "name": "stdout",
     "output_type": "stream",
     "text": [
      "{'lognorm': (0.3601728175618527, -0.010397220328360945, 0.01925114042084152)}\n"
     ]
    },
    {
     "data": {
      "image/png": "[encoded data removed]",
      "text/plain": [
       "<Figure size 432x288 with 1 Axes>"
      ]
     },
     "metadata": {
      "needs_background": "light"
     },
     "output_type": "display_data"
    }
   ],
   "source": [
    "fm_n = Fitter(np.sort(floc.mercury_ug_g.dropna().values)[5:-5], distributions=\"lognorm\", timeout=60)\n",
    "fm_n.fit()\n",
    "fm_n.summary()\n",
    "print(fm_n.fitted_param)"
   ]
  },
  {
   "cell_type": "code",
   "execution_count": 20,
   "metadata": {},
   "outputs": [
    {
     "data": {
      "text/html": [
       "\n",
       "            <div style=\"float: left; border: 1px solid black; width:500px\">\n",
       "              <div id=\"16357f9c-7839-4e00-9675-195dfcb69684\" style=\"background-color:blue; width:0%\">&nbsp;</div>\n",
       "            </div>\n",
       "            <label id=\"224269f2-6060-465c-b681-6b29ce06f67f\" style=\"padding-left: 10px;\" text = \"\"/>\n",
       "            "
      ],
      "text/plain": [
       "<IPython.core.display.HTML object>"
      ]
     },
     "metadata": {},
     "output_type": "display_data"
    },
    {
     "name": "stdout",
     "output_type": "stream",
     "text": [
      "{'lognorm': (1.5424875058480971, 0.00578299402671372, 0.07666114739180264)}\n"
     ]
    },
    {
     "data": {
      "image/png": "[encoded data removed]",
      "text/plain": [
       "<Figure size 432x288 with 1 Axes>"
      ]
     },
     "metadata": {
      "needs_background": "light"
     },
     "output_type": "display_data"
    }
   ],
   "source": [
    "fl_n = Fitter(np.sort(floc.lead_ug_g.dropna().values)[5:-5], distributions=\"lognorm\", timeout=60)\n",
    "fl_n.fit()\n",
    "fl_n.summary()\n",
    "print(fl_n.fitted_param)"
   ]
  },
  {
   "cell_type": "code",
   "execution_count": 21,
   "metadata": {},
   "outputs": [
    {
     "data": {
      "text/plain": [
       "[(0.0, 2.0), (0.0, 200.0)]"
      ]
     },
     "execution_count": 21,
     "metadata": {},
     "output_type": "execute_result"
    },
    {
     "data": {
      "image/png": "[encoded data removed]",
      "text/plain": [
       "<Figure size 432x288 with 1 Axes>"
      ]
     },
     "metadata": {
      "needs_background": "light"
     },
     "output_type": "display_data"
    }
   ],
   "source": [
    "g = sb.histplot(np.sort(floc.lead_ug_g.dropna().values)[5:-5], binrange=(0,3))\n",
    "g.set(xlim=[0,2], ylim=[0,200])"
   ]
  },
  {
   "cell_type": "code",
   "execution_count": 22,
   "metadata": {},
   "outputs": [
    {
     "data": {
      "text/plain": [
       "[(0.0, 2.0), (0.0, 200.0)]"
      ]
     },
     "execution_count": 22,
     "metadata": {},
     "output_type": "execute_result"
    },
    {
     "data": {
      "image/png": "[encoded data removed]",
      "text/plain": [
       "<Figure size 432x288 with 1 Axes>"
      ]
     },
     "metadata": {
      "needs_background": "light"
     },
     "output_type": "display_data"
    }
   ],
   "source": [
    "g = sb.histplot(lognorm.rvs(1.5424875058481, 0.00578299402671, 0.07666114739180, 500), binrange=(0,3))\n",
    "g.set(xlim=[0,2], ylim=[0,200])"
   ]
  },
  {
   "cell_type": "code",
   "execution_count": 23,
   "metadata": {},
   "outputs": [
    {
     "data": {
      "text/plain": [
       "[(0.0, 2.0), (0.0, 3.0)]"
      ]
     },
     "execution_count": 23,
     "metadata": {},
     "output_type": "execute_result"
    },
    {
     "data": {
      "image/png": "[encoded data removed]",
      "text/plain": [
       "<Figure size 432x288 with 1 Axes>"
      ]
     },
     "metadata": {
      "needs_background": "light"
     },
     "output_type": "display_data"
    }
   ],
   "source": [
    "g = sb.kdeplot(np.sort(floc.lead_ug_g.dropna().values)[5:-5])\n",
    "g.set(xlim=[0,2], ylim=[0,3])"
   ]
  },
  {
   "cell_type": "code",
   "execution_count": 24,
   "metadata": {},
   "outputs": [
    {
     "data": {
      "text/plain": [
       "[(0.0, 2.0), (0.0, 3.0)]"
      ]
     },
     "execution_count": 24,
     "metadata": {},
     "output_type": "execute_result"
    },
    {
     "data": {
      "image/png": "[encoded data removed]",
      "text/plain": [
       "<Figure size 432x288 with 1 Axes>"
      ]
     },
     "metadata": {
      "needs_background": "light"
     },
     "output_type": "display_data"
    }
   ],
   "source": [
    "g = sb.kdeplot(lognorm.rvs(1.5424875058481, 0.00578299402671, 0.07666114739180, 500))\n",
    "g.set(xlim=[0,2], ylim=[0,3])"
   ]
  },
  {
   "cell_type": "code",
   "execution_count": 25,
   "metadata": {},
   "outputs": [],
   "source": [
    "d2 = pd.read_excel(\"data2a.xlsx\", header = 1, na_values=\"ND\")"
   ]
  },
  {
   "cell_type": "code",
   "execution_count": 26,
   "metadata": {},
   "outputs": [
    {
     "name": "stdout",
     "output_type": "stream",
     "text": [
      "<class 'pandas.core.frame.DataFrame'>\n",
      "RangeIndex: 1884 entries, 0 to 1883\n",
      "Data columns (total 26 columns):\n",
      " #   Column                             Non-Null Count  Dtype         \n",
      "---  ------                             --------------  -----         \n",
      " 0   client_id                          1884 non-null   int64         \n",
      " 1   Category                           1884 non-null   object        \n",
      " 2   Type                               1884 non-null   object        \n",
      " 3   Date Completed                     1884 non-null   datetime64[ns]\n",
      " 4   Metals Status                      1884 non-null   object        \n",
      " 5   arsenic                            1318 non-null   float64       \n",
      " 6   cadmium                            1240 non-null   float64       \n",
      " 7   lead                               1331 non-null   float64       \n",
      " 8   mercury                            251 non-null    float64       \n",
      " 9   Unnamed: 9                         0 non-null      float64       \n",
      " 10  Arsenic                            1884 non-null   int64         \n",
      " 11  Cadmium                            1884 non-null   int64         \n",
      " 12  Lead                               1884 non-null   int64         \n",
      " 13  Mercury                            1884 non-null   int64         \n",
      " 14  Unnamed: 14                        0 non-null      float64       \n",
      " 15  All analytes below action limits?  1884 non-null   object        \n",
      " 16  Unnamed: 16                        0 non-null      float64       \n",
      " 17  Arsenic_LOD                        1884 non-null   int64         \n",
      " 18  Cadmium_LOD                        1884 non-null   int64         \n",
      " 19  Lead_LOD                           1884 non-null   int64         \n",
      " 20  Mercury_LOD                        1884 non-null   int64         \n",
      " 21  Unnamed: 21                        0 non-null      float64       \n",
      " 22  Arsenic_LOQ                        1884 non-null   int64         \n",
      " 23  Cadmium_LOQ                        1884 non-null   int64         \n",
      " 24  Lead_LOQ                           1884 non-null   int64         \n",
      " 25  Mercury_LOQ                        1884 non-null   int64         \n",
      "dtypes: datetime64[ns](1), float64(8), int64(13), object(4)\n",
      "memory usage: 382.8+ KB\n"
     ]
    }
   ],
   "source": [
    "d2.info()"
   ]
  },
  {
   "cell_type": "code",
   "execution_count": 27,
   "metadata": {},
   "outputs": [],
   "source": [
    "rng = default_rng()"
   ]
  },
  {
   "cell_type": "code",
   "execution_count": 28,
   "metadata": {},
   "outputs": [],
   "source": [
    "def filler_m(mercury, Mercury_LOD):\n",
    "    if np.isnan(mercury):\n",
    "        mercury = rng.uniform(low = 0, high = Mercury_LOD)\n",
    "    return mercury\n",
    "    \n"
   ]
  },
  {
   "cell_type": "code",
   "execution_count": 29,
   "metadata": {},
   "outputs": [],
   "source": [
    "def filler_a(arsenic, Arsenic_LOD):\n",
    "    if np.isnan(arsenic):\n",
    "        arsenic = rng.uniform(low = 0, high = Arsenic_LOD)\n",
    "    return arsenic"
   ]
  },
  {
   "cell_type": "code",
   "execution_count": 30,
   "metadata": {},
   "outputs": [],
   "source": [
    "def filler_c(cadmium, Cadmium_LOD):\n",
    "    if np.isnan(cadmium):\n",
    "        cadmium = rng.uniform(low = 0, high = Cadmium_LOD)\n",
    "    return cadmium"
   ]
  },
  {
   "cell_type": "code",
   "execution_count": 31,
   "metadata": {},
   "outputs": [],
   "source": [
    "def filler_l(lead, Lead_LOD):\n",
    "    if np.isnan(lead):\n",
    "        lead = rng.uniform(low = 0, high = Lead_LOD)\n",
    "    return lead"
   ]
  },
  {
   "cell_type": "code",
   "execution_count": 32,
   "metadata": {},
   "outputs": [],
   "source": [
    "# d2t = d2.iloc[:,5:9].copy()/1000\n",
    "d2t = d2.select_dtypes(exclude=['object', \"datetime\"]).copy()/1000\n",
    "d2t[\"mercury\"] = d2t.apply(lambda x: filler_m(x['mercury'],x['Mercury_LOD']),axis=1)\n",
    "d2t[\"lead\"] = d2t.apply(lambda x: filler_l(x['lead'],x['Lead_LOD']),axis=1)\n",
    "d2t[\"cadmium\"] = d2t.apply(lambda x: filler_c(x['cadmium'],x['Cadmium_LOD']),axis=1)\n",
    "d2t[\"arsenic\"] = d2t.apply(lambda x: filler_a(x['arsenic'],x['Arsenic_LOD']),axis=1)"
   ]
  },
  {
   "cell_type": "code",
   "execution_count": 33,
   "metadata": {},
   "outputs": [],
   "source": [
    "d2t.iloc[:,1:5].to_csv(\"cali_data.csv\", index=None)"
   ]
  },
  {
   "cell_type": "code",
   "execution_count": 34,
   "metadata": {},
   "outputs": [
    {
     "name": "stdout",
     "output_type": "stream",
     "text": [
      "<class 'pandas.core.frame.DataFrame'>\n",
      "RangeIndex: 1884 entries, 0 to 1883\n",
      "Data columns (total 21 columns):\n",
      " #   Column       Non-Null Count  Dtype  \n",
      "---  ------       --------------  -----  \n",
      " 0   client_id    1884 non-null   float64\n",
      " 1   arsenic      1884 non-null   float64\n",
      " 2   cadmium      1884 non-null   float64\n",
      " 3   lead         1884 non-null   float64\n",
      " 4   mercury      1884 non-null   float64\n",
      " 5   Unnamed: 9   0 non-null      float64\n",
      " 6   Arsenic      1884 non-null   float64\n",
      " 7   Cadmium      1884 non-null   float64\n",
      " 8   Lead         1884 non-null   float64\n",
      " 9   Mercury      1884 non-null   float64\n",
      " 10  Unnamed: 14  0 non-null      float64\n",
      " 11  Unnamed: 16  0 non-null      float64\n",
      " 12  Arsenic_LOD  1884 non-null   float64\n",
      " 13  Cadmium_LOD  1884 non-null   float64\n",
      " 14  Lead_LOD     1884 non-null   float64\n",
      " 15  Mercury_LOD  1884 non-null   float64\n",
      " 16  Unnamed: 21  0 non-null      float64\n",
      " 17  Arsenic_LOQ  1884 non-null   float64\n",
      " 18  Cadmium_LOQ  1884 non-null   float64\n",
      " 19  Lead_LOQ     1884 non-null   float64\n",
      " 20  Mercury_LOQ  1884 non-null   float64\n",
      "dtypes: float64(21)\n",
      "memory usage: 309.2 KB\n"
     ]
    }
   ],
   "source": [
    "d2t.info()"
   ]
  },
  {
   "cell_type": "code",
   "execution_count": 35,
   "metadata": {},
   "outputs": [
    {
     "data": {
      "text/html": [
       "\n",
       "            <div style=\"float: left; border: 1px solid black; width:500px\">\n",
       "              <div id=\"f2ac96ae-6da0-4100-a7c9-c994f8f2b93d\" style=\"background-color:blue; width:0%\">&nbsp;</div>\n",
       "            </div>\n",
       "            <label id=\"a2689354-2898-4000-9a27-c18de3fad9ad\" style=\"padding-left: 10px;\" text = \"\"/>\n",
       "            "
      ],
      "text/plain": [
       "<IPython.core.display.HTML object>"
      ]
     },
     "metadata": {},
     "output_type": "display_data"
    },
    {
     "data": {
      "image/png": "[encoded data removed]",
      "text/plain": [
       "<Figure size 432x288 with 1 Axes>"
      ]
     },
     "metadata": {
      "needs_background": "light"
     },
     "output_type": "display_data"
    },
    {
     "name": "stdout",
     "output_type": "stream",
     "text": [
      "{'lognorm': (1.2973193079492664, -0.0008669116053331418, 0.02974112971457259)}\n"
     ]
    },
    {
     "data": {
      "text/html": [
       "\n",
       "            <div style=\"float: left; border: 1px solid black; width:500px\">\n",
       "              <div id=\"685f036c-f9aa-45b8-b99a-364179563d1f\" style=\"background-color:blue; width:0%\">&nbsp;</div>\n",
       "            </div>\n",
       "            <label id=\"762b9f5a-2b4d-42ca-a13c-5e766ff261ce\" style=\"padding-left: 10px;\" text = \"\"/>\n",
       "            "
      ],
      "text/plain": [
       "<IPython.core.display.HTML object>"
      ]
     },
     "metadata": {},
     "output_type": "display_data"
    },
    {
     "data": {
      "image/png": "[encoded data removed]",
      "text/plain": [
       "<Figure size 432x288 with 1 Axes>"
      ]
     },
     "metadata": {
      "needs_background": "light"
     },
     "output_type": "display_data"
    },
    {
     "name": "stdout",
     "output_type": "stream",
     "text": [
      "{'lognorm': (2.0225630864216604, 3.326195563888346e-05, 0.009283953901894558)}\n"
     ]
    },
    {
     "data": {
      "text/html": [
       "\n",
       "            <div style=\"float: left; border: 1px solid black; width:500px\">\n",
       "              <div id=\"705278b5-903f-4993-95f3-b3dd4385a956\" style=\"background-color:blue; width:0%\">&nbsp;</div>\n",
       "            </div>\n",
       "            <label id=\"e7928bc9-b4dd-413e-985d-e95de56d752b\" style=\"padding-left: 10px;\" text = \"\"/>\n",
       "            "
      ],
      "text/plain": [
       "<IPython.core.display.HTML object>"
      ]
     },
     "metadata": {},
     "output_type": "display_data"
    },
    {
     "data": {
      "image/png": "[encoded data removed]",
      "text/plain": [
       "<Figure size 432x288 with 1 Axes>"
      ]
     },
     "metadata": {
      "needs_background": "light"
     },
     "output_type": "display_data"
    },
    {
     "name": "stdout",
     "output_type": "stream",
     "text": [
      "{'lognorm': (1.9893563550986824, 1.651889691136442e-05, 0.013844754645114251)}\n"
     ]
    },
    {
     "data": {
      "text/html": [
       "\n",
       "            <div style=\"float: left; border: 1px solid black; width:500px\">\n",
       "              <div id=\"c624599a-c3e9-40ac-922a-b2c44fd33d44\" style=\"background-color:blue; width:0%\">&nbsp;</div>\n",
       "            </div>\n",
       "            <label id=\"d41ffa70-f0a2-47fe-8e98-1df9e1f9fe31\" style=\"padding-left: 10px;\" text = \"\"/>\n",
       "            "
      ],
      "text/plain": [
       "<IPython.core.display.HTML object>"
      ]
     },
     "metadata": {},
     "output_type": "display_data"
    },
    {
     "name": "stdout",
     "output_type": "stream",
     "text": [
      "{'lognorm': (1.0517427867403955, -0.00025904764617653284, 0.004750576667086431)}\n"
     ]
    },
    {
     "data": {
      "image/png": "[encoded data removed]",
      "text/plain": [
       "<Figure size 432x288 with 1 Axes>"
      ]
     },
     "metadata": {
      "needs_background": "light"
     },
     "output_type": "display_data"
    }
   ],
   "source": [
    "fa_n2 = Fitter(np.sort(d2t.arsenic.dropna().values)[5:-5], distributions=\"lognorm\", timeout=60)\n",
    "fa_n2.fit()\n",
    "fa_n2.summary()\n",
    "plt.show()\n",
    "print(fa_n2.fitted_param)\n",
    "fc_n2 = Fitter(np.sort(d2t.cadmium.dropna().values)[5:-5], distributions=\"lognorm\", timeout=60)\n",
    "fc_n2.fit()\n",
    "fc_n2.summary()\n",
    "plt.show()\n",
    "print(fc_n2.fitted_param)\n",
    "fl_n2 = Fitter(np.sort(d2t.lead.dropna().values)[5:-5], distributions=\"lognorm\", timeout=60)\n",
    "fl_n2.fit()\n",
    "fl_n2.summary()\n",
    "plt.show()\n",
    "print(fl_n2.fitted_param)\n",
    "fm_n2 = Fitter(np.sort(d2t.mercury.dropna().values)[5:-5], distributions=\"lognorm\", timeout=60)\n",
    "fm_n2.fit()\n",
    "fm_n2.summary()\n",
    "print(fm_n2.fitted_param)\n",
    "plt.show()"
   ]
  },
  {
   "cell_type": "code",
   "execution_count": 36,
   "metadata": {},
   "outputs": [
    {
     "data": {
      "text/html": [
       "\n",
       "            <div style=\"float: left; border: 1px solid black; width:500px\">\n",
       "              <div id=\"62031ba9-dbdd-4ad2-9c01-57efec8998fc\" style=\"background-color:blue; width:0%\">&nbsp;</div>\n",
       "            </div>\n",
       "            <label id=\"41a03b98-3a61-47d0-9626-6946bb8081a4\" style=\"padding-left: 10px;\" text = \"\"/>\n",
       "            "
      ],
      "text/plain": [
       "<IPython.core.display.HTML object>"
      ]
     },
     "metadata": {},
     "output_type": "display_data"
    },
    {
     "name": "stdout",
     "output_type": "stream",
     "text": [
      "{'lognorm': (2.0225630864216604, 3.326195563888346e-05, 0.009283953901894558)}\n"
     ]
    },
    {
     "data": {
      "image/png": "[encoded data removed]",
      "text/plain": [
       "<Figure size 432x288 with 1 Axes>"
      ]
     },
     "metadata": {
      "needs_background": "light"
     },
     "output_type": "display_data"
    }
   ],
   "source": [
    "fc_n2 = Fitter(np.sort(d2t.cadmium.dropna().values)[5:-5], distributions=\"lognorm\", timeout=60)\n",
    "fc_n2.fit()\n",
    "fc_n2.summary()\n",
    "print(fc_n2.fitted_param)"
   ]
  },
  {
   "cell_type": "code",
   "execution_count": 37,
   "metadata": {},
   "outputs": [],
   "source": [
    "test_gen = np.random.default_rng()\n",
    "test_cad = test_gen.lognormal()\n"
   ]
  },
  {
   "cell_type": "code",
   "execution_count": 38,
   "metadata": {},
   "outputs": [
    {
     "name": "stdout",
     "output_type": "stream",
     "text": [
      "['__class__', '__delattr__', '__dict__', '__dir__', '__doc__', '__eq__', '__format__', '__ge__', '__getattribute__', '__gt__', '__hash__', '__init__', '__init_subclass__', '__le__', '__lt__', '__module__', '__ne__', '__new__', '__reduce__', '__reduce_ex__', '__repr__', '__setattr__', '__sizeof__', '__str__', '__subclasshook__', '__weakref__', '_aic', '_alldata', '_bic', '_data', '_density', '_fitted_errors', '_get_xmax', '_get_xmin', '_init', '_kldiv', '_load_all_distributions', '_set_xmax', '_set_xmin', '_timed_run', '_trim_data', '_update_data_pdf', '_xmax', '_xmin', 'bins', 'df_errors', 'distributions', 'fit', 'fitted_param', 'fitted_pdf', 'get_best', 'hist', 'plot_pdf', 'summary', 'timeout', 'x', 'xmax', 'xmin', 'y']\n"
     ]
    }
   ],
   "source": [
    "print(dir(fc_n2))"
   ]
  },
  {
   "cell_type": "code",
   "execution_count": 39,
   "metadata": {},
   "outputs": [
    {
     "data": {
      "image/png": "[encoded data removed]",
      "text/plain": [
       "<Figure size 432x288 with 1 Axes>"
      ]
     },
     "metadata": {
      "needs_background": "light"
     },
     "output_type": "display_data"
    }
   ],
   "source": [
    "fc_n2.plot_pdf()"
   ]
  },
  {
   "cell_type": "code",
   "execution_count": 40,
   "metadata": {},
   "outputs": [
    {
     "data": {
      "text/plain": [
       "{'lognorm': array([2.27003064e+01, 6.64998563e+00, 3.39799430e+00, 2.10868860e+00,\n",
       "        1.45011157e+00, 1.06351404e+00, 8.15420460e-01, 6.45958801e-01,\n",
       "        5.24720365e-01, 4.34818387e-01, 3.66219534e-01, 3.12637431e-01,\n",
       "        2.69960751e-01, 2.35403716e-01, 2.07021668e-01, 1.83422186e-01,\n",
       "        1.63586148e-01, 1.46753233e-01, 1.32346556e-01, 1.19921803e-01,\n",
       "        1.09132163e-01, 9.97036472e-02, 9.14174291e-02, 8.40970010e-02,\n",
       "        7.75986965e-02, 7.18046065e-02, 6.66172205e-02, 6.19553276e-02,\n",
       "        5.77508488e-02, 5.39463664e-02, 5.04931802e-02, 4.73497655e-02,\n",
       "        4.44805402e-02, 4.18548731e-02, 3.94462797e-02, 3.72317666e-02,\n",
       "        3.51912941e-02, 3.33073324e-02, 3.15644945e-02, 2.99492293e-02,\n",
       "        2.84495656e-02, 2.70548964e-02, 2.57557969e-02, 2.45438699e-02,\n",
       "        2.34116151e-02, 2.23523163e-02, 2.13599456e-02, 2.04290804e-02,\n",
       "        1.95548326e-02, 1.87327863e-02, 1.79589446e-02, 1.72296829e-02,\n",
       "        1.65417079e-02, 1.58920227e-02, 1.52778947e-02, 1.46968289e-02,\n",
       "        1.41465430e-02, 1.36249469e-02, 1.31301228e-02, 1.26603092e-02,\n",
       "        1.22138856e-02, 1.17893593e-02, 1.13853537e-02, 1.10005974e-02,\n",
       "        1.06339149e-02, 1.02842182e-02, 9.95049901e-03, 9.63182191e-03,\n",
       "        9.32731816e-03, 9.03618011e-03, 8.75765617e-03, 8.49104619e-03,\n",
       "        8.23569736e-03, 7.99100044e-03, 7.75638630e-03, 7.53132286e-03,\n",
       "        7.31531223e-03, 7.10788813e-03, 6.90861352e-03, 6.71707846e-03,\n",
       "        6.53289812e-03, 6.35571095e-03, 6.18517709e-03, 6.02097675e-03,\n",
       "        5.86280889e-03, 5.71038986e-03, 5.56345230e-03, 5.42174394e-03,\n",
       "        5.28502669e-03, 5.15307564e-03, 5.02567822e-03, 4.90263341e-03,\n",
       "        4.78375100e-03, 4.66885090e-03, 4.55776250e-03, 4.45032410e-03,\n",
       "        4.34638235e-03, 4.24579173e-03, 4.14841411e-03, 4.05411830e-03])}"
      ]
     },
     "execution_count": 40,
     "metadata": {},
     "output_type": "execute_result"
    }
   ],
   "source": [
    "fc_n2.fitted_pdf"
   ]
  },
  {
   "cell_type": "code",
   "execution_count": 41,
   "metadata": {},
   "outputs": [],
   "source": [
    "gen_c = stats.lognorm.rvs(1.9846025079524758, 5.304799853999842e-05, 0.009563024395780918, size=2000)"
   ]
  },
  {
   "cell_type": "code",
   "execution_count": 42,
   "metadata": {},
   "outputs": [
    {
     "data": {
      "text/plain": [
       "(0.0, 0.2)"
      ]
     },
     "execution_count": 42,
     "metadata": {},
     "output_type": "execute_result"
    },
    {
     "data": {
      "image/png": "[encoded data removed]",
      "text/plain": [
       "<Figure size 432x288 with 1 Axes>"
      ]
     },
     "metadata": {
      "needs_background": "light"
     },
     "output_type": "display_data"
    }
   ],
   "source": [
    "g= sb.boxplot(y=d2t.cadmium.values)\n",
    "g.set_ylim([0,0.2])"
   ]
  },
  {
   "cell_type": "code",
   "execution_count": 43,
   "metadata": {},
   "outputs": [
    {
     "data": {
      "text/plain": [
       "(0.0, 0.2)"
      ]
     },
     "execution_count": 43,
     "metadata": {},
     "output_type": "execute_result"
    },
    {
     "data": {
      "image/png": "[encoded data removed]",
      "text/plain": [
       "<Figure size 432x288 with 1 Axes>"
      ]
     },
     "metadata": {
      "needs_background": "light"
     },
     "output_type": "display_data"
    }
   ],
   "source": [
    "g= sb.boxplot(y=gen_c)\n",
    "g.set_ylim([0,0.2])"
   ]
  },
  {
   "cell_type": "code",
   "execution_count": 44,
   "metadata": {},
   "outputs": [
    {
     "data": {
      "text/html": [
       "\n",
       "            <div style=\"float: left; border: 1px solid black; width:500px\">\n",
       "              <div id=\"411dffb0-1a53-4eb2-9e8b-34a7462b30b5\" style=\"background-color:blue; width:0%\">&nbsp;</div>\n",
       "            </div>\n",
       "            <label id=\"ba8bb94e-8e3c-481a-b09e-3926c558b2f4\" style=\"padding-left: 10px;\" text = \"\"/>\n",
       "            "
      ],
      "text/plain": [
       "<IPython.core.display.HTML object>"
      ]
     },
     "metadata": {},
     "output_type": "display_data"
    },
    {
     "name": "stdout",
     "output_type": "stream",
     "text": [
      "            sumsquare_error          aic          bic  kl_div\n",
      "cauchy            40.405050  1095.887762 -7175.233375     inf\n",
      "loglaplace        67.862026   714.972595 -6195.987622     inf\n",
      "kappa3           130.727646   666.737092 -4967.319191     inf\n",
      "mielke           134.942638   660.350755 -4900.314473     inf\n",
      "lognorm          153.295296   703.461598 -4668.884721     inf\n",
      "{'loglaplace': (0.5978145793492331, -0.00011233855543594739, 0.006112351531167981), 'mielke': (1.1521070615577433, 0.7283931903522821, 3.740216763328488e-05, 0.0036535293540417243), 'kappa3': (0.7641265934395898, 3.784855158104172e-05, 0.007557365346713139), 'burr': (1.1627190762050936, 0.16624134533419574, 3.784864398729226e-05, 1.4622255660212642), 'burr12': (0.626495594487479, 3.026458535915199, 3.784864398729226e-05, 0.0981224001481216), 'lognorm': (2.0225630864216604, 3.326195563888346e-05, 0.009283953901894558), 'gamma': (0.18287202637044184, 3.784864398729226e-05, 1.260537993413231), 'expon': (3.7848643987292265e-05, 0.05214589985194813), 'cauchy': (0.0035267724887322062, 0.005378470772271299), 'exponpow': (0.2849643629388485, 3.784864398729226e-05, 0.5624613420068455)}\n"
     ]
    },
    {
     "data": {
      "image/png": "[encoded data removed]",
      "text/plain": [
       "<Figure size 432x288 with 1 Axes>"
      ]
     },
     "metadata": {
      "needs_background": "light"
     },
     "output_type": "display_data"
    }
   ],
   "source": [
    "fc_n2 = Fitter(np.sort(d2t.cadmium.dropna().values)[5:-5], distributions= DOI, timeout=60)\n",
    "fc_n2.fit()\n",
    "print(fc_n2.summary())\n",
    "print(fc_n2.fitted_param)"
   ]
  },
  {
   "cell_type": "code",
   "execution_count": 45,
   "metadata": {},
   "outputs": [
    {
     "name": "stdout",
     "output_type": "stream",
     "text": [
      "            sumsquare_error          aic          bic  kl_div\n",
      "cauchy            40.405050  1095.887762 -7175.233375     inf\n",
      "loglaplace        67.862026   714.972595 -6195.987622     inf\n",
      "kappa3           130.727646   666.737092 -4967.319191     inf\n",
      "mielke           134.942638   660.350755 -4900.314473     inf\n",
      "lognorm          153.295296   703.461598 -4668.884721     inf\n"
     ]
    },
    {
     "data": {
      "image/png": "[encoded data removed]",
      "text/plain": [
       "<Figure size 432x288 with 1 Axes>"
      ]
     },
     "metadata": {
      "needs_background": "light"
     },
     "output_type": "display_data"
    }
   ],
   "source": [
    "print(fc_n2.summary())"
   ]
  },
  {
   "cell_type": "code",
   "execution_count": 46,
   "metadata": {},
   "outputs": [],
   "source": [
    "gen_c = stats.cauchy.rvs(0.003553434318951407, 0.005381209623693551, size=2000)"
   ]
  },
  {
   "cell_type": "code",
   "execution_count": 47,
   "metadata": {},
   "outputs": [
    {
     "data": {
      "text/plain": [
       "(0.0, 0.2)"
      ]
     },
     "execution_count": 47,
     "metadata": {},
     "output_type": "execute_result"
    },
    {
     "data": {
      "image/png": "[encoded data removed]",
      "text/plain": [
       "<Figure size 432x288 with 1 Axes>"
      ]
     },
     "metadata": {
      "needs_background": "light"
     },
     "output_type": "display_data"
    }
   ],
   "source": [
    "g= sb.boxplot(y=gen_c)\n",
    "g.set_ylim([0,0.2])"
   ]
  },
  {
   "cell_type": "code",
   "execution_count": 48,
   "metadata": {},
   "outputs": [
    {
     "data": {
      "text/plain": [
       "(0.0, 0.2)"
      ]
     },
     "execution_count": 48,
     "metadata": {},
     "output_type": "execute_result"
    },
    {
     "data": {
      "image/png": "[encoded data removed]",
      "text/plain": [
       "<Figure size 432x288 with 1 Axes>"
      ]
     },
     "metadata": {
      "needs_background": "light"
     },
     "output_type": "display_data"
    }
   ],
   "source": [
    "g= sb.boxplot(y=d2t.cadmium.values)\n",
    "g.set_ylim([0,0.2])"
   ]
  },
  {
   "cell_type": "code",
   "execution_count": 49,
   "metadata": {},
   "outputs": [],
   "source": [
    "def booter(sample_count: int, dist: np.array) -> np.array:\n",
    "    boot_gen = np.random.default_rng()\n",
    "    sample = np.empty(sample_count)\n",
    "    for i in np.arange(0, sample_count):\n",
    "        ind = boot_gen.integers(0, len(dist)-1,size=1)\n",
    "        sample[i] = dist[ind].copy()\n",
    "    return sample\n",
    "\n",
    "\n"
   ]
  },
  {
   "cell_type": "code",
   "execution_count": 50,
   "metadata": {},
   "outputs": [],
   "source": [
    "draw = booter(len(d2t.cadmium.values), d2t.cadmium.values)\n"
   ]
  },
  {
   "cell_type": "code",
   "execution_count": 110,
   "metadata": {},
   "outputs": [],
   "source": [
    "test2 = pd.DataFrame({\"sim\":draw, \"real\":d2t.cadmium.values})"
   ]
  },
  {
   "cell_type": "code",
   "execution_count": 111,
   "metadata": {},
   "outputs": [
    {
     "data": {
      "text/plain": [
       "(0.0, 2.0)"
      ]
     },
     "execution_count": 111,
     "metadata": {},
     "output_type": "execute_result"
    },
    {
     "data": {
      "image/png": "[encoded data removed]",
      "text/plain": [
       "<Figure size 432x288 with 1 Axes>"
      ]
     },
     "metadata": {
      "needs_background": "light"
     },
     "output_type": "display_data"
    }
   ],
   "source": [
    "g = sb.histplot(data= test2.sim)\n",
    "g.set_xlim([0,2])"
   ]
  },
  {
   "cell_type": "code",
   "execution_count": 112,
   "metadata": {},
   "outputs": [
    {
     "data": {
      "text/plain": [
       "(0.0, 2.0)"
      ]
     },
     "execution_count": 112,
     "metadata": {},
     "output_type": "execute_result"
    },
    {
     "data": {
      "image/png": "[encoded data removed]",
      "text/plain": [
       "<Figure size 432x288 with 1 Axes>"
      ]
     },
     "metadata": {
      "needs_background": "light"
     },
     "output_type": "display_data"
    }
   ],
   "source": [
    "g = sb.histplot(data= test2.real)\n",
    "g.set_xlim([0,2])"
   ]
  },
  {
   "cell_type": "code",
   "execution_count": 113,
   "metadata": {},
   "outputs": [
    {
     "data": {
      "text/html": [
       "<div>\n",
       "<style scoped>\n",
       "    .dataframe tbody tr th:only-of-type {\n",
       "        vertical-align: middle;\n",
       "    }\n",
       "\n",
       "    .dataframe tbody tr th {\n",
       "        vertical-align: top;\n",
       "    }\n",
       "\n",
       "    .dataframe thead th {\n",
       "        text-align: right;\n",
       "    }\n",
       "</style>\n",
       "<table border=\"1\" class=\"dataframe\">\n",
       "  <thead>\n",
       "    <tr style=\"text-align: right;\">\n",
       "      <th></th>\n",
       "      <th>sim</th>\n",
       "      <th>real</th>\n",
       "    </tr>\n",
       "  </thead>\n",
       "  <tbody>\n",
       "    <tr>\n",
       "      <th>count</th>\n",
       "      <td>1884.000000</td>\n",
       "      <td>1884.000000</td>\n",
       "    </tr>\n",
       "    <tr>\n",
       "      <th>mean</th>\n",
       "      <td>0.066028</td>\n",
       "      <td>0.061607</td>\n",
       "    </tr>\n",
       "    <tr>\n",
       "      <th>std</th>\n",
       "      <td>0.288850</td>\n",
       "      <td>0.234712</td>\n",
       "    </tr>\n",
       "    <tr>\n",
       "      <th>min</th>\n",
       "      <td>0.000004</td>\n",
       "      <td>0.000004</td>\n",
       "    </tr>\n",
       "    <tr>\n",
       "      <th>25%</th>\n",
       "      <td>0.002099</td>\n",
       "      <td>0.002088</td>\n",
       "    </tr>\n",
       "    <tr>\n",
       "      <th>50%</th>\n",
       "      <td>0.006000</td>\n",
       "      <td>0.006000</td>\n",
       "    </tr>\n",
       "    <tr>\n",
       "      <th>75%</th>\n",
       "      <td>0.051250</td>\n",
       "      <td>0.050000</td>\n",
       "    </tr>\n",
       "    <tr>\n",
       "      <th>max</th>\n",
       "      <td>6.425000</td>\n",
       "      <td>6.425000</td>\n",
       "    </tr>\n",
       "  </tbody>\n",
       "</table>\n",
       "</div>"
      ],
      "text/plain": [
       "               sim         real\n",
       "count  1884.000000  1884.000000\n",
       "mean      0.066028     0.061607\n",
       "std       0.288850     0.234712\n",
       "min       0.000004     0.000004\n",
       "25%       0.002099     0.002088\n",
       "50%       0.006000     0.006000\n",
       "75%       0.051250     0.050000\n",
       "max       6.425000     6.425000"
      ]
     },
     "execution_count": 113,
     "metadata": {},
     "output_type": "execute_result"
    }
   ],
   "source": [
    "test2.describe()"
   ]
  },
  {
   "cell_type": "code",
   "execution_count": 114,
   "metadata": {},
   "outputs": [
    {
     "data": {
      "text/html": [
       "<div>\n",
       "<style scoped>\n",
       "    .dataframe tbody tr th:only-of-type {\n",
       "        vertical-align: middle;\n",
       "    }\n",
       "\n",
       "    .dataframe tbody tr th {\n",
       "        vertical-align: top;\n",
       "    }\n",
       "\n",
       "    .dataframe thead th {\n",
       "        text-align: right;\n",
       "    }\n",
       "</style>\n",
       "<table border=\"1\" class=\"dataframe\">\n",
       "  <thead>\n",
       "    <tr style=\"text-align: right;\">\n",
       "      <th></th>\n",
       "      <th>sim</th>\n",
       "      <th>real</th>\n",
       "      <th>t1</th>\n",
       "      <th>t2</th>\n",
       "      <th>t3</th>\n",
       "    </tr>\n",
       "  </thead>\n",
       "  <tbody>\n",
       "    <tr>\n",
       "      <th>count</th>\n",
       "      <td>1884.000000</td>\n",
       "      <td>1884.000000</td>\n",
       "      <td>1884.000000</td>\n",
       "      <td>1884.000000</td>\n",
       "      <td>1884.000000</td>\n",
       "    </tr>\n",
       "    <tr>\n",
       "      <th>mean</th>\n",
       "      <td>0.066028</td>\n",
       "      <td>0.061607</td>\n",
       "      <td>0.064095</td>\n",
       "      <td>0.065367</td>\n",
       "      <td>0.052659</td>\n",
       "    </tr>\n",
       "    <tr>\n",
       "      <th>std</th>\n",
       "      <td>0.288850</td>\n",
       "      <td>0.234712</td>\n",
       "      <td>0.239906</td>\n",
       "      <td>0.282833</td>\n",
       "      <td>0.198464</td>\n",
       "    </tr>\n",
       "    <tr>\n",
       "      <th>min</th>\n",
       "      <td>0.000004</td>\n",
       "      <td>0.000004</td>\n",
       "      <td>0.000012</td>\n",
       "      <td>0.000004</td>\n",
       "      <td>0.000012</td>\n",
       "    </tr>\n",
       "    <tr>\n",
       "      <th>25%</th>\n",
       "      <td>0.002099</td>\n",
       "      <td>0.002088</td>\n",
       "      <td>0.002312</td>\n",
       "      <td>0.002075</td>\n",
       "      <td>0.002000</td>\n",
       "    </tr>\n",
       "    <tr>\n",
       "      <th>50%</th>\n",
       "      <td>0.006000</td>\n",
       "      <td>0.006000</td>\n",
       "      <td>0.007000</td>\n",
       "      <td>0.006000</td>\n",
       "      <td>0.006000</td>\n",
       "    </tr>\n",
       "    <tr>\n",
       "      <th>75%</th>\n",
       "      <td>0.051250</td>\n",
       "      <td>0.050000</td>\n",
       "      <td>0.052000</td>\n",
       "      <td>0.045000</td>\n",
       "      <td>0.044000</td>\n",
       "    </tr>\n",
       "    <tr>\n",
       "      <th>max</th>\n",
       "      <td>6.425000</td>\n",
       "      <td>6.425000</td>\n",
       "      <td>6.425000</td>\n",
       "      <td>6.425000</td>\n",
       "      <td>6.425000</td>\n",
       "    </tr>\n",
       "  </tbody>\n",
       "</table>\n",
       "</div>"
      ],
      "text/plain": [
       "               sim         real           t1           t2           t3\n",
       "count  1884.000000  1884.000000  1884.000000  1884.000000  1884.000000\n",
       "mean      0.066028     0.061607     0.064095     0.065367     0.052659\n",
       "std       0.288850     0.234712     0.239906     0.282833     0.198464\n",
       "min       0.000004     0.000004     0.000012     0.000004     0.000012\n",
       "25%       0.002099     0.002088     0.002312     0.002075     0.002000\n",
       "50%       0.006000     0.006000     0.007000     0.006000     0.006000\n",
       "75%       0.051250     0.050000     0.052000     0.045000     0.044000\n",
       "max       6.425000     6.425000     6.425000     6.425000     6.425000"
      ]
     },
     "execution_count": 114,
     "metadata": {},
     "output_type": "execute_result"
    }
   ],
   "source": [
    "test2[\"t1\"] = booter(len(test2), d2t.cadmium.values)\n",
    "test2[\"t2\"] = booter(len(test2), d2t.cadmium.values)\n",
    "test2[\"t3\"] = booter(len(test2), d2t.cadmium.values)\n",
    "\n",
    "test2.describe()"
   ]
  },
  {
   "cell_type": "code",
   "execution_count": 115,
   "metadata": {},
   "outputs": [
    {
     "data": {
      "image/png": "[encoded data removed]",
      "text/plain": [
       "<Figure size 432x288 with 1 Axes>"
      ]
     },
     "metadata": {
      "needs_background": "light"
     },
     "output_type": "display_data"
    }
   ],
   "source": [
    "g = sb.boxplot(data=test2.iloc[:,1:])\n",
    "g.set_yscale(\"log\")"
   ]
  },
  {
   "cell_type": "code",
   "execution_count": 57,
   "metadata": {},
   "outputs": [
    {
     "name": "stdout",
     "output_type": "stream",
     "text": [
      "<class 'pandas.core.frame.DataFrame'>\n",
      "Int64Index: 453 entries, 0 to 1271\n",
      "Data columns (total 11 columns):\n",
      " #   Column               Non-Null Count  Dtype  \n",
      "---  ------               --------------  -----  \n",
      " 0   order_date_received  453 non-null    object \n",
      " 1   accessioning_type    453 non-null    object \n",
      " 2   sample_id            453 non-null    object \n",
      " 3   arsenic_ug_g         396 non-null    float64\n",
      " 4   cadmium_ug_g         442 non-null    float64\n",
      " 5   lead_ug_g            411 non-null    float64\n",
      " 6   mercury_ug_g         352 non-null    float64\n",
      " 7   Arsenic_LOD          453 non-null    float64\n",
      " 8   Cadmium_LOD          453 non-null    float64\n",
      " 9   Lead_LOD             453 non-null    float64\n",
      " 10  Mercury_LOD          453 non-null    float64\n",
      "dtypes: float64(8), object(3)\n",
      "memory usage: 42.5+ KB\n"
     ]
    }
   ],
   "source": [
    "floc.info()"
   ]
  },
  {
   "cell_type": "code",
   "execution_count": 58,
   "metadata": {},
   "outputs": [],
   "source": [
    "floc[\"mercury\"] = floc.apply(lambda x: filler_m(x['mercury_ug_g'],x['Mercury_LOD']),axis=1)\n",
    "floc[\"lead\"] = floc.apply(lambda x: filler_l(x['lead_ug_g'],x['Lead_LOD']),axis=1)\n",
    "floc[\"cadmium\"] = floc.apply(lambda x: filler_c(x['cadmium_ug_g'],x['Cadmium_LOD']),axis=1)\n",
    "floc[\"arsenic\"] = floc.apply(lambda x: filler_a(x['arsenic_ug_g'],x['Arsenic_LOD']),axis=1)\n",
    "floc.to_csv(\"wash_data.csv\", index=None)"
   ]
  },
  {
   "cell_type": "code",
   "execution_count": 59,
   "metadata": {},
   "outputs": [
    {
     "name": "stdout",
     "output_type": "stream",
     "text": [
      "<class 'pandas.core.frame.DataFrame'>\n",
      "Int64Index: 453 entries, 0 to 1271\n",
      "Data columns (total 15 columns):\n",
      " #   Column               Non-Null Count  Dtype  \n",
      "---  ------               --------------  -----  \n",
      " 0   order_date_received  453 non-null    object \n",
      " 1   accessioning_type    453 non-null    object \n",
      " 2   sample_id            453 non-null    object \n",
      " 3   arsenic_ug_g         396 non-null    float64\n",
      " 4   cadmium_ug_g         442 non-null    float64\n",
      " 5   lead_ug_g            411 non-null    float64\n",
      " 6   mercury_ug_g         352 non-null    float64\n",
      " 7   Arsenic_LOD          453 non-null    float64\n",
      " 8   Cadmium_LOD          453 non-null    float64\n",
      " 9   Lead_LOD             453 non-null    float64\n",
      " 10  Mercury_LOD          453 non-null    float64\n",
      " 11  mercury              453 non-null    float64\n",
      " 12  lead                 453 non-null    float64\n",
      " 13  cadmium              453 non-null    float64\n",
      " 14  arsenic              453 non-null    float64\n",
      "dtypes: float64(12), object(3)\n",
      "memory usage: 56.6+ KB\n"
     ]
    }
   ],
   "source": [
    "floc.info()"
   ]
  },
  {
   "cell_type": "code",
   "execution_count": 62,
   "metadata": {},
   "outputs": [
    {
     "name": "stdout",
     "output_type": "stream",
     "text": [
      "<class 'pandas.core.frame.DataFrame'>\n",
      "RangeIndex: 1884 entries, 0 to 1883\n",
      "Data columns (total 4 columns):\n",
      " #   Column   Non-Null Count  Dtype  \n",
      "---  ------   --------------  -----  \n",
      " 0   arsenic  1318 non-null   float64\n",
      " 1   cadmium  1240 non-null   float64\n",
      " 2   lead     1331 non-null   float64\n",
      " 3   mercury  251 non-null    float64\n",
      "dtypes: float64(4)\n",
      "memory usage: 59.0 KB\n"
     ]
    }
   ],
   "source": [
    "summa_w = floc.iloc[:,3:7]\n",
    "summa_c = d2.iloc[:,5:9]\n",
    "summa_c.info()"
   ]
  },
  {
   "cell_type": "code",
   "execution_count": 61,
   "metadata": {},
   "outputs": [
    {
     "name": "stdout",
     "output_type": "stream",
     "text": [
      "<class 'pandas.core.frame.DataFrame'>\n",
      "RangeIndex: 1884 entries, 0 to 1883\n",
      "Data columns (total 26 columns):\n",
      " #   Column                             Non-Null Count  Dtype         \n",
      "---  ------                             --------------  -----         \n",
      " 0   client_id                          1884 non-null   int64         \n",
      " 1   Category                           1884 non-null   object        \n",
      " 2   Type                               1884 non-null   object        \n",
      " 3   Date Completed                     1884 non-null   datetime64[ns]\n",
      " 4   Metals Status                      1884 non-null   object        \n",
      " 5   arsenic                            1318 non-null   float64       \n",
      " 6   cadmium                            1240 non-null   float64       \n",
      " 7   lead                               1331 non-null   float64       \n",
      " 8   mercury                            251 non-null    float64       \n",
      " 9   Unnamed: 9                         0 non-null      float64       \n",
      " 10  Arsenic                            1884 non-null   int64         \n",
      " 11  Cadmium                            1884 non-null   int64         \n",
      " 12  Lead                               1884 non-null   int64         \n",
      " 13  Mercury                            1884 non-null   int64         \n",
      " 14  Unnamed: 14                        0 non-null      float64       \n",
      " 15  All analytes below action limits?  1884 non-null   object        \n",
      " 16  Unnamed: 16                        0 non-null      float64       \n",
      " 17  Arsenic_LOD                        1884 non-null   int64         \n",
      " 18  Cadmium_LOD                        1884 non-null   int64         \n",
      " 19  Lead_LOD                           1884 non-null   int64         \n",
      " 20  Mercury_LOD                        1884 non-null   int64         \n",
      " 21  Unnamed: 21                        0 non-null      float64       \n",
      " 22  Arsenic_LOQ                        1884 non-null   int64         \n",
      " 23  Cadmium_LOQ                        1884 non-null   int64         \n",
      " 24  Lead_LOQ                           1884 non-null   int64         \n",
      " 25  Mercury_LOQ                        1884 non-null   int64         \n",
      "dtypes: datetime64[ns](1), float64(8), int64(13), object(4)\n",
      "memory usage: 382.8+ KB\n"
     ]
    }
   ],
   "source": [
    "d2.info()"
   ]
  },
  {
   "cell_type": "code",
   "execution_count": 85,
   "metadata": {},
   "outputs": [
    {
     "data": {
      "text/plain": [
       "arsenic    0.1000\n",
       "cadmium    0.0860\n",
       "lead       0.1040\n",
       "mercury    0.0345\n",
       "Name: 0.75, dtype: float64"
      ]
     },
     "execution_count": 85,
     "metadata": {},
     "output_type": "execute_result"
    }
   ],
   "source": [
    "# summa_c = summa_c/1000\n",
    "summa_c.quantile(.75, axis  =0)"
   ]
  },
  {
   "cell_type": "code",
   "execution_count": 89,
   "metadata": {},
   "outputs": [
    {
     "name": "stdout",
     "output_type": "stream",
     "text": [
      "<class 'pandas.core.frame.DataFrame'>\n",
      "Int64Index: 453 entries, 0 to 1271\n",
      "Data columns (total 4 columns):\n",
      " #   Column   Non-Null Count  Dtype  \n",
      "---  ------   --------------  -----  \n",
      " 0   mercury  453 non-null    float64\n",
      " 1   lead     453 non-null    float64\n",
      " 2   cadmium  453 non-null    float64\n",
      " 3   arsenic  453 non-null    float64\n",
      "dtypes: float64(4)\n",
      "memory usage: 17.7 KB\n"
     ]
    }
   ],
   "source": [
    "qc = d2t.iloc[:,1:5]\n",
    "qw = floc.iloc[:,11:]\n",
    "qw.info()"
   ]
  },
  {
   "cell_type": "code",
   "execution_count": 103,
   "metadata": {},
   "outputs": [
    {
     "data": {
      "text/plain": [
       "arsenic    0.19600\n",
       "cadmium    0.25685\n",
       "lead       0.29040\n",
       "mercury    0.01600\n",
       "Name: 0.95, dtype: float64"
      ]
     },
     "execution_count": 103,
     "metadata": {},
     "output_type": "execute_result"
    }
   ],
   "source": [
    "qc.quantile(.95, axis = 0)"
   ]
  },
  {
   "cell_type": "code",
   "execution_count": 116,
   "metadata": {},
   "outputs": [
    {
     "data": {
      "text/html": [
       "<div>\n",
       "<style scoped>\n",
       "    .dataframe tbody tr th:only-of-type {\n",
       "        vertical-align: middle;\n",
       "    }\n",
       "\n",
       "    .dataframe tbody tr th {\n",
       "        vertical-align: top;\n",
       "    }\n",
       "\n",
       "    .dataframe thead th {\n",
       "        text-align: right;\n",
       "    }\n",
       "</style>\n",
       "<table border=\"1\" class=\"dataframe\">\n",
       "  <thead>\n",
       "    <tr style=\"text-align: right;\">\n",
       "      <th></th>\n",
       "      <th>Arsenic_LOQ</th>\n",
       "      <th>Cadmium_LOQ</th>\n",
       "      <th>Lead_LOQ</th>\n",
       "      <th>Mercury_LOQ</th>\n",
       "    </tr>\n",
       "  </thead>\n",
       "  <tbody>\n",
       "    <tr>\n",
       "      <th>count</th>\n",
       "      <td>1884.000000</td>\n",
       "      <td>1884.000000</td>\n",
       "      <td>1884.000000</td>\n",
       "      <td>1884.000000</td>\n",
       "    </tr>\n",
       "    <tr>\n",
       "      <th>mean</th>\n",
       "      <td>0.037381</td>\n",
       "      <td>0.009277</td>\n",
       "      <td>0.009094</td>\n",
       "      <td>0.027826</td>\n",
       "    </tr>\n",
       "    <tr>\n",
       "      <th>std</th>\n",
       "      <td>0.017365</td>\n",
       "      <td>0.004453</td>\n",
       "      <td>0.003117</td>\n",
       "      <td>0.008460</td>\n",
       "    </tr>\n",
       "    <tr>\n",
       "      <th>min</th>\n",
       "      <td>0.009000</td>\n",
       "      <td>0.002000</td>\n",
       "      <td>0.004000</td>\n",
       "      <td>0.014000</td>\n",
       "    </tr>\n",
       "    <tr>\n",
       "      <th>25%</th>\n",
       "      <td>0.009000</td>\n",
       "      <td>0.002000</td>\n",
       "      <td>0.004000</td>\n",
       "      <td>0.014000</td>\n",
       "    </tr>\n",
       "    <tr>\n",
       "      <th>50%</th>\n",
       "      <td>0.048000</td>\n",
       "      <td>0.012000</td>\n",
       "      <td>0.011000</td>\n",
       "      <td>0.033000</td>\n",
       "    </tr>\n",
       "    <tr>\n",
       "      <th>75%</th>\n",
       "      <td>0.048000</td>\n",
       "      <td>0.012000</td>\n",
       "      <td>0.011000</td>\n",
       "      <td>0.033000</td>\n",
       "    </tr>\n",
       "    <tr>\n",
       "      <th>max</th>\n",
       "      <td>0.048000</td>\n",
       "      <td>0.012000</td>\n",
       "      <td>0.011000</td>\n",
       "      <td>0.033000</td>\n",
       "    </tr>\n",
       "  </tbody>\n",
       "</table>\n",
       "</div>"
      ],
      "text/plain": [
       "       Arsenic_LOQ  Cadmium_LOQ     Lead_LOQ  Mercury_LOQ\n",
       "count  1884.000000  1884.000000  1884.000000  1884.000000\n",
       "mean      0.037381     0.009277     0.009094     0.027826\n",
       "std       0.017365     0.004453     0.003117     0.008460\n",
       "min       0.009000     0.002000     0.004000     0.014000\n",
       "25%       0.009000     0.002000     0.004000     0.014000\n",
       "50%       0.048000     0.012000     0.011000     0.033000\n",
       "75%       0.048000     0.012000     0.011000     0.033000\n",
       "max       0.048000     0.012000     0.011000     0.033000"
      ]
     },
     "execution_count": 116,
     "metadata": {},
     "output_type": "execute_result"
    }
   ],
   "source": [
    "d2t.filter(like=\"LOQ\").describe()"
   ]
  },
  {
   "cell_type": "code",
   "execution_count": null,
   "metadata": {},
   "outputs": [],
   "source": []
  }
 ],
 "metadata": {
  "interpreter": {
   "hash": "825336a73a765582dd49ee93834ac958a804838af521fc7113c6a86e9a1c3068"
  },
  "kernelspec": {
   "display_name": "Python 3.7.12 ('Organigram')",
   "language": "python",
   "name": "python3"
  },
  "language_info": {
   "codemirror_mode": {
    "name": "ipython",
    "version": 3
   },
   "file_extension": ".py",
   "mimetype": "text/x-python",
   "name": "python",
   "nbconvert_exporter": "python",
   "pygments_lexer": "ipython3",
   "version": "3.7.12"
  },
  "orig_nbformat": 4
 },
 "nbformat": 4,
 "nbformat_minor": 2
}
