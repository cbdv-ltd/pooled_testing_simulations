{
 "cells": [
  {
   "cell_type": "code",
   "execution_count": 1,
   "metadata": {},
   "outputs": [],
   "source": [
    "import seaborn as sb\n",
    "import numpy as np\n",
    "import pandas as pd\n",
    "from scipy import stats\n",
    "from numpy.random import default_rng\n",
    "from numpy.random import SeedSequence\n",
    "\n"
   ]
  },
  {
   "cell_type": "code",
   "execution_count": 2,
   "metadata": {},
   "outputs": [
    {
     "name": "stdout",
     "output_type": "stream",
     "text": [
      "<class 'pandas.core.frame.DataFrame'>\n",
      "RangeIndex: 1275 entries, 0 to 1274\n",
      "Data columns (total 7 columns):\n",
      " #   Column               Non-Null Count  Dtype  \n",
      "---  ------               --------------  -----  \n",
      " 0   order_date_received  1274 non-null   object \n",
      " 1   accessioning_type    1275 non-null   object \n",
      " 2   sample_id            1275 non-null   object \n",
      " 3   arsenic_ug_g         885 non-null    float64\n",
      " 4   cadmium_ug_g         1072 non-null   float64\n",
      " 5   lead_ug_g            1097 non-null   float64\n",
      " 6   mercury_ug_g         961 non-null    float64\n",
      "dtypes: float64(4), object(3)\n",
      "memory usage: 69.9+ KB\n"
     ]
    }
   ],
   "source": [
    "data = pd.read_excel(\"metal_tests.xlsx\", na_values = \"ND\")\n",
    "data.info()\n",
    "data.to_csv(\"data.csv\")"
   ]
  },
  {
   "cell_type": "code",
   "execution_count": 3,
   "metadata": {},
   "outputs": [
    {
     "data": {
      "text/plain": [
       "0.107667    4\n",
       "0.028733    3\n",
       "0.123333    3\n",
       "0.021567    3\n",
       "0.121333    3\n",
       "           ..\n",
       "0.001767    1\n",
       "0.147000    1\n",
       "0.019967    1\n",
       "1.403333    1\n",
       "0.036667    1\n",
       "Name: lead_ug_g, Length: 945, dtype: int64"
      ]
     },
     "execution_count": 3,
     "metadata": {},
     "output_type": "execute_result"
    }
   ],
   "source": [
    "data.lead_ug_g.value_counts()"
   ]
  },
  {
   "cell_type": "code",
   "execution_count": 4,
   "metadata": {},
   "outputs": [],
   "source": [
    "flower = data.loc[(data.accessioning_type == \"Flower\") | (data.accessioning_type == \"Leaf/Mixed Plant Material\"),:].copy()"
   ]
  },
  {
   "cell_type": "code",
   "execution_count": 5,
   "metadata": {},
   "outputs": [
    {
     "name": "stdout",
     "output_type": "stream",
     "text": [
      "<class 'pandas.core.frame.DataFrame'>\n",
      "Int64Index: 453 entries, 0 to 1271\n",
      "Data columns (total 7 columns):\n",
      " #   Column               Non-Null Count  Dtype  \n",
      "---  ------               --------------  -----  \n",
      " 0   order_date_received  453 non-null    object \n",
      " 1   accessioning_type    453 non-null    object \n",
      " 2   sample_id            453 non-null    object \n",
      " 3   arsenic_ug_g         396 non-null    float64\n",
      " 4   cadmium_ug_g         442 non-null    float64\n",
      " 5   lead_ug_g            411 non-null    float64\n",
      " 6   mercury_ug_g         352 non-null    float64\n",
      "dtypes: float64(4), object(3)\n",
      "memory usage: 28.3+ KB\n"
     ]
    }
   ],
   "source": [
    "flower.info()"
   ]
  },
  {
   "cell_type": "code",
   "execution_count": 6,
   "metadata": {},
   "outputs": [],
   "source": [
    "floc = flower.replace(\"ND\", np.nan)"
   ]
  },
  {
   "cell_type": "code",
   "execution_count": 7,
   "metadata": {},
   "outputs": [
    {
     "name": "stdout",
     "output_type": "stream",
     "text": [
      "<class 'pandas.core.frame.DataFrame'>\n",
      "Int64Index: 453 entries, 0 to 1271\n",
      "Data columns (total 7 columns):\n",
      " #   Column               Non-Null Count  Dtype  \n",
      "---  ------               --------------  -----  \n",
      " 0   order_date_received  453 non-null    object \n",
      " 1   accessioning_type    453 non-null    object \n",
      " 2   sample_id            453 non-null    object \n",
      " 3   arsenic_ug_g         396 non-null    float64\n",
      " 4   cadmium_ug_g         442 non-null    float64\n",
      " 5   lead_ug_g            411 non-null    float64\n",
      " 6   mercury_ug_g         352 non-null    float64\n",
      "dtypes: float64(4), object(3)\n",
      "memory usage: 28.3+ KB\n"
     ]
    }
   ],
   "source": [
    "floc.info()\n"
   ]
  },
  {
   "cell_type": "code",
   "execution_count": 8,
   "metadata": {},
   "outputs": [],
   "source": [
    "rng = default_rng(SeedSequence().entropy)\n",
    "dist_pb = np.abs(stats.norm.rvs(loc = 0, scale = 0.042/2, size = 10000, random_state = rng))\n",
    "rng = default_rng(SeedSequence().entropy+10)\n",
    "dist_hg = np.abs(stats.norm.rvs(loc = 0, scale = 0.016/2, size = 10000, random_state = rng))\n",
    "rng = default_rng(SeedSequence().entropy+ 20)\n",
    "dist_cd = np.abs(stats.norm.rvs(loc = 0, scale = 0.016/2, size = 10000, random_state = rng))\n",
    "rng = default_rng(SeedSequence().entropy +30)\n",
    "dist_as = np.abs(stats.norm.rvs(loc = 0, scale = 0.042/2, size = 10000, random_state = rng))\n",
    "\n",
    "\n"
   ]
  },
  {
   "cell_type": "code",
   "execution_count": 9,
   "metadata": {},
   "outputs": [
    {
     "name": "stdout",
     "output_type": "stream",
     "text": [
      "<class 'pandas.core.frame.DataFrame'>\n",
      "Int64Index: 453 entries, 0 to 1271\n",
      "Data columns (total 7 columns):\n",
      " #   Column               Non-Null Count  Dtype  \n",
      "---  ------               --------------  -----  \n",
      " 0   order_date_received  453 non-null    object \n",
      " 1   accessioning_type    453 non-null    object \n",
      " 2   sample_id            453 non-null    object \n",
      " 3   arsenic_ug_g         453 non-null    float64\n",
      " 4   cadmium_ug_g         453 non-null    float64\n",
      " 5   lead_ug_g            453 non-null    float64\n",
      " 6   mercury_ug_g         453 non-null    float64\n",
      "dtypes: float64(4), object(3)\n",
      "memory usage: 28.3+ KB\n",
      "<class 'pandas.core.frame.DataFrame'>\n",
      "Int64Index: 453 entries, 0 to 1271\n",
      "Data columns (total 7 columns):\n",
      " #   Column               Non-Null Count  Dtype  \n",
      "---  ------               --------------  -----  \n",
      " 0   order_date_received  453 non-null    object \n",
      " 1   accessioning_type    453 non-null    object \n",
      " 2   sample_id            453 non-null    object \n",
      " 3   arsenic_ug_g         396 non-null    float64\n",
      " 4   cadmium_ug_g         442 non-null    float64\n",
      " 5   lead_ug_g            411 non-null    float64\n",
      " 6   mercury_ug_g         352 non-null    float64\n",
      "dtypes: float64(4), object(3)\n",
      "memory usage: 28.3+ KB\n"
     ]
    }
   ],
   "source": [
    "flocc = floc.copy()\n",
    "flocc.lead_ug_g = flocc.lead_ug_g.fillna(pd.Series(dist_pb))\n",
    "flocc.mercury_ug_g = flocc.mercury_ug_g.fillna(pd.Series(dist_hg))\n",
    "flocc.cadmium_ug_g = flocc.cadmium_ug_g.fillna(pd.Series(dist_cd))\n",
    "flocc.arsenic_ug_g = flocc.arsenic_ug_g.fillna(pd.Series(dist_as))\n",
    "flocc.info()\n",
    "floc.info()"
   ]
  },
  {
   "cell_type": "code",
   "execution_count": 10,
   "metadata": {},
   "outputs": [
    {
     "data": {
      "text/plain": [
       "<AxesSubplot:xlabel='lead_ug_g', ylabel='Count'>"
      ]
     },
     "execution_count": 10,
     "metadata": {},
     "output_type": "execute_result"
    },
    {
     "data": {
      "image/png": "[encoded data removed]",
      "text/plain": [
       "<Figure size 432x288 with 1 Axes>"
      ]
     },
     "metadata": {
      "needs_background": "light"
     },
     "output_type": "display_data"
    }
   ],
   "source": [
    "sb.histplot(data=flocc, x = \"lead_ug_g\", bins= 45, binrange = (0,5), kde=True)"
   ]
  },
  {
   "cell_type": "code",
   "execution_count": 11,
   "metadata": {},
   "outputs": [
    {
     "data": {
      "text/plain": [
       "<AxesSubplot:xlabel='mercury_ug_g', ylabel='Count'>"
      ]
     },
     "execution_count": 11,
     "metadata": {},
     "output_type": "execute_result"
    },
    {
     "data": {
      "image/png": "[encoded data removed]",
      "text/plain": [
       "<Figure size 432x288 with 1 Axes>"
      ]
     },
     "metadata": {
      "needs_background": "light"
     },
     "output_type": "display_data"
    }
   ],
   "source": [
    "sb.histplot(data=flocc, x = \"mercury_ug_g\", kde=True, bins= 45, binrange = (0,5))"
   ]
  },
  {
   "cell_type": "code",
   "execution_count": 12,
   "metadata": {},
   "outputs": [
    {
     "data": {
      "text/plain": [
       "<AxesSubplot:xlabel='arsenic_ug_g', ylabel='Count'>"
      ]
     },
     "execution_count": 12,
     "metadata": {},
     "output_type": "execute_result"
    },
    {
     "data": {
      "image/png": "[encoded data removed]",
      "text/plain": [
       "<Figure size 432x288 with 1 Axes>"
      ]
     },
     "metadata": {
      "needs_background": "light"
     },
     "output_type": "display_data"
    }
   ],
   "source": [
    "sb.histplot(data=flocc, x = \"arsenic_ug_g\", bins= 45, binrange = (0,5), kde=True)"
   ]
  },
  {
   "cell_type": "code",
   "execution_count": 13,
   "metadata": {},
   "outputs": [
    {
     "data": {
      "text/plain": [
       "<AxesSubplot:xlabel='cadmium_ug_g', ylabel='Count'>"
      ]
     },
     "execution_count": 13,
     "metadata": {},
     "output_type": "execute_result"
    },
    {
     "data": {
      "image/png": "[encoded data removed]",
      "text/plain": [
       "<Figure size 432x288 with 1 Axes>"
      ]
     },
     "metadata": {
      "needs_background": "light"
     },
     "output_type": "display_data"
    }
   ],
   "source": [
    "sb.histplot(data=flocc, x = \"cadmium_ug_g\", bins= 45, binrange = (0,5), kde=True)"
   ]
  },
  {
   "cell_type": "code",
   "execution_count": 14,
   "metadata": {},
   "outputs": [
    {
     "data": {
      "text/html": [
       "<div>\n",
       "<style scoped>\n",
       "    .dataframe tbody tr th:only-of-type {\n",
       "        vertical-align: middle;\n",
       "    }\n",
       "\n",
       "    .dataframe tbody tr th {\n",
       "        vertical-align: top;\n",
       "    }\n",
       "\n",
       "    .dataframe thead th {\n",
       "        text-align: right;\n",
       "    }\n",
       "</style>\n",
       "<table border=\"1\" class=\"dataframe\">\n",
       "  <thead>\n",
       "    <tr style=\"text-align: right;\">\n",
       "      <th></th>\n",
       "      <th>arsenic_ug_g</th>\n",
       "      <th>cadmium_ug_g</th>\n",
       "      <th>lead_ug_g</th>\n",
       "      <th>mercury_ug_g</th>\n",
       "    </tr>\n",
       "  </thead>\n",
       "  <tbody>\n",
       "    <tr>\n",
       "      <th>count</th>\n",
       "      <td>453.000000</td>\n",
       "      <td>453.000000</td>\n",
       "      <td>453.000000</td>\n",
       "      <td>453.000000</td>\n",
       "    </tr>\n",
       "    <tr>\n",
       "      <th>mean</th>\n",
       "      <td>0.262299</td>\n",
       "      <td>0.099686</td>\n",
       "      <td>0.219294</td>\n",
       "      <td>0.015469</td>\n",
       "    </tr>\n",
       "    <tr>\n",
       "      <th>std</th>\n",
       "      <td>1.891079</td>\n",
       "      <td>0.354002</td>\n",
       "      <td>0.419954</td>\n",
       "      <td>0.095826</td>\n",
       "    </tr>\n",
       "    <tr>\n",
       "      <th>min</th>\n",
       "      <td>-0.005500</td>\n",
       "      <td>0.000067</td>\n",
       "      <td>0.000055</td>\n",
       "      <td>0.000033</td>\n",
       "    </tr>\n",
       "    <tr>\n",
       "      <th>25%</th>\n",
       "      <td>0.028058</td>\n",
       "      <td>0.018267</td>\n",
       "      <td>0.021933</td>\n",
       "      <td>0.003567</td>\n",
       "    </tr>\n",
       "    <tr>\n",
       "      <th>50%</th>\n",
       "      <td>0.063300</td>\n",
       "      <td>0.035300</td>\n",
       "      <td>0.075367</td>\n",
       "      <td>0.007167</td>\n",
       "    </tr>\n",
       "    <tr>\n",
       "      <th>75%</th>\n",
       "      <td>0.144000</td>\n",
       "      <td>0.070367</td>\n",
       "      <td>0.234333</td>\n",
       "      <td>0.013387</td>\n",
       "    </tr>\n",
       "    <tr>\n",
       "      <th>max</th>\n",
       "      <td>34.666667</td>\n",
       "      <td>4.956667</td>\n",
       "      <td>4.346667</td>\n",
       "      <td>2.000000</td>\n",
       "    </tr>\n",
       "  </tbody>\n",
       "</table>\n",
       "</div>"
      ],
      "text/plain": [
       "       arsenic_ug_g  cadmium_ug_g   lead_ug_g  mercury_ug_g\n",
       "count    453.000000    453.000000  453.000000    453.000000\n",
       "mean       0.262299      0.099686    0.219294      0.015469\n",
       "std        1.891079      0.354002    0.419954      0.095826\n",
       "min       -0.005500      0.000067    0.000055      0.000033\n",
       "25%        0.028058      0.018267    0.021933      0.003567\n",
       "50%        0.063300      0.035300    0.075367      0.007167\n",
       "75%        0.144000      0.070367    0.234333      0.013387\n",
       "max       34.666667      4.956667    4.346667      2.000000"
      ]
     },
     "execution_count": 14,
     "metadata": {},
     "output_type": "execute_result"
    }
   ],
   "source": [
    "flocc.describe()"
   ]
  },
  {
   "cell_type": "code",
   "execution_count": 15,
   "metadata": {},
   "outputs": [],
   "source": [
    "from fitter import Fitter\n",
    "# DIST_CONTINU = [d for d in dir(stats) if isinstance(getattr(stats, d), stats.rv_continuous)]\n",
    "# print(len(DIST_CONTINU))"
   ]
  },
  {
   "cell_type": "code",
   "execution_count": null,
   "metadata": {},
   "outputs": [],
   "source": [
    "# f = Fitter(flocc.lead_ug_g.to_numpy(), distributions=DIST_CONTINU)\n",
    "# f.fit()\n",
    "# f.summary()"
   ]
  },
  {
   "cell_type": "code",
   "execution_count": null,
   "metadata": {},
   "outputs": [],
   "source": [
    "# f.summary()"
   ]
  },
  {
   "cell_type": "code",
   "execution_count": null,
   "metadata": {},
   "outputs": [],
   "source": [
    "# f_hg = Fitter(np.sort(flocc.mercury_ug_g.to_numpy())[5:-5], distributions=[\"chi2\", \"geninvgauss\", \"powerlognorm\", \"johnsonsu\"])\n",
    "# f_hg.fit()\n",
    "# f_hg.summary()"
   ]
  },
  {
   "cell_type": "code",
   "execution_count": null,
   "metadata": {},
   "outputs": [],
   "source": [
    "# f_pb = Fitter(np.sort(flocc.lead_ug_g.to_numpy())[5:-5], distributions=[\"chi2\", \"geninvgauss\", \"powerlognorm\", \"johnsonsu\"])\n",
    "# f_pb.fit()\n",
    "# f_pb.summary()"
   ]
  },
  {
   "cell_type": "code",
   "execution_count": null,
   "metadata": {},
   "outputs": [],
   "source": [
    "# f_as = Fitter(np.sort(flocc.arsenic_ug_g.to_numpy())[5:-5], distributions=[\"chi2\", \"geninvgauss\", \"powerlognorm\", \"johnsonsu\"])\n",
    "# f_as.fit()\n",
    "# f_as.summary()"
   ]
  },
  {
   "cell_type": "code",
   "execution_count": null,
   "metadata": {},
   "outputs": [],
   "source": [
    "# f_cd = Fitter(flocc.cadmium_ug_g.to_numpy()[5:-5], distributions=[\"chi2\", \"geninvgauss\", \"powerlognorm\", \"johnsonsu\"])\n",
    "# f_cd.fit()\n",
    "# f_cd.summary()"
   ]
  },
  {
   "cell_type": "code",
   "execution_count": null,
   "metadata": {},
   "outputs": [],
   "source": [
    "# f_cd = Fitter(np.sort(flocc.cadmium_ug_g.to_numpy())[5:-5], distributions=[\"chi2\", \"geninvgauss\", \"powerlognorm\", \"johnsonsu\"])\n",
    "# f_cd.fit()\n",
    "# f_cd.summary()"
   ]
  },
  {
   "cell_type": "code",
   "execution_count": null,
   "metadata": {},
   "outputs": [],
   "source": [
    "f_as = Fitter(np.sort(flocc.arsenic_ug_g.to_numpy())[5:-5], distributions=[\"chi2\", \"geninvgauss\", \"powerlognorm\", \"johnsonsu\"])\n",
    "f_as.fit()\n",
    "f_hg = Fitter(np.sort(flocc.mercury_ug_g.to_numpy())[5:-5], distributions=[\"chi2\", \"geninvgauss\", \"powerlognorm\", \"johnsonsu\"])\n",
    "f_hg.fit()\n",
    "f_cd = Fitter(np.sort(flocc.cadmium_ug_g.to_numpy())[5:-5], distributions=[\"chi2\", \"geninvgauss\", \"powerlognorm\", \"johnsonsu\"])\n",
    "f_cd.fit()\n",
    "f_pb = Fitter(np.sort(flocc.lead_ug_g.to_numpy())[5:-5], distributions=[\"chi2\", \"geninvgauss\", \"powerlognorm\", \"johnsonsu\"])\n",
    "f_pb.fit()"
   ]
  },
  {
   "cell_type": "code",
   "execution_count": null,
   "metadata": {},
   "outputs": [],
   "source": [
    "f_as.summary()\n"
   ]
  },
  {
   "cell_type": "code",
   "execution_count": null,
   "metadata": {},
   "outputs": [],
   "source": [
    "f_cd.summary()\n"
   ]
  },
  {
   "cell_type": "code",
   "execution_count": null,
   "metadata": {},
   "outputs": [],
   "source": [
    "f_pb.summary()"
   ]
  },
  {
   "cell_type": "code",
   "execution_count": null,
   "metadata": {},
   "outputs": [],
   "source": [
    "f_hg.summary()\n"
   ]
  },
  {
   "cell_type": "code",
   "execution_count": null,
   "metadata": {},
   "outputs": [],
   "source": [
    "f_pb.fitted_param['powerlognorm']"
   ]
  },
  {
   "cell_type": "code",
   "execution_count": null,
   "metadata": {},
   "outputs": [],
   "source": [
    "f_hg.fitted_param['powerlognorm']"
   ]
  },
  {
   "cell_type": "code",
   "execution_count": null,
   "metadata": {},
   "outputs": [],
   "source": [
    "f_cd.fitted_param['powerlognorm']"
   ]
  },
  {
   "cell_type": "code",
   "execution_count": null,
   "metadata": {},
   "outputs": [],
   "source": [
    "f_as.fitted_param['powerlognorm']"
   ]
  },
  {
   "cell_type": "code",
   "execution_count": null,
   "metadata": {},
   "outputs": [],
   "source": [
    "dist = stats.powerlognorm\n",
    "as_p = f_as.fitted_param['powerlognorm']\n",
    "X = np.arange(0,10, 1)\n",
    "pdf_fitted = dist.pdf(X, *as_p)\n",
    "sb.scatterplot(x=X, y=pdf_fitted)"
   ]
  },
  {
   "cell_type": "code",
   "execution_count": null,
   "metadata": {},
   "outputs": [],
   "source": []
  },
  {
   "cell_type": "code",
   "execution_count": null,
   "metadata": {},
   "outputs": [],
   "source": [
    "f_as.fitted_pdf['powerlognorm']"
   ]
  },
  {
   "cell_type": "code",
   "execution_count": 16,
   "metadata": {},
   "outputs": [],
   "source": [
    "from fitter import Fitter, get_common_distributions, get_distributions"
   ]
  },
  {
   "cell_type": "code",
   "execution_count": null,
   "metadata": {},
   "outputs": [],
   "source": [
    "f_as_c = Fitter(np.sort(flocc.arsenic_ug_g.to_numpy())[5:-5], distributions=get_common_distributions())\n",
    "f_as_c.fit()"
   ]
  },
  {
   "cell_type": "code",
   "execution_count": null,
   "metadata": {},
   "outputs": [],
   "source": [
    "f_as_c.summary()"
   ]
  },
  {
   "cell_type": "code",
   "execution_count": null,
   "metadata": {},
   "outputs": [],
   "source": [
    "f_as_all = Fitter(np.sort(flocc.arsenic_ug_g.to_numpy())[5:-5])\n",
    "f_as_all.fit()"
   ]
  },
  {
   "cell_type": "code",
   "execution_count": null,
   "metadata": {},
   "outputs": [],
   "source": [
    "f_as_all.summary()"
   ]
  },
  {
   "cell_type": "code",
   "execution_count": 18,
   "metadata": {},
   "outputs": [],
   "source": [
    "doi = [\"loglaplace\", \"mielke\", \"kappa3\", \"burr\", \"burr12\", \"lognorm\", \"gamma\", \"expon\", \"cauchy\", \"exponpow\"]"
   ]
  },
  {
   "cell_type": "code",
   "execution_count": 20,
   "metadata": {},
   "outputs": [],
   "source": [
    "fa = Fitter(np.sort(flocc.arsenic_ug_g.to_numpy())[5:-5], distributions=doi)\n",
    "fa.fit()\n",
    "fc = Fitter(np.sort(flocc.cadmium_ug_g.to_numpy())[5:-5], distributions=doi)\n",
    "fc.fit()\n",
    "fl = Fitter(np.sort(flocc.lead_ug_g.to_numpy())[5:-5], distributions=doi)\n",
    "fl.fit()\n",
    "fm = Fitter(np.sort(flocc.mercury_ug_g.to_numpy())[5:-5], distributions=doi)\n",
    "fm.fit()"
   ]
  },
  {
   "cell_type": "code",
   "execution_count": 22,
   "metadata": {},
   "outputs": [
    {
     "data": {
      "text/html": [
       "<div>\n",
       "<style scoped>\n",
       "    .dataframe tbody tr th:only-of-type {\n",
       "        vertical-align: middle;\n",
       "    }\n",
       "\n",
       "    .dataframe tbody tr th {\n",
       "        vertical-align: top;\n",
       "    }\n",
       "\n",
       "    .dataframe thead th {\n",
       "        text-align: right;\n",
       "    }\n",
       "</style>\n",
       "<table border=\"1\" class=\"dataframe\">\n",
       "  <thead>\n",
       "    <tr style=\"text-align: right;\">\n",
       "      <th></th>\n",
       "      <th>sumsquare_error</th>\n",
       "      <th>aic</th>\n",
       "      <th>bic</th>\n",
       "      <th>kl_div</th>\n",
       "    </tr>\n",
       "  </thead>\n",
       "  <tbody>\n",
       "    <tr>\n",
       "      <th>loglaplace</th>\n",
       "      <td>15.484608</td>\n",
       "      <td>320.012401</td>\n",
       "      <td>-1467.418707</td>\n",
       "      <td>inf</td>\n",
       "    </tr>\n",
       "    <tr>\n",
       "      <th>kappa3</th>\n",
       "      <td>23.141478</td>\n",
       "      <td>326.069538</td>\n",
       "      <td>-1289.430119</td>\n",
       "      <td>inf</td>\n",
       "    </tr>\n",
       "    <tr>\n",
       "      <th>mielke</th>\n",
       "      <td>24.734592</td>\n",
       "      <td>334.863536</td>\n",
       "      <td>-1253.843314</td>\n",
       "      <td>inf</td>\n",
       "    </tr>\n",
       "    <tr>\n",
       "      <th>burr</th>\n",
       "      <td>24.764602</td>\n",
       "      <td>328.057112</td>\n",
       "      <td>-1253.306146</td>\n",
       "      <td>inf</td>\n",
       "    </tr>\n",
       "    <tr>\n",
       "      <th>lognorm</th>\n",
       "      <td>29.052498</td>\n",
       "      <td>310.003348</td>\n",
       "      <td>-1188.657417</td>\n",
       "      <td>inf</td>\n",
       "    </tr>\n",
       "  </tbody>\n",
       "</table>\n",
       "</div>"
      ],
      "text/plain": [
       "            sumsquare_error         aic          bic  kl_div\n",
       "loglaplace        15.484608  320.012401 -1467.418707     inf\n",
       "kappa3            23.141478  326.069538 -1289.430119     inf\n",
       "mielke            24.734592  334.863536 -1253.843314     inf\n",
       "burr              24.764602  328.057112 -1253.306146     inf\n",
       "lognorm           29.052498  310.003348 -1188.657417     inf"
      ]
     },
     "execution_count": 22,
     "metadata": {},
     "output_type": "execute_result"
    },
    {
     "data": {
      "image/png": "[encoded data removed]",
      "text/plain": [
       "<Figure size 432x288 with 1 Axes>"
      ]
     },
     "metadata": {
      "needs_background": "light"
     },
     "output_type": "display_data"
    }
   ],
   "source": [
    "fa.summary()\n"
   ]
  },
  {
   "cell_type": "code",
   "execution_count": 23,
   "metadata": {},
   "outputs": [
    {
     "data": {
      "text/html": [
       "<div>\n",
       "<style scoped>\n",
       "    .dataframe tbody tr th:only-of-type {\n",
       "        vertical-align: middle;\n",
       "    }\n",
       "\n",
       "    .dataframe tbody tr th {\n",
       "        vertical-align: top;\n",
       "    }\n",
       "\n",
       "    .dataframe thead th {\n",
       "        text-align: right;\n",
       "    }\n",
       "</style>\n",
       "<table border=\"1\" class=\"dataframe\">\n",
       "  <thead>\n",
       "    <tr style=\"text-align: right;\">\n",
       "      <th></th>\n",
       "      <th>sumsquare_error</th>\n",
       "      <th>aic</th>\n",
       "      <th>bic</th>\n",
       "      <th>kl_div</th>\n",
       "    </tr>\n",
       "  </thead>\n",
       "  <tbody>\n",
       "    <tr>\n",
       "      <th>mielke</th>\n",
       "      <td>11.326054</td>\n",
       "      <td>648.489604</td>\n",
       "      <td>-1599.869273</td>\n",
       "      <td>inf</td>\n",
       "    </tr>\n",
       "    <tr>\n",
       "      <th>burr</th>\n",
       "      <td>11.903861</td>\n",
       "      <td>630.156086</td>\n",
       "      <td>-1577.826895</td>\n",
       "      <td>inf</td>\n",
       "    </tr>\n",
       "    <tr>\n",
       "      <th>lognorm</th>\n",
       "      <td>20.884989</td>\n",
       "      <td>724.814675</td>\n",
       "      <td>-1334.880121</td>\n",
       "      <td>inf</td>\n",
       "    </tr>\n",
       "    <tr>\n",
       "      <th>kappa3</th>\n",
       "      <td>32.220129</td>\n",
       "      <td>650.080172</td>\n",
       "      <td>-1142.812715</td>\n",
       "      <td>inf</td>\n",
       "    </tr>\n",
       "    <tr>\n",
       "      <th>loglaplace</th>\n",
       "      <td>37.045303</td>\n",
       "      <td>579.811202</td>\n",
       "      <td>-1080.991988</td>\n",
       "      <td>inf</td>\n",
       "    </tr>\n",
       "  </tbody>\n",
       "</table>\n",
       "</div>"
      ],
      "text/plain": [
       "            sumsquare_error         aic          bic  kl_div\n",
       "mielke            11.326054  648.489604 -1599.869273     inf\n",
       "burr              11.903861  630.156086 -1577.826895     inf\n",
       "lognorm           20.884989  724.814675 -1334.880121     inf\n",
       "kappa3            32.220129  650.080172 -1142.812715     inf\n",
       "loglaplace        37.045303  579.811202 -1080.991988     inf"
      ]
     },
     "execution_count": 23,
     "metadata": {},
     "output_type": "execute_result"
    },
    {
     "data": {
      "image/png": "[encoded data removed]",
      "text/plain": [
       "<Figure size 432x288 with 1 Axes>"
      ]
     },
     "metadata": {
      "needs_background": "light"
     },
     "output_type": "display_data"
    }
   ],
   "source": [
    "fc.summary()\n"
   ]
  },
  {
   "cell_type": "code",
   "execution_count": 24,
   "metadata": {},
   "outputs": [
    {
     "data": {
      "text/html": [
       "<div>\n",
       "<style scoped>\n",
       "    .dataframe tbody tr th:only-of-type {\n",
       "        vertical-align: middle;\n",
       "    }\n",
       "\n",
       "    .dataframe tbody tr th {\n",
       "        vertical-align: top;\n",
       "    }\n",
       "\n",
       "    .dataframe thead th {\n",
       "        text-align: right;\n",
       "    }\n",
       "</style>\n",
       "<table border=\"1\" class=\"dataframe\">\n",
       "  <thead>\n",
       "    <tr style=\"text-align: right;\">\n",
       "      <th></th>\n",
       "      <th>sumsquare_error</th>\n",
       "      <th>aic</th>\n",
       "      <th>bic</th>\n",
       "      <th>kl_div</th>\n",
       "    </tr>\n",
       "  </thead>\n",
       "  <tbody>\n",
       "    <tr>\n",
       "      <th>lognorm</th>\n",
       "      <td>10.144374</td>\n",
       "      <td>451.797345</td>\n",
       "      <td>-1654.775485</td>\n",
       "      <td>inf</td>\n",
       "    </tr>\n",
       "    <tr>\n",
       "      <th>burr12</th>\n",
       "      <td>10.999962</td>\n",
       "      <td>476.709078</td>\n",
       "      <td>-1612.811066</td>\n",
       "      <td>inf</td>\n",
       "    </tr>\n",
       "    <tr>\n",
       "      <th>burr</th>\n",
       "      <td>14.183401</td>\n",
       "      <td>458.758439</td>\n",
       "      <td>-1500.209079</td>\n",
       "      <td>inf</td>\n",
       "    </tr>\n",
       "    <tr>\n",
       "      <th>kappa3</th>\n",
       "      <td>27.204557</td>\n",
       "      <td>494.677485</td>\n",
       "      <td>-1217.771374</td>\n",
       "      <td>inf</td>\n",
       "    </tr>\n",
       "    <tr>\n",
       "      <th>gamma</th>\n",
       "      <td>28.596816</td>\n",
       "      <td>460.589937</td>\n",
       "      <td>-1195.660840</td>\n",
       "      <td>inf</td>\n",
       "    </tr>\n",
       "  </tbody>\n",
       "</table>\n",
       "</div>"
      ],
      "text/plain": [
       "         sumsquare_error         aic          bic  kl_div\n",
       "lognorm        10.144374  451.797345 -1654.775485     inf\n",
       "burr12         10.999962  476.709078 -1612.811066     inf\n",
       "burr           14.183401  458.758439 -1500.209079     inf\n",
       "kappa3         27.204557  494.677485 -1217.771374     inf\n",
       "gamma          28.596816  460.589937 -1195.660840     inf"
      ]
     },
     "execution_count": 24,
     "metadata": {},
     "output_type": "execute_result"
    },
    {
     "data": {
      "image/png": "[encoded data removed]",
      "text/plain": [
       "<Figure size 432x288 with 1 Axes>"
      ]
     },
     "metadata": {
      "needs_background": "light"
     },
     "output_type": "display_data"
    }
   ],
   "source": [
    "fl.summary()\n"
   ]
  },
  {
   "cell_type": "code",
   "execution_count": 25,
   "metadata": {},
   "outputs": [
    {
     "data": {
      "text/html": [
       "<div>\n",
       "<style scoped>\n",
       "    .dataframe tbody tr th:only-of-type {\n",
       "        vertical-align: middle;\n",
       "    }\n",
       "\n",
       "    .dataframe tbody tr th {\n",
       "        vertical-align: top;\n",
       "    }\n",
       "\n",
       "    .dataframe thead th {\n",
       "        text-align: right;\n",
       "    }\n",
       "</style>\n",
       "<table border=\"1\" class=\"dataframe\">\n",
       "  <thead>\n",
       "    <tr style=\"text-align: right;\">\n",
       "      <th></th>\n",
       "      <th>sumsquare_error</th>\n",
       "      <th>aic</th>\n",
       "      <th>bic</th>\n",
       "      <th>kl_div</th>\n",
       "    </tr>\n",
       "  </thead>\n",
       "  <tbody>\n",
       "    <tr>\n",
       "      <th>lognorm</th>\n",
       "      <td>7444.365374</td>\n",
       "      <td>-193.977078</td>\n",
       "      <td>1268.268527</td>\n",
       "      <td>inf</td>\n",
       "    </tr>\n",
       "    <tr>\n",
       "      <th>expon</th>\n",
       "      <td>10182.769808</td>\n",
       "      <td>-200.515753</td>\n",
       "      <td>1400.940116</td>\n",
       "      <td>inf</td>\n",
       "    </tr>\n",
       "    <tr>\n",
       "      <th>exponpow</th>\n",
       "      <td>12348.822371</td>\n",
       "      <td>-43.615468</td>\n",
       "      <td>1492.472282</td>\n",
       "      <td>inf</td>\n",
       "    </tr>\n",
       "    <tr>\n",
       "      <th>cauchy</th>\n",
       "      <td>16606.571596</td>\n",
       "      <td>-188.809566</td>\n",
       "      <td>1617.612054</td>\n",
       "      <td>inf</td>\n",
       "    </tr>\n",
       "    <tr>\n",
       "      <th>gamma</th>\n",
       "      <td>51069.459932</td>\n",
       "      <td>-272.216045</td>\n",
       "      <td>2121.366583</td>\n",
       "      <td>inf</td>\n",
       "    </tr>\n",
       "  </tbody>\n",
       "</table>\n",
       "</div>"
      ],
      "text/plain": [
       "          sumsquare_error         aic          bic  kl_div\n",
       "lognorm       7444.365374 -193.977078  1268.268527     inf\n",
       "expon        10182.769808 -200.515753  1400.940116     inf\n",
       "exponpow     12348.822371  -43.615468  1492.472282     inf\n",
       "cauchy       16606.571596 -188.809566  1617.612054     inf\n",
       "gamma        51069.459932 -272.216045  2121.366583     inf"
      ]
     },
     "execution_count": 25,
     "metadata": {},
     "output_type": "execute_result"
    },
    {
     "data": {
      "image/png": "[encoded data removed]",
      "text/plain": [
       "<Figure size 432x288 with 1 Axes>"
      ]
     },
     "metadata": {
      "needs_background": "light"
     },
     "output_type": "display_data"
    }
   ],
   "source": [
    "fm.summary()"
   ]
  },
  {
   "cell_type": "code",
   "execution_count": 27,
   "metadata": {},
   "outputs": [],
   "source": [
    "pa = fa.fitted_param[\"lognorm\"]\n",
    "pc = fc.fitted_param[\"lognorm\"]\n",
    "pl = fl.fitted_param[\"lognorm\"]\n",
    "pm = fm.fitted_param[\"lognorm\"]"
   ]
  },
  {
   "cell_type": "code",
   "execution_count": 30,
   "metadata": {},
   "outputs": [
    {
     "data": {
      "text/plain": [
       "(1.1784074473961181, -0.0025065224857061166, 0.0657024705986004)"
      ]
     },
     "execution_count": 30,
     "metadata": {},
     "output_type": "execute_result"
    }
   ],
   "source": [
    "pa"
   ]
  },
  {
   "cell_type": "code",
   "execution_count": 31,
   "metadata": {},
   "outputs": [
    {
     "data": {
      "text/plain": [
       "(1.4525204178329565, 0.0001955834220820136, 0.07417152849481998)"
      ]
     },
     "execution_count": 31,
     "metadata": {},
     "output_type": "execute_result"
    }
   ],
   "source": [
    "pl"
   ]
  },
  {
   "cell_type": "code",
   "execution_count": 42,
   "metadata": {},
   "outputs": [],
   "source": [
    "test_dist = stats.lognorm.rvs(*pl, size = 1000, random_state=42)"
   ]
  },
  {
   "cell_type": "code",
   "execution_count": 43,
   "metadata": {},
   "outputs": [
    {
     "data": {
      "text/plain": [
       "<AxesSubplot:ylabel='Count'>"
      ]
     },
     "execution_count": 43,
     "metadata": {},
     "output_type": "execute_result"
    },
    {
     "data": {
      "image/png": "[encoded data removed]",
      "text/plain": [
       "<Figure size 432x288 with 1 Axes>"
      ]
     },
     "metadata": {
      "needs_background": "light"
     },
     "output_type": "display_data"
    }
   ],
   "source": [
    "sb.histplot(test_dist)"
   ]
  },
  {
   "cell_type": "code",
   "execution_count": 44,
   "metadata": {},
   "outputs": [
    {
     "data": {
      "text/plain": [
       "<AxesSubplot:ylabel='Count'>"
      ]
     },
     "execution_count": 44,
     "metadata": {},
     "output_type": "execute_result"
    },
    {
     "data": {
      "image/png": "[encoded data removed]",
      "text/plain": [
       "<Figure size 432x288 with 1 Axes>"
      ]
     },
     "metadata": {
      "needs_background": "light"
     },
     "output_type": "display_data"
    }
   ],
   "source": [
    "test2_dist = stats.lognorm.rvs(1.4525204178329565, 0.0001955834220820136, 0.07417152849481998, size = 1000, random_state=42)\n",
    "sb.histplot(test2_dist)"
   ]
  },
  {
   "cell_type": "code",
   "execution_count": 50,
   "metadata": {},
   "outputs": [
    {
     "data": {
      "text/plain": [
       "<AxesSubplot:xlabel='lead_ug_g', ylabel='Count'>"
      ]
     },
     "execution_count": 50,
     "metadata": {},
     "output_type": "execute_result"
    },
    {
     "data": {
      "image/png": "[encoded data removed]",
      "text/plain": [
       "<Figure size 432x288 with 1 Axes>"
      ]
     },
     "metadata": {
      "needs_background": "light"
     },
     "output_type": "display_data"
    }
   ],
   "source": [
    "sb.histplot(data=flocc, x = \"lead_ug_g\")"
   ]
  },
  {
   "cell_type": "code",
   "execution_count": 55,
   "metadata": {},
   "outputs": [
    {
     "data": {
      "text/plain": [
       "<AxesSubplot:xlabel='lead_ug_g', ylabel='Density'>"
      ]
     },
     "execution_count": 55,
     "metadata": {},
     "output_type": "execute_result"
    },
    {
     "data": {
      "image/png": "[encoded data removed]",
      "text/plain": [
       "<Figure size 432x288 with 1 Axes>"
      ]
     },
     "metadata": {
      "needs_background": "light"
     },
     "output_type": "display_data"
    }
   ],
   "source": [
    "# sb.kdeplot(x=test2_dist)\n",
    "sb.kdeplot(x=flocc.loc[:,\"lead_ug_g\"])"
   ]
  },
  {
   "cell_type": "code",
   "execution_count": 45,
   "metadata": {},
   "outputs": [
    {
     "name": "stdout",
     "output_type": "stream",
     "text": [
      "2.5888281556425268\n",
      "2.624979748079379\n",
      "2.6554342582156703\n",
      "2.9127952180246783\n",
      "3.056480649567351\n",
      "3.115985613194405\n",
      "3.3948901159127445\n",
      "3.856565631534016\n",
      "6.493440045419938\n",
      "19.98148365422706\n"
     ]
    }
   ],
   "source": [
    "test_dist_s = np.sort(test_dist)\n",
    "for i in test_dist_s[990:]:\n",
    "    print(i)"
   ]
  },
  {
   "cell_type": "code",
   "execution_count": 49,
   "metadata": {},
   "outputs": [
    {
     "data": {
      "text/plain": [
       "0.975"
      ]
     },
     "execution_count": 49,
     "metadata": {},
     "output_type": "execute_result"
    }
   ],
   "source": [
    "fail = test_dist_s >= 1.24\n",
    "1 - (np.sum(fail) / 1000)"
   ]
  },
  {
   "cell_type": "code",
   "execution_count": null,
   "metadata": {},
   "outputs": [],
   "source": []
  },
  {
   "cell_type": "code",
   "execution_count": null,
   "metadata": {},
   "outputs": [],
   "source": []
  }
 ],
 "metadata": {
  "interpreter": {
   "hash": "d5c84d657f45050687bf03b7911071edf47d676b3fcd1f563ab8d64826ff7a10"
  },
  "kernelspec": {
   "display_name": "Python 3.7.12 64-bit ('Organigram': conda)",
   "language": "python",
   "name": "python3"
  },
  "language_info": {
   "codemirror_mode": {
    "name": "ipython",
    "version": 3
   },
   "file_extension": ".py",
   "mimetype": "text/x-python",
   "name": "python",
   "nbconvert_exporter": "python",
   "pygments_lexer": "ipython3",
   "version": "3.7.12"
  },
  "orig_nbformat": 4
 },
 "nbformat": 4,
 "nbformat_minor": 2
}
