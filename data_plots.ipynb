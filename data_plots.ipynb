{
 "cells": [
  {
   "cell_type": "code",
   "execution_count": 2,
   "metadata": {},
   "outputs": [],
   "source": [
    "import seaborn as sb\n",
    "import numpy as np\n",
    "import pandas as pd\n",
    "from scipy import stats\n",
    "from numpy.random import default_rng\n",
    "from numpy.random import SeedSequence\n",
    "\n"
   ]
  },
  {
   "cell_type": "code",
   "execution_count": 3,
   "metadata": {},
   "outputs": [
    {
     "name": "stdout",
     "output_type": "stream",
     "text": [
      "<class 'pandas.core.frame.DataFrame'>\n",
      "RangeIndex: 1275 entries, 0 to 1274\n",
      "Data columns (total 7 columns):\n",
      " #   Column               Non-Null Count  Dtype  \n",
      "---  ------               --------------  -----  \n",
      " 0   order_date_received  1274 non-null   object \n",
      " 1   accessioning_type    1275 non-null   object \n",
      " 2   sample_id            1275 non-null   object \n",
      " 3   arsenic_ug_g         885 non-null    float64\n",
      " 4   cadmium_ug_g         1072 non-null   float64\n",
      " 5   lead_ug_g            1097 non-null   float64\n",
      " 6   mercury_ug_g         961 non-null    float64\n",
      "dtypes: float64(4), object(3)\n",
      "memory usage: 69.9+ KB\n"
     ]
    }
   ],
   "source": [
    "data = pd.read_excel(\"metal_tests.xlsx\", na_values = \"ND\")\n",
    "data.info()\n",
    "data.to_csv(\"data.csv\")"
   ]
  },
  {
   "cell_type": "code",
   "execution_count": 4,
   "metadata": {},
   "outputs": [
    {
     "data": {
      "text/plain": [
       "0.107667    4\n",
       "0.028733    3\n",
       "0.123333    3\n",
       "0.021567    3\n",
       "0.121333    3\n",
       "           ..\n",
       "0.001767    1\n",
       "0.147000    1\n",
       "0.019967    1\n",
       "1.403333    1\n",
       "0.036667    1\n",
       "Name: lead_ug_g, Length: 945, dtype: int64"
      ]
     },
     "execution_count": 4,
     "metadata": {},
     "output_type": "execute_result"
    }
   ],
   "source": [
    "data.lead_ug_g.value_counts()"
   ]
  },
  {
   "cell_type": "code",
   "execution_count": 5,
   "metadata": {},
   "outputs": [],
   "source": [
    "flower = data.loc[(data.accessioning_type == \"Flower\") | (data.accessioning_type == \"Leaf/Mixed Plant Material\"),:].copy()"
   ]
  },
  {
   "cell_type": "code",
   "execution_count": 6,
   "metadata": {},
   "outputs": [
    {
     "name": "stdout",
     "output_type": "stream",
     "text": [
      "<class 'pandas.core.frame.DataFrame'>\n",
      "Int64Index: 453 entries, 0 to 1271\n",
      "Data columns (total 7 columns):\n",
      " #   Column               Non-Null Count  Dtype  \n",
      "---  ------               --------------  -----  \n",
      " 0   order_date_received  453 non-null    object \n",
      " 1   accessioning_type    453 non-null    object \n",
      " 2   sample_id            453 non-null    object \n",
      " 3   arsenic_ug_g         396 non-null    float64\n",
      " 4   cadmium_ug_g         442 non-null    float64\n",
      " 5   lead_ug_g            411 non-null    float64\n",
      " 6   mercury_ug_g         352 non-null    float64\n",
      "dtypes: float64(4), object(3)\n",
      "memory usage: 28.3+ KB\n"
     ]
    }
   ],
   "source": [
    "flower.info()"
   ]
  },
  {
   "cell_type": "code",
   "execution_count": 7,
   "metadata": {},
   "outputs": [],
   "source": [
    "floc = flower.replace(\"ND\", np.nan)"
   ]
  },
  {
   "cell_type": "code",
   "execution_count": 8,
   "metadata": {},
   "outputs": [
    {
     "name": "stdout",
     "output_type": "stream",
     "text": [
      "<class 'pandas.core.frame.DataFrame'>\n",
      "Int64Index: 453 entries, 0 to 1271\n",
      "Data columns (total 7 columns):\n",
      " #   Column               Non-Null Count  Dtype  \n",
      "---  ------               --------------  -----  \n",
      " 0   order_date_received  453 non-null    object \n",
      " 1   accessioning_type    453 non-null    object \n",
      " 2   sample_id            453 non-null    object \n",
      " 3   arsenic_ug_g         396 non-null    float64\n",
      " 4   cadmium_ug_g         442 non-null    float64\n",
      " 5   lead_ug_g            411 non-null    float64\n",
      " 6   mercury_ug_g         352 non-null    float64\n",
      "dtypes: float64(4), object(3)\n",
      "memory usage: 28.3+ KB\n"
     ]
    }
   ],
   "source": [
    "floc.info()\n"
   ]
  },
  {
   "cell_type": "code",
   "execution_count": 9,
   "metadata": {},
   "outputs": [],
   "source": [
    "rng = default_rng(SeedSequence().entropy)\n",
    "dist_pb = np.abs(stats.norm.rvs(loc = 0, scale = 0.042/2, size = 10000, random_state = rng))\n",
    "rng = default_rng(SeedSequence().entropy+10)\n",
    "dist_hg = np.abs(stats.norm.rvs(loc = 0, scale = 0.016/2, size = 10000, random_state = rng))\n",
    "rng = default_rng(SeedSequence().entropy+ 20)\n",
    "dist_cd = np.abs(stats.norm.rvs(loc = 0, scale = 0.016/2, size = 10000, random_state = rng))\n",
    "rng = default_rng(SeedSequence().entropy +30)\n",
    "dist_as = np.abs(stats.norm.rvs(loc = 0, scale = 0.042/2, size = 10000, random_state = rng))\n",
    "\n",
    "\n"
   ]
  },
  {
   "cell_type": "code",
   "execution_count": 10,
   "metadata": {},
   "outputs": [
    {
     "name": "stdout",
     "output_type": "stream",
     "text": [
      "<class 'pandas.core.frame.DataFrame'>\n",
      "Int64Index: 453 entries, 0 to 1271\n",
      "Data columns (total 7 columns):\n",
      " #   Column               Non-Null Count  Dtype  \n",
      "---  ------               --------------  -----  \n",
      " 0   order_date_received  453 non-null    object \n",
      " 1   accessioning_type    453 non-null    object \n",
      " 2   sample_id            453 non-null    object \n",
      " 3   arsenic_ug_g         453 non-null    float64\n",
      " 4   cadmium_ug_g         453 non-null    float64\n",
      " 5   lead_ug_g            453 non-null    float64\n",
      " 6   mercury_ug_g         453 non-null    float64\n",
      "dtypes: float64(4), object(3)\n",
      "memory usage: 28.3+ KB\n",
      "<class 'pandas.core.frame.DataFrame'>\n",
      "Int64Index: 453 entries, 0 to 1271\n",
      "Data columns (total 7 columns):\n",
      " #   Column               Non-Null Count  Dtype  \n",
      "---  ------               --------------  -----  \n",
      " 0   order_date_received  453 non-null    object \n",
      " 1   accessioning_type    453 non-null    object \n",
      " 2   sample_id            453 non-null    object \n",
      " 3   arsenic_ug_g         396 non-null    float64\n",
      " 4   cadmium_ug_g         442 non-null    float64\n",
      " 5   lead_ug_g            411 non-null    float64\n",
      " 6   mercury_ug_g         352 non-null    float64\n",
      "dtypes: float64(4), object(3)\n",
      "memory usage: 28.3+ KB\n"
     ]
    }
   ],
   "source": [
    "flocc = floc.copy()\n",
    "flocc.lead_ug_g = flocc.lead_ug_g.fillna(pd.Series(dist_pb))\n",
    "flocc.mercury_ug_g = flocc.mercury_ug_g.fillna(pd.Series(dist_hg))\n",
    "flocc.cadmium_ug_g = flocc.cadmium_ug_g.fillna(pd.Series(dist_cd))\n",
    "flocc.arsenic_ug_g = flocc.arsenic_ug_g.fillna(pd.Series(dist_as))\n",
    "flocc.info()\n",
    "floc.info()"
   ]
  },
  {
   "cell_type": "code",
   "execution_count": 11,
   "metadata": {},
   "outputs": [
    {
     "data": {
      "text/plain": [
       "<AxesSubplot:xlabel='lead_ug_g', ylabel='Count'>"
      ]
     },
     "execution_count": 11,
     "metadata": {},
     "output_type": "execute_result"
    },
    {
     "data": {
      "image/png": "[encoded data removed]",
      "text/plain": [
       "<Figure size 432x288 with 1 Axes>"
      ]
     },
     "metadata": {
      "needs_background": "light"
     },
     "output_type": "display_data"
    }
   ],
   "source": [
    "sb.histplot(data=flocc, x = \"lead_ug_g\", bins= 45, binrange = (0,5), kde=True)"
   ]
  },
  {
   "cell_type": "code",
   "execution_count": 17,
   "metadata": {},
   "outputs": [
    {
     "data": {
      "text/plain": [
       "<AxesSubplot:xlabel='mercury_ug_g', ylabel='Count'>"
      ]
     },
     "execution_count": 17,
     "metadata": {},
     "output_type": "execute_result"
    },
    {
     "data": {
      "image/png": "[encoded data removed]",
      "text/plain": [
       "<Figure size 432x288 with 1 Axes>"
      ]
     },
     "metadata": {
      "needs_background": "light"
     },
     "output_type": "display_data"
    }
   ],
   "source": [
    "sb.histplot(data=flocc, x = \"mercury_ug_g\", kde=True, bins= 45, binrange = (0,5))"
   ]
  },
  {
   "cell_type": "code",
   "execution_count": 18,
   "metadata": {},
   "outputs": [
    {
     "data": {
      "text/plain": [
       "<AxesSubplot:xlabel='arsenic_ug_g', ylabel='Count'>"
      ]
     },
     "execution_count": 18,
     "metadata": {},
     "output_type": "execute_result"
    },
    {
     "data": {
      "image/png": "[encoded data removed]",
      "text/plain": [
       "<Figure size 432x288 with 1 Axes>"
      ]
     },
     "metadata": {
      "needs_background": "light"
     },
     "output_type": "display_data"
    }
   ],
   "source": [
    "sb.histplot(data=flocc, x = \"arsenic_ug_g\", bins= 45, binrange = (0,5), kde=True)"
   ]
  },
  {
   "cell_type": "code",
   "execution_count": 19,
   "metadata": {},
   "outputs": [
    {
     "data": {
      "text/plain": [
       "<AxesSubplot:xlabel='cadmium_ug_g', ylabel='Count'>"
      ]
     },
     "execution_count": 19,
     "metadata": {},
     "output_type": "execute_result"
    },
    {
     "data": {
      "image/png": "[encoded data removed]",
      "text/plain": [
       "<Figure size 432x288 with 1 Axes>"
      ]
     },
     "metadata": {
      "needs_background": "light"
     },
     "output_type": "display_data"
    }
   ],
   "source": [
    "sb.histplot(data=flocc, x = \"cadmium_ug_g\", bins= 45, binrange = (0,5), kde=True)"
   ]
  },
  {
   "cell_type": "code",
   "execution_count": 20,
   "metadata": {},
   "outputs": [
    {
     "data": {
      "text/html": [
       "<div>\n",
       "<style scoped>\n",
       "    .dataframe tbody tr th:only-of-type {\n",
       "        vertical-align: middle;\n",
       "    }\n",
       "\n",
       "    .dataframe tbody tr th {\n",
       "        vertical-align: top;\n",
       "    }\n",
       "\n",
       "    .dataframe thead th {\n",
       "        text-align: right;\n",
       "    }\n",
       "</style>\n",
       "<table border=\"1\" class=\"dataframe\">\n",
       "  <thead>\n",
       "    <tr style=\"text-align: right;\">\n",
       "      <th></th>\n",
       "      <th>arsenic_ug_g</th>\n",
       "      <th>cadmium_ug_g</th>\n",
       "      <th>lead_ug_g</th>\n",
       "      <th>mercury_ug_g</th>\n",
       "    </tr>\n",
       "  </thead>\n",
       "  <tbody>\n",
       "    <tr>\n",
       "      <th>count</th>\n",
       "      <td>453.000000</td>\n",
       "      <td>453.000000</td>\n",
       "      <td>453.000000</td>\n",
       "      <td>453.000000</td>\n",
       "    </tr>\n",
       "    <tr>\n",
       "      <th>mean</th>\n",
       "      <td>0.262642</td>\n",
       "      <td>0.099709</td>\n",
       "      <td>0.219588</td>\n",
       "      <td>0.015474</td>\n",
       "    </tr>\n",
       "    <tr>\n",
       "      <th>std</th>\n",
       "      <td>1.891038</td>\n",
       "      <td>0.353996</td>\n",
       "      <td>0.419811</td>\n",
       "      <td>0.095822</td>\n",
       "    </tr>\n",
       "    <tr>\n",
       "      <th>min</th>\n",
       "      <td>-0.005500</td>\n",
       "      <td>0.000067</td>\n",
       "      <td>0.000667</td>\n",
       "      <td>0.000033</td>\n",
       "    </tr>\n",
       "    <tr>\n",
       "      <th>25%</th>\n",
       "      <td>0.029700</td>\n",
       "      <td>0.018267</td>\n",
       "      <td>0.022867</td>\n",
       "      <td>0.003600</td>\n",
       "    </tr>\n",
       "    <tr>\n",
       "      <th>50%</th>\n",
       "      <td>0.063300</td>\n",
       "      <td>0.035300</td>\n",
       "      <td>0.075367</td>\n",
       "      <td>0.007333</td>\n",
       "    </tr>\n",
       "    <tr>\n",
       "      <th>75%</th>\n",
       "      <td>0.144000</td>\n",
       "      <td>0.070367</td>\n",
       "      <td>0.234333</td>\n",
       "      <td>0.012900</td>\n",
       "    </tr>\n",
       "    <tr>\n",
       "      <th>max</th>\n",
       "      <td>34.666667</td>\n",
       "      <td>4.956667</td>\n",
       "      <td>4.346667</td>\n",
       "      <td>2.000000</td>\n",
       "    </tr>\n",
       "  </tbody>\n",
       "</table>\n",
       "</div>"
      ],
      "text/plain": [
       "       arsenic_ug_g  cadmium_ug_g   lead_ug_g  mercury_ug_g\n",
       "count    453.000000    453.000000  453.000000    453.000000\n",
       "mean       0.262642      0.099709    0.219588      0.015474\n",
       "std        1.891038      0.353996    0.419811      0.095822\n",
       "min       -0.005500      0.000067    0.000667      0.000033\n",
       "25%        0.029700      0.018267    0.022867      0.003600\n",
       "50%        0.063300      0.035300    0.075367      0.007333\n",
       "75%        0.144000      0.070367    0.234333      0.012900\n",
       "max       34.666667      4.956667    4.346667      2.000000"
      ]
     },
     "execution_count": 20,
     "metadata": {},
     "output_type": "execute_result"
    }
   ],
   "source": [
    "flocc.describe()"
   ]
  },
  {
   "cell_type": "code",
   "execution_count": 13,
   "metadata": {},
   "outputs": [],
   "source": [
    "from fitter import Fitter\n",
    "# DIST_CONTINU = [d for d in dir(stats) if isinstance(getattr(stats, d), stats.rv_continuous)]\n",
    "# print(len(DIST_CONTINU))"
   ]
  },
  {
   "cell_type": "code",
   "execution_count": 22,
   "metadata": {},
   "outputs": [],
   "source": [
    "# f = Fitter(flocc.lead_ug_g.to_numpy(), distributions=DIST_CONTINU)\n",
    "# f.fit()\n",
    "# f.summary()"
   ]
  },
  {
   "cell_type": "code",
   "execution_count": 23,
   "metadata": {},
   "outputs": [],
   "source": [
    "# f.summary()"
   ]
  },
  {
   "cell_type": "code",
   "execution_count": 24,
   "metadata": {},
   "outputs": [],
   "source": [
    "# f_hg = Fitter(np.sort(flocc.mercury_ug_g.to_numpy())[5:-5], distributions=[\"chi2\", \"geninvgauss\", \"powerlognorm\", \"johnsonsu\"])\n",
    "# f_hg.fit()\n",
    "# f_hg.summary()"
   ]
  },
  {
   "cell_type": "code",
   "execution_count": 25,
   "metadata": {},
   "outputs": [],
   "source": [
    "# f_pb = Fitter(np.sort(flocc.lead_ug_g.to_numpy())[5:-5], distributions=[\"chi2\", \"geninvgauss\", \"powerlognorm\", \"johnsonsu\"])\n",
    "# f_pb.fit()\n",
    "# f_pb.summary()"
   ]
  },
  {
   "cell_type": "code",
   "execution_count": 26,
   "metadata": {},
   "outputs": [],
   "source": [
    "# f_as = Fitter(np.sort(flocc.arsenic_ug_g.to_numpy())[5:-5], distributions=[\"chi2\", \"geninvgauss\", \"powerlognorm\", \"johnsonsu\"])\n",
    "# f_as.fit()\n",
    "# f_as.summary()"
   ]
  },
  {
   "cell_type": "code",
   "execution_count": 27,
   "metadata": {},
   "outputs": [],
   "source": [
    "# f_cd = Fitter(flocc.cadmium_ug_g.to_numpy()[5:-5], distributions=[\"chi2\", \"geninvgauss\", \"powerlognorm\", \"johnsonsu\"])\n",
    "# f_cd.fit()\n",
    "# f_cd.summary()"
   ]
  },
  {
   "cell_type": "code",
   "execution_count": 28,
   "metadata": {},
   "outputs": [],
   "source": [
    "# f_cd = Fitter(np.sort(flocc.cadmium_ug_g.to_numpy())[5:-5], distributions=[\"chi2\", \"geninvgauss\", \"powerlognorm\", \"johnsonsu\"])\n",
    "# f_cd.fit()\n",
    "# f_cd.summary()"
   ]
  },
  {
   "cell_type": "code",
   "execution_count": 29,
   "metadata": {},
   "outputs": [],
   "source": [
    "f_as = Fitter(np.sort(flocc.arsenic_ug_g.to_numpy())[5:-5], distributions=[\"chi2\", \"geninvgauss\", \"powerlognorm\", \"johnsonsu\"])\n",
    "f_as.fit()\n",
    "f_hg = Fitter(np.sort(flocc.mercury_ug_g.to_numpy())[5:-5], distributions=[\"chi2\", \"geninvgauss\", \"powerlognorm\", \"johnsonsu\"])\n",
    "f_hg.fit()\n",
    "f_cd = Fitter(np.sort(flocc.cadmium_ug_g.to_numpy())[5:-5], distributions=[\"chi2\", \"geninvgauss\", \"powerlognorm\", \"johnsonsu\"])\n",
    "f_cd.fit()\n",
    "f_pb = Fitter(np.sort(flocc.lead_ug_g.to_numpy())[5:-5], distributions=[\"chi2\", \"geninvgauss\", \"powerlognorm\", \"johnsonsu\"])\n",
    "f_pb.fit()"
   ]
  },
  {
   "cell_type": "code",
   "execution_count": 30,
   "metadata": {},
   "outputs": [
    {
     "data": {
      "text/html": [
       "<div>\n",
       "<style scoped>\n",
       "    .dataframe tbody tr th:only-of-type {\n",
       "        vertical-align: middle;\n",
       "    }\n",
       "\n",
       "    .dataframe tbody tr th {\n",
       "        vertical-align: top;\n",
       "    }\n",
       "\n",
       "    .dataframe thead th {\n",
       "        text-align: right;\n",
       "    }\n",
       "</style>\n",
       "<table border=\"1\" class=\"dataframe\">\n",
       "  <thead>\n",
       "    <tr style=\"text-align: right;\">\n",
       "      <th></th>\n",
       "      <th>sumsquare_error</th>\n",
       "      <th>aic</th>\n",
       "      <th>bic</th>\n",
       "      <th>kl_div</th>\n",
       "    </tr>\n",
       "  </thead>\n",
       "  <tbody>\n",
       "    <tr>\n",
       "      <th>powerlognorm</th>\n",
       "      <td>35.641954</td>\n",
       "      <td>318.281124</td>\n",
       "      <td>-1092.006251</td>\n",
       "      <td>inf</td>\n",
       "    </tr>\n",
       "    <tr>\n",
       "      <th>johnsonsu</th>\n",
       "      <td>36.255812</td>\n",
       "      <td>312.348325</td>\n",
       "      <td>-1084.441459</td>\n",
       "      <td>inf</td>\n",
       "    </tr>\n",
       "    <tr>\n",
       "      <th>geninvgauss</th>\n",
       "      <td>39.941505</td>\n",
       "      <td>308.911956</td>\n",
       "      <td>-1041.551836</td>\n",
       "      <td>inf</td>\n",
       "    </tr>\n",
       "    <tr>\n",
       "      <th>chi2</th>\n",
       "      <td>81.986709</td>\n",
       "      <td>307.774293</td>\n",
       "      <td>-729.065883</td>\n",
       "      <td>inf</td>\n",
       "    </tr>\n",
       "  </tbody>\n",
       "</table>\n",
       "</div>"
      ],
      "text/plain": [
       "              sumsquare_error         aic          bic  kl_div\n",
       "powerlognorm        35.641954  318.281124 -1092.006251     inf\n",
       "johnsonsu           36.255812  312.348325 -1084.441459     inf\n",
       "geninvgauss         39.941505  308.911956 -1041.551836     inf\n",
       "chi2                81.986709  307.774293  -729.065883     inf"
      ]
     },
     "execution_count": 30,
     "metadata": {},
     "output_type": "execute_result"
    },
    {
     "data": {
      "image/png": "[encoded data removed]",
      "text/plain": [
       "<Figure size 432x288 with 1 Axes>"
      ]
     },
     "metadata": {
      "needs_background": "light"
     },
     "output_type": "display_data"
    }
   ],
   "source": [
    "f_as.summary()\n"
   ]
  },
  {
   "cell_type": "code",
   "execution_count": 31,
   "metadata": {},
   "outputs": [
    {
     "data": {
      "text/html": [
       "<div>\n",
       "<style scoped>\n",
       "    .dataframe tbody tr th:only-of-type {\n",
       "        vertical-align: middle;\n",
       "    }\n",
       "\n",
       "    .dataframe tbody tr th {\n",
       "        vertical-align: top;\n",
       "    }\n",
       "\n",
       "    .dataframe thead th {\n",
       "        text-align: right;\n",
       "    }\n",
       "</style>\n",
       "<table border=\"1\" class=\"dataframe\">\n",
       "  <thead>\n",
       "    <tr style=\"text-align: right;\">\n",
       "      <th></th>\n",
       "      <th>sumsquare_error</th>\n",
       "      <th>aic</th>\n",
       "      <th>bic</th>\n",
       "      <th>kl_div</th>\n",
       "    </tr>\n",
       "  </thead>\n",
       "  <tbody>\n",
       "    <tr>\n",
       "      <th>geninvgauss</th>\n",
       "      <td>13.063261</td>\n",
       "      <td>638.840564</td>\n",
       "      <td>-1536.654038</td>\n",
       "      <td>inf</td>\n",
       "    </tr>\n",
       "    <tr>\n",
       "      <th>powerlognorm</th>\n",
       "      <td>20.256266</td>\n",
       "      <td>686.784126</td>\n",
       "      <td>-1342.327490</td>\n",
       "      <td>inf</td>\n",
       "    </tr>\n",
       "    <tr>\n",
       "      <th>johnsonsu</th>\n",
       "      <td>22.219130</td>\n",
       "      <td>702.357805</td>\n",
       "      <td>-1301.354667</td>\n",
       "      <td>inf</td>\n",
       "    </tr>\n",
       "    <tr>\n",
       "      <th>chi2</th>\n",
       "      <td>176.205400</td>\n",
       "      <td>396.986569</td>\n",
       "      <td>-390.129588</td>\n",
       "      <td>inf</td>\n",
       "    </tr>\n",
       "  </tbody>\n",
       "</table>\n",
       "</div>"
      ],
      "text/plain": [
       "              sumsquare_error         aic          bic  kl_div\n",
       "geninvgauss         13.063261  638.840564 -1536.654038     inf\n",
       "powerlognorm        20.256266  686.784126 -1342.327490     inf\n",
       "johnsonsu           22.219130  702.357805 -1301.354667     inf\n",
       "chi2               176.205400  396.986569  -390.129588     inf"
      ]
     },
     "execution_count": 31,
     "metadata": {},
     "output_type": "execute_result"
    },
    {
     "data": {
      "image/png": "[encoded data removed]",
      "text/plain": [
       "<Figure size 432x288 with 1 Axes>"
      ]
     },
     "metadata": {
      "needs_background": "light"
     },
     "output_type": "display_data"
    }
   ],
   "source": [
    "f_cd.summary()\n"
   ]
  },
  {
   "cell_type": "code",
   "execution_count": 32,
   "metadata": {},
   "outputs": [
    {
     "data": {
      "text/html": [
       "<div>\n",
       "<style scoped>\n",
       "    .dataframe tbody tr th:only-of-type {\n",
       "        vertical-align: middle;\n",
       "    }\n",
       "\n",
       "    .dataframe tbody tr th {\n",
       "        vertical-align: top;\n",
       "    }\n",
       "\n",
       "    .dataframe thead th {\n",
       "        text-align: right;\n",
       "    }\n",
       "</style>\n",
       "<table border=\"1\" class=\"dataframe\">\n",
       "  <thead>\n",
       "    <tr style=\"text-align: right;\">\n",
       "      <th></th>\n",
       "      <th>sumsquare_error</th>\n",
       "      <th>aic</th>\n",
       "      <th>bic</th>\n",
       "      <th>kl_div</th>\n",
       "    </tr>\n",
       "  </thead>\n",
       "  <tbody>\n",
       "    <tr>\n",
       "      <th>geninvgauss</th>\n",
       "      <td>3.959727</td>\n",
       "      <td>438.132089</td>\n",
       "      <td>-2065.431587</td>\n",
       "      <td>inf</td>\n",
       "    </tr>\n",
       "    <tr>\n",
       "      <th>johnsonsu</th>\n",
       "      <td>6.566090</td>\n",
       "      <td>450.883680</td>\n",
       "      <td>-1841.387251</td>\n",
       "      <td>inf</td>\n",
       "    </tr>\n",
       "    <tr>\n",
       "      <th>powerlognorm</th>\n",
       "      <td>6.701052</td>\n",
       "      <td>451.761932</td>\n",
       "      <td>-1832.373929</td>\n",
       "      <td>inf</td>\n",
       "    </tr>\n",
       "    <tr>\n",
       "      <th>chi2</th>\n",
       "      <td>24.686236</td>\n",
       "      <td>489.123438</td>\n",
       "      <td>-1260.803799</td>\n",
       "      <td>inf</td>\n",
       "    </tr>\n",
       "  </tbody>\n",
       "</table>\n",
       "</div>"
      ],
      "text/plain": [
       "              sumsquare_error         aic          bic  kl_div\n",
       "geninvgauss          3.959727  438.132089 -2065.431587     inf\n",
       "johnsonsu            6.566090  450.883680 -1841.387251     inf\n",
       "powerlognorm         6.701052  451.761932 -1832.373929     inf\n",
       "chi2                24.686236  489.123438 -1260.803799     inf"
      ]
     },
     "execution_count": 32,
     "metadata": {},
     "output_type": "execute_result"
    },
    {
     "data": {
      "image/png": "[encoded data removed]",
      "text/plain": [
       "<Figure size 432x288 with 1 Axes>"
      ]
     },
     "metadata": {
      "needs_background": "light"
     },
     "output_type": "display_data"
    }
   ],
   "source": [
    "f_pb.summary()"
   ]
  },
  {
   "cell_type": "code",
   "execution_count": 33,
   "metadata": {},
   "outputs": [
    {
     "data": {
      "text/html": [
       "<div>\n",
       "<style scoped>\n",
       "    .dataframe tbody tr th:only-of-type {\n",
       "        vertical-align: middle;\n",
       "    }\n",
       "\n",
       "    .dataframe tbody tr th {\n",
       "        vertical-align: top;\n",
       "    }\n",
       "\n",
       "    .dataframe thead th {\n",
       "        text-align: right;\n",
       "    }\n",
       "</style>\n",
       "<table border=\"1\" class=\"dataframe\">\n",
       "  <thead>\n",
       "    <tr style=\"text-align: right;\">\n",
       "      <th></th>\n",
       "      <th>sumsquare_error</th>\n",
       "      <th>aic</th>\n",
       "      <th>bic</th>\n",
       "      <th>kl_div</th>\n",
       "    </tr>\n",
       "  </thead>\n",
       "  <tbody>\n",
       "    <tr>\n",
       "      <th>geninvgauss</th>\n",
       "      <td>7675.768689</td>\n",
       "      <td>-129.553498</td>\n",
       "      <td>1287.922780</td>\n",
       "      <td>inf</td>\n",
       "    </tr>\n",
       "    <tr>\n",
       "      <th>powerlognorm</th>\n",
       "      <td>9652.773709</td>\n",
       "      <td>-126.138208</td>\n",
       "      <td>1389.448130</td>\n",
       "      <td>inf</td>\n",
       "    </tr>\n",
       "    <tr>\n",
       "      <th>johnsonsu</th>\n",
       "      <td>10548.213001</td>\n",
       "      <td>-186.646872</td>\n",
       "      <td>1428.747172</td>\n",
       "      <td>inf</td>\n",
       "    </tr>\n",
       "    <tr>\n",
       "      <th>chi2</th>\n",
       "      <td>62737.188760</td>\n",
       "      <td>-262.892956</td>\n",
       "      <td>2212.521686</td>\n",
       "      <td>inf</td>\n",
       "    </tr>\n",
       "  </tbody>\n",
       "</table>\n",
       "</div>"
      ],
      "text/plain": [
       "              sumsquare_error         aic          bic  kl_div\n",
       "geninvgauss       7675.768689 -129.553498  1287.922780     inf\n",
       "powerlognorm      9652.773709 -126.138208  1389.448130     inf\n",
       "johnsonsu        10548.213001 -186.646872  1428.747172     inf\n",
       "chi2             62737.188760 -262.892956  2212.521686     inf"
      ]
     },
     "execution_count": 33,
     "metadata": {},
     "output_type": "execute_result"
    },
    {
     "data": {
      "image/png": "[encoded data removed]",
      "text/plain": [
       "<Figure size 432x288 with 1 Axes>"
      ]
     },
     "metadata": {
      "needs_background": "light"
     },
     "output_type": "display_data"
    }
   ],
   "source": [
    "f_hg.summary()\n"
   ]
  },
  {
   "cell_type": "code",
   "execution_count": 34,
   "metadata": {},
   "outputs": [
    {
     "data": {
      "text/plain": [
       "(1.5613542818737076,\n",
       " 1.7549012846326968,\n",
       " 0.0033702745947093438,\n",
       " 0.13125820125977772)"
      ]
     },
     "execution_count": 34,
     "metadata": {},
     "output_type": "execute_result"
    }
   ],
   "source": [
    "f_pb.fitted_param['powerlognorm']"
   ]
  },
  {
   "cell_type": "code",
   "execution_count": 35,
   "metadata": {},
   "outputs": [
    {
     "data": {
      "text/plain": [
       "(0.010875003634891911,\n",
       " 0.05886205584209317,\n",
       " -0.00840933107606875,\n",
       " 0.008299278900606201)"
      ]
     },
     "execution_count": 35,
     "metadata": {},
     "output_type": "execute_result"
    }
   ],
   "source": [
    "f_hg.fitted_param['powerlognorm']"
   ]
  },
  {
   "cell_type": "code",
   "execution_count": 36,
   "metadata": {},
   "outputs": [
    {
     "data": {
      "text/plain": [
       "(0.1018642159064071,\n",
       " 0.40968795368137567,\n",
       " -0.0035421300209334252,\n",
       " 0.011263296817569594)"
      ]
     },
     "execution_count": 36,
     "metadata": {},
     "output_type": "execute_result"
    }
   ],
   "source": [
    "f_cd.fitted_param['powerlognorm']"
   ]
  },
  {
   "cell_type": "code",
   "execution_count": 37,
   "metadata": {},
   "outputs": [
    {
     "data": {
      "text/plain": [
       "(29.38935615728034,\n",
       " 2.6824296890262103,\n",
       " 0.000684835484566508,\n",
       " 13.790797560724862)"
      ]
     },
     "execution_count": 37,
     "metadata": {},
     "output_type": "execute_result"
    }
   ],
   "source": [
    "f_as.fitted_param['powerlognorm']"
   ]
  },
  {
   "cell_type": "code",
   "execution_count": 38,
   "metadata": {},
   "outputs": [
    {
     "data": {
      "text/plain": [
       "<AxesSubplot:>"
      ]
     },
     "execution_count": 38,
     "metadata": {},
     "output_type": "execute_result"
    },
    {
     "data": {
      "image/png": "[encoded data removed]",
      "text/plain": [
       "<Figure size 432x288 with 1 Axes>"
      ]
     },
     "metadata": {
      "needs_background": "light"
     },
     "output_type": "display_data"
    }
   ],
   "source": [
    "dist = stats.powerlognorm\n",
    "as_p = f_as.fitted_param['powerlognorm']\n",
    "X = np.arange(0,10, 1)\n",
    "pdf_fitted = dist.pdf(X, *as_p)\n",
    "sb.scatterplot(x=X, y=pdf_fitted)"
   ]
  },
  {
   "cell_type": "code",
   "execution_count": null,
   "metadata": {},
   "outputs": [],
   "source": []
  },
  {
   "cell_type": "code",
   "execution_count": 39,
   "metadata": {},
   "outputs": [
    {
     "data": {
      "text/plain": [
       "array([10.70137272,  9.75009662,  8.35891169,  7.17115553,  6.19407812,\n",
       "        5.3890161 ,  4.72006884,  4.15900655,  3.68425186,  3.27929179,\n",
       "        2.93136936,  2.6305151 ,  2.36884722,  2.14006582,  1.93908428,\n",
       "        1.76175744,  1.60467872,  1.46502689,  1.34044895,  1.22896974,\n",
       "        1.12892138,  1.03888768,  0.95766012,  0.88420247,  0.81762237,\n",
       "        0.75714816,  0.70211005,  0.65192454,  0.60608161,  0.56413405,\n",
       "        0.52568852,  0.49039811,  0.45795602,  0.42809023,  0.400559  ,\n",
       "        0.37514695,  0.35166181,  0.32993157,  0.30980203,  0.29113467,\n",
       "        0.27380488,  0.25770031,  0.24271954,  0.22877083,  0.21577109,\n",
       "        0.20364493,  0.19232386,  0.1817456 ,  0.17185339,  0.16259544,\n",
       "        0.15392449,  0.1457973 ,  0.13817427,  0.13101914,  0.12429862,\n",
       "        0.11798212,  0.11204154,  0.106451  ,  0.10118665,  0.09622652,\n",
       "        0.0915503 ,  0.08713924,  0.08297602,  0.07904459,  0.07533007,\n",
       "        0.07181871,  0.06849771,  0.06535521,  0.0623802 ,  0.0595624 ,\n",
       "        0.0568923 ,  0.054361  ,  0.05196024,  0.04968229,  0.04751996,\n",
       "        0.04546653,  0.04351573,  0.04166168,  0.0398989 ,  0.03822225,\n",
       "        0.03662692,  0.03510842,  0.03366251,  0.03228524,  0.0309729 ,\n",
       "        0.02972198,  0.02852922,  0.02739153,  0.02630602,  0.02526996,\n",
       "        0.0242808 ,  0.02333611,  0.02243362,  0.02157119,  0.0207468 ,\n",
       "        0.01995855,  0.01920463,  0.01848334,  0.01779309,  0.01713236])"
      ]
     },
     "execution_count": 39,
     "metadata": {},
     "output_type": "execute_result"
    }
   ],
   "source": [
    "f_as.fitted_pdf['powerlognorm']"
   ]
  },
  {
   "cell_type": "code",
   "execution_count": 40,
   "metadata": {},
   "outputs": [],
   "source": [
    "from fitter import Fitter, get_common_distributions, get_distributions"
   ]
  },
  {
   "cell_type": "code",
   "execution_count": 41,
   "metadata": {},
   "outputs": [],
   "source": [
    "f_as_c = Fitter(np.sort(flocc.arsenic_ug_g.to_numpy())[5:-5], distributions=get_common_distributions())\n",
    "f_as_c.fit()"
   ]
  },
  {
   "cell_type": "code",
   "execution_count": 42,
   "metadata": {},
   "outputs": [
    {
     "data": {
      "text/html": [
       "<div>\n",
       "<style scoped>\n",
       "    .dataframe tbody tr th:only-of-type {\n",
       "        vertical-align: middle;\n",
       "    }\n",
       "\n",
       "    .dataframe tbody tr th {\n",
       "        vertical-align: top;\n",
       "    }\n",
       "\n",
       "    .dataframe thead th {\n",
       "        text-align: right;\n",
       "    }\n",
       "</style>\n",
       "<table border=\"1\" class=\"dataframe\">\n",
       "  <thead>\n",
       "    <tr style=\"text-align: right;\">\n",
       "      <th></th>\n",
       "      <th>sumsquare_error</th>\n",
       "      <th>aic</th>\n",
       "      <th>bic</th>\n",
       "      <th>kl_div</th>\n",
       "    </tr>\n",
       "  </thead>\n",
       "  <tbody>\n",
       "    <tr>\n",
       "      <th>lognorm</th>\n",
       "      <td>36.239639</td>\n",
       "      <td>310.071313</td>\n",
       "      <td>-1090.732686</td>\n",
       "      <td>inf</td>\n",
       "    </tr>\n",
       "    <tr>\n",
       "      <th>gamma</th>\n",
       "      <td>44.860798</td>\n",
       "      <td>350.513903</td>\n",
       "      <td>-996.191707</td>\n",
       "      <td>inf</td>\n",
       "    </tr>\n",
       "    <tr>\n",
       "      <th>expon</th>\n",
       "      <td>46.382729</td>\n",
       "      <td>403.498036</td>\n",
       "      <td>-987.505534</td>\n",
       "      <td>inf</td>\n",
       "    </tr>\n",
       "    <tr>\n",
       "      <th>exponpow</th>\n",
       "      <td>74.151160</td>\n",
       "      <td>344.127946</td>\n",
       "      <td>-773.565868</td>\n",
       "      <td>inf</td>\n",
       "    </tr>\n",
       "    <tr>\n",
       "      <th>cauchy</th>\n",
       "      <td>77.698531</td>\n",
       "      <td>452.826587</td>\n",
       "      <td>-758.957767</td>\n",
       "      <td>inf</td>\n",
       "    </tr>\n",
       "  </tbody>\n",
       "</table>\n",
       "</div>"
      ],
      "text/plain": [
       "          sumsquare_error         aic          bic  kl_div\n",
       "lognorm         36.239639  310.071313 -1090.732686     inf\n",
       "gamma           44.860798  350.513903  -996.191707     inf\n",
       "expon           46.382729  403.498036  -987.505534     inf\n",
       "exponpow        74.151160  344.127946  -773.565868     inf\n",
       "cauchy          77.698531  452.826587  -758.957767     inf"
      ]
     },
     "execution_count": 42,
     "metadata": {},
     "output_type": "execute_result"
    },
    {
     "data": {
      "image/png": "[encoded data removed]",
      "text/plain": [
       "<Figure size 432x288 with 1 Axes>"
      ]
     },
     "metadata": {
      "needs_background": "light"
     },
     "output_type": "display_data"
    }
   ],
   "source": [
    "f_as_c.summary()"
   ]
  },
  {
   "cell_type": "code",
   "execution_count": 43,
   "metadata": {},
   "outputs": [
    {
     "name": "stderr",
     "output_type": "stream",
     "text": [
      "WARNING:root:SKIPPED kstwo distribution (taking more than 30 seconds)\n",
      "C:\\Users\\Tom\\.conda\\envs\\Organigram\\lib\\site-packages\\scipy\\stats\\_continuous_distns.py:4837: IntegrationWarning: The integral is probably divergent, or slowly convergent.\n",
      "  intg = integrate.quad(f, -xi, np.pi/2, **intg_kwargs)[0]\n",
      "WARNING:root:SKIPPED levy_stable distribution (taking more than 30 seconds)\n",
      "WARNING:root:SKIPPED rv_continuous distribution (taking more than 30 seconds)\n",
      "WARNING:root:SKIPPED rv_histogram distribution (taking more than 30 seconds)\n",
      "C:\\Users\\Tom\\.conda\\envs\\Organigram\\lib\\site-packages\\scipy\\integrate\\quadpack.py:880: IntegrationWarning: The maximum number of subdivisions (50) has been achieved.\n",
      "  If increasing the limit yields no improvement it is advised to analyze \n",
      "  the integrand in order to determine the difficulties.  If the position of a \n",
      "  local difficulty can be determined (singularity, discontinuity) one will \n",
      "  probably gain from splitting up the interval and calling the integrator \n",
      "  on the subranges.  Perhaps a special-purpose integrator should be used.\n",
      "  **opt)\n",
      "C:\\Users\\Tom\\.conda\\envs\\Organigram\\lib\\site-packages\\scipy\\integrate\\quadpack.py:880: IntegrationWarning: The integral is probably divergent, or slowly convergent.\n",
      "  **opt)\n",
      "WARNING:root:SKIPPED studentized_range distribution (taking more than 30 seconds)\n",
      "C:\\Users\\Tom\\.conda\\envs\\Organigram\\lib\\site-packages\\scipy\\integrate\\quadpack.py:880: IntegrationWarning: The occurrence of roundoff error is detected, which prevents \n",
      "  the requested tolerance from being achieved.  The error may be \n",
      "  underestimated.\n",
      "  **opt)\n"
     ]
    }
   ],
   "source": [
    "f_as_all = Fitter(np.sort(flocc.arsenic_ug_g.to_numpy())[5:-5])\n",
    "f_as_all.fit()"
   ]
  },
  {
   "cell_type": "code",
   "execution_count": 44,
   "metadata": {},
   "outputs": [
    {
     "name": "stderr",
     "output_type": "stream",
     "text": [
      "C:\\Users\\Tom\\.conda\\envs\\Organigram\\lib\\site-packages\\scipy\\integrate\\quadpack.py:880: IntegrationWarning: The occurrence of roundoff error is detected, which prevents \n",
      "  the requested tolerance from being achieved.  The error may be \n",
      "  underestimated.\n",
      "  **opt)\n",
      "C:\\Users\\Tom\\.conda\\envs\\Organigram\\lib\\site-packages\\scipy\\integrate\\quadpack.py:880: IntegrationWarning: The maximum number of subdivisions (50) has been achieved.\n",
      "  If increasing the limit yields no improvement it is advised to analyze \n",
      "  the integrand in order to determine the difficulties.  If the position of a \n",
      "  local difficulty can be determined (singularity, discontinuity) one will \n",
      "  probably gain from splitting up the interval and calling the integrator \n",
      "  on the subranges.  Perhaps a special-purpose integrator should be used.\n",
      "  **opt)\n",
      "C:\\Users\\Tom\\.conda\\envs\\Organigram\\lib\\site-packages\\scipy\\integrate\\quadpack.py:880: IntegrationWarning: The occurrence of roundoff error is detected, which prevents \n",
      "  the requested tolerance from being achieved.  The error may be \n",
      "  underestimated.\n",
      "  **opt)\n",
      "C:\\Users\\Tom\\.conda\\envs\\Organigram\\lib\\site-packages\\scipy\\integrate\\quadpack.py:880: IntegrationWarning: The maximum number of subdivisions (50) has been achieved.\n",
      "  If increasing the limit yields no improvement it is advised to analyze \n",
      "  the integrand in order to determine the difficulties.  If the position of a \n",
      "  local difficulty can be determined (singularity, discontinuity) one will \n",
      "  probably gain from splitting up the interval and calling the integrator \n",
      "  on the subranges.  Perhaps a special-purpose integrator should be used.\n",
      "  **opt)\n",
      "C:\\Users\\Tom\\.conda\\envs\\Organigram\\lib\\site-packages\\scipy\\integrate\\quadpack.py:880: IntegrationWarning: The occurrence of roundoff error is detected, which prevents \n",
      "  the requested tolerance from being achieved.  The error may be \n",
      "  underestimated.\n",
      "  **opt)\n",
      "C:\\Users\\Tom\\.conda\\envs\\Organigram\\lib\\site-packages\\scipy\\integrate\\quadpack.py:880: IntegrationWarning: The maximum number of subdivisions (50) has been achieved.\n",
      "  If increasing the limit yields no improvement it is advised to analyze \n",
      "  the integrand in order to determine the difficulties.  If the position of a \n",
      "  local difficulty can be determined (singularity, discontinuity) one will \n",
      "  probably gain from splitting up the interval and calling the integrator \n",
      "  on the subranges.  Perhaps a special-purpose integrator should be used.\n",
      "  **opt)\n"
     ]
    },
    {
     "data": {
      "text/html": [
       "<div>\n",
       "<style scoped>\n",
       "    .dataframe tbody tr th:only-of-type {\n",
       "        vertical-align: middle;\n",
       "    }\n",
       "\n",
       "    .dataframe tbody tr th {\n",
       "        vertical-align: top;\n",
       "    }\n",
       "\n",
       "    .dataframe thead th {\n",
       "        text-align: right;\n",
       "    }\n",
       "</style>\n",
       "<table border=\"1\" class=\"dataframe\">\n",
       "  <thead>\n",
       "    <tr style=\"text-align: right;\">\n",
       "      <th></th>\n",
       "      <th>sumsquare_error</th>\n",
       "      <th>aic</th>\n",
       "      <th>bic</th>\n",
       "      <th>kl_div</th>\n",
       "    </tr>\n",
       "  </thead>\n",
       "  <tbody>\n",
       "    <tr>\n",
       "      <th>loglaplace</th>\n",
       "      <td>16.375838</td>\n",
       "      <td>317.724922</td>\n",
       "      <td>-1442.628207</td>\n",
       "      <td>inf</td>\n",
       "    </tr>\n",
       "    <tr>\n",
       "      <th>foldcauchy</th>\n",
       "      <td>22.622971</td>\n",
       "      <td>311.096558</td>\n",
       "      <td>-1299.468841</td>\n",
       "      <td>inf</td>\n",
       "    </tr>\n",
       "    <tr>\n",
       "      <th>kappa3</th>\n",
       "      <td>26.710962</td>\n",
       "      <td>326.989091</td>\n",
       "      <td>-1225.882891</td>\n",
       "      <td>inf</td>\n",
       "    </tr>\n",
       "    <tr>\n",
       "      <th>halfcauchy</th>\n",
       "      <td>30.763887</td>\n",
       "      <td>285.326977</td>\n",
       "      <td>-1169.394978</td>\n",
       "      <td>inf</td>\n",
       "    </tr>\n",
       "    <tr>\n",
       "      <th>skewcauchy</th>\n",
       "      <td>30.773297</td>\n",
       "      <td>287.357369</td>\n",
       "      <td>-1163.165933</td>\n",
       "      <td>inf</td>\n",
       "    </tr>\n",
       "  </tbody>\n",
       "</table>\n",
       "</div>"
      ],
      "text/plain": [
       "            sumsquare_error         aic          bic  kl_div\n",
       "loglaplace        16.375838  317.724922 -1442.628207     inf\n",
       "foldcauchy        22.622971  311.096558 -1299.468841     inf\n",
       "kappa3            26.710962  326.989091 -1225.882891     inf\n",
       "halfcauchy        30.763887  285.326977 -1169.394978     inf\n",
       "skewcauchy        30.773297  287.357369 -1163.165933     inf"
      ]
     },
     "execution_count": 44,
     "metadata": {},
     "output_type": "execute_result"
    },
    {
     "data": {
      "image/png": "[encoded data removed]",
      "text/plain": [
       "<Figure size 432x288 with 1 Axes>"
      ]
     },
     "metadata": {
      "needs_background": "light"
     },
     "output_type": "display_data"
    }
   ],
   "source": [
    "f_as_all.summary()"
   ]
  },
  {
   "cell_type": "code",
   "execution_count": 15,
   "metadata": {},
   "outputs": [],
   "source": [
    "doi = [\"loglaplace\", \"mielke\", \"kappa3\", \"burr\", \"burr12\", \"lognorm\", \"gamma\", \"expon\", \"cauchy\", \"exponpow\"]"
   ]
  },
  {
   "cell_type": "code",
   "execution_count": 46,
   "metadata": {},
   "outputs": [
    {
     "name": "stderr",
     "output_type": "stream",
     "text": [
      "C:\\Users\\Tom\\.conda\\envs\\Organigram\\lib\\site-packages\\scipy\\integrate\\quadpack.py:880: IntegrationWarning: The occurrence of roundoff error is detected, which prevents \n",
      "  the requested tolerance from being achieved.  The error may be \n",
      "  underestimated.\n",
      "  **opt)\n",
      "C:\\Users\\Tom\\.conda\\envs\\Organigram\\lib\\site-packages\\scipy\\integrate\\quadpack.py:880: IntegrationWarning: The maximum number of subdivisions (50) has been achieved.\n",
      "  If increasing the limit yields no improvement it is advised to analyze \n",
      "  the integrand in order to determine the difficulties.  If the position of a \n",
      "  local difficulty can be determined (singularity, discontinuity) one will \n",
      "  probably gain from splitting up the interval and calling the integrator \n",
      "  on the subranges.  Perhaps a special-purpose integrator should be used.\n",
      "  **opt)\n",
      "C:\\Users\\Tom\\.conda\\envs\\Organigram\\lib\\site-packages\\scipy\\integrate\\quadpack.py:880: IntegrationWarning: The occurrence of roundoff error is detected, which prevents \n",
      "  the requested tolerance from being achieved.  The error may be \n",
      "  underestimated.\n",
      "  **opt)\n",
      "C:\\Users\\Tom\\.conda\\envs\\Organigram\\lib\\site-packages\\scipy\\integrate\\quadpack.py:880: IntegrationWarning: The maximum number of subdivisions (50) has been achieved.\n",
      "  If increasing the limit yields no improvement it is advised to analyze \n",
      "  the integrand in order to determine the difficulties.  If the position of a \n",
      "  local difficulty can be determined (singularity, discontinuity) one will \n",
      "  probably gain from splitting up the interval and calling the integrator \n",
      "  on the subranges.  Perhaps a special-purpose integrator should be used.\n",
      "  **opt)\n",
      "C:\\Users\\Tom\\.conda\\envs\\Organigram\\lib\\site-packages\\scipy\\integrate\\quadpack.py:880: IntegrationWarning: The occurrence of roundoff error is detected, which prevents \n",
      "  the requested tolerance from being achieved.  The error may be \n",
      "  underestimated.\n",
      "  **opt)\n",
      "C:\\Users\\Tom\\.conda\\envs\\Organigram\\lib\\site-packages\\scipy\\integrate\\quadpack.py:880: IntegrationWarning: The maximum number of subdivisions (50) has been achieved.\n",
      "  If increasing the limit yields no improvement it is advised to analyze \n",
      "  the integrand in order to determine the difficulties.  If the position of a \n",
      "  local difficulty can be determined (singularity, discontinuity) one will \n",
      "  probably gain from splitting up the interval and calling the integrator \n",
      "  on the subranges.  Perhaps a special-purpose integrator should be used.\n",
      "  **opt)\n"
     ]
    }
   ],
   "source": [
    "fa = Fitter(np.sort(flocc.arsenic_ug_g.to_numpy())[5:-5], distributions=doi)\n",
    "fa.fit()\n",
    "fc = Fitter(np.sort(flocc.cadmium_ug_g.to_numpy())[5:-5], distributions=doi)\n",
    "fc.fit()\n",
    "fl = Fitter(np.sort(flocc.lead_ug_g.to_numpy())[5:-5], distributions=doi)\n",
    "fl.fit()\n",
    "fm = Fitter(np.sort(flocc.mercury_ug_g.to_numpy())[5:-5], distributions=doi)\n",
    "fm.fit()"
   ]
  },
  {
   "cell_type": "code",
   "execution_count": 47,
   "metadata": {},
   "outputs": [
    {
     "data": {
      "text/html": [
       "<div>\n",
       "<style scoped>\n",
       "    .dataframe tbody tr th:only-of-type {\n",
       "        vertical-align: middle;\n",
       "    }\n",
       "\n",
       "    .dataframe tbody tr th {\n",
       "        vertical-align: top;\n",
       "    }\n",
       "\n",
       "    .dataframe thead th {\n",
       "        text-align: right;\n",
       "    }\n",
       "</style>\n",
       "<table border=\"1\" class=\"dataframe\">\n",
       "  <thead>\n",
       "    <tr style=\"text-align: right;\">\n",
       "      <th></th>\n",
       "      <th>sumsquare_error</th>\n",
       "      <th>aic</th>\n",
       "      <th>bic</th>\n",
       "      <th>kl_div</th>\n",
       "    </tr>\n",
       "  </thead>\n",
       "  <tbody>\n",
       "    <tr>\n",
       "      <th>loglaplace</th>\n",
       "      <td>16.375838</td>\n",
       "      <td>317.724922</td>\n",
       "      <td>-1442.628207</td>\n",
       "      <td>inf</td>\n",
       "    </tr>\n",
       "    <tr>\n",
       "      <th>kappa3</th>\n",
       "      <td>26.710962</td>\n",
       "      <td>326.989091</td>\n",
       "      <td>-1225.882891</td>\n",
       "      <td>inf</td>\n",
       "    </tr>\n",
       "    <tr>\n",
       "      <th>burr</th>\n",
       "      <td>31.356843</td>\n",
       "      <td>338.525218</td>\n",
       "      <td>-1148.750516</td>\n",
       "      <td>inf</td>\n",
       "    </tr>\n",
       "    <tr>\n",
       "      <th>burr12</th>\n",
       "      <td>33.142674</td>\n",
       "      <td>323.255329</td>\n",
       "      <td>-1124.213114</td>\n",
       "      <td>inf</td>\n",
       "    </tr>\n",
       "    <tr>\n",
       "      <th>mielke</th>\n",
       "      <td>35.513828</td>\n",
       "      <td>405.920035</td>\n",
       "      <td>-1093.601616</td>\n",
       "      <td>inf</td>\n",
       "    </tr>\n",
       "  </tbody>\n",
       "</table>\n",
       "</div>"
      ],
      "text/plain": [
       "            sumsquare_error         aic          bic  kl_div\n",
       "loglaplace        16.375838  317.724922 -1442.628207     inf\n",
       "kappa3            26.710962  326.989091 -1225.882891     inf\n",
       "burr              31.356843  338.525218 -1148.750516     inf\n",
       "burr12            33.142674  323.255329 -1124.213114     inf\n",
       "mielke            35.513828  405.920035 -1093.601616     inf"
      ]
     },
     "execution_count": 47,
     "metadata": {},
     "output_type": "execute_result"
    },
    {
     "name": "stderr",
     "output_type": "stream",
     "text": [
      "C:\\Users\\Tom\\.conda\\envs\\Organigram\\lib\\site-packages\\scipy\\integrate\\quadpack.py:880: IntegrationWarning: The occurrence of roundoff error is detected, which prevents \n",
      "  the requested tolerance from being achieved.  The error may be \n",
      "  underestimated.\n",
      "  **opt)\n",
      "C:\\Users\\Tom\\.conda\\envs\\Organigram\\lib\\site-packages\\scipy\\integrate\\quadpack.py:880: IntegrationWarning: The maximum number of subdivisions (50) has been achieved.\n",
      "  If increasing the limit yields no improvement it is advised to analyze \n",
      "  the integrand in order to determine the difficulties.  If the position of a \n",
      "  local difficulty can be determined (singularity, discontinuity) one will \n",
      "  probably gain from splitting up the interval and calling the integrator \n",
      "  on the subranges.  Perhaps a special-purpose integrator should be used.\n",
      "  **opt)\n"
     ]
    },
    {
     "data": {
      "image/png": "[encoded data removed]",
      "text/plain": [
       "<Figure size 432x288 with 1 Axes>"
      ]
     },
     "metadata": {
      "needs_background": "light"
     },
     "output_type": "display_data"
    }
   ],
   "source": [
    "fa.summary()\n"
   ]
  },
  {
   "cell_type": "code",
   "execution_count": 48,
   "metadata": {},
   "outputs": [
    {
     "data": {
      "text/html": [
       "<div>\n",
       "<style scoped>\n",
       "    .dataframe tbody tr th:only-of-type {\n",
       "        vertical-align: middle;\n",
       "    }\n",
       "\n",
       "    .dataframe tbody tr th {\n",
       "        vertical-align: top;\n",
       "    }\n",
       "\n",
       "    .dataframe thead th {\n",
       "        text-align: right;\n",
       "    }\n",
       "</style>\n",
       "<table border=\"1\" class=\"dataframe\">\n",
       "  <thead>\n",
       "    <tr style=\"text-align: right;\">\n",
       "      <th></th>\n",
       "      <th>sumsquare_error</th>\n",
       "      <th>aic</th>\n",
       "      <th>bic</th>\n",
       "      <th>kl_div</th>\n",
       "    </tr>\n",
       "  </thead>\n",
       "  <tbody>\n",
       "    <tr>\n",
       "      <th>burr12</th>\n",
       "      <td>13.328276</td>\n",
       "      <td>643.406999</td>\n",
       "      <td>-1527.756851</td>\n",
       "      <td>inf</td>\n",
       "    </tr>\n",
       "    <tr>\n",
       "      <th>burr</th>\n",
       "      <td>13.349908</td>\n",
       "      <td>644.628664</td>\n",
       "      <td>-1527.038423</td>\n",
       "      <td>inf</td>\n",
       "    </tr>\n",
       "    <tr>\n",
       "      <th>mielke</th>\n",
       "      <td>13.351907</td>\n",
       "      <td>644.670263</td>\n",
       "      <td>-1526.972088</td>\n",
       "      <td>inf</td>\n",
       "    </tr>\n",
       "    <tr>\n",
       "      <th>lognorm</th>\n",
       "      <td>24.432379</td>\n",
       "      <td>721.415679</td>\n",
       "      <td>-1265.382902</td>\n",
       "      <td>inf</td>\n",
       "    </tr>\n",
       "    <tr>\n",
       "      <th>kappa3</th>\n",
       "      <td>28.248315</td>\n",
       "      <td>695.204939</td>\n",
       "      <td>-1201.092725</td>\n",
       "      <td>inf</td>\n",
       "    </tr>\n",
       "  </tbody>\n",
       "</table>\n",
       "</div>"
      ],
      "text/plain": [
       "         sumsquare_error         aic          bic  kl_div\n",
       "burr12         13.328276  643.406999 -1527.756851     inf\n",
       "burr           13.349908  644.628664 -1527.038423     inf\n",
       "mielke         13.351907  644.670263 -1526.972088     inf\n",
       "lognorm        24.432379  721.415679 -1265.382902     inf\n",
       "kappa3         28.248315  695.204939 -1201.092725     inf"
      ]
     },
     "execution_count": 48,
     "metadata": {},
     "output_type": "execute_result"
    },
    {
     "data": {
      "image/png": "[encoded data removed]",
      "text/plain": [
       "<Figure size 432x288 with 1 Axes>"
      ]
     },
     "metadata": {
      "needs_background": "light"
     },
     "output_type": "display_data"
    }
   ],
   "source": [
    "fc.summary()\n"
   ]
  },
  {
   "cell_type": "code",
   "execution_count": 49,
   "metadata": {},
   "outputs": [
    {
     "data": {
      "text/html": [
       "<div>\n",
       "<style scoped>\n",
       "    .dataframe tbody tr th:only-of-type {\n",
       "        vertical-align: middle;\n",
       "    }\n",
       "\n",
       "    .dataframe tbody tr th {\n",
       "        vertical-align: top;\n",
       "    }\n",
       "\n",
       "    .dataframe thead th {\n",
       "        text-align: right;\n",
       "    }\n",
       "</style>\n",
       "<table border=\"1\" class=\"dataframe\">\n",
       "  <thead>\n",
       "    <tr style=\"text-align: right;\">\n",
       "      <th></th>\n",
       "      <th>sumsquare_error</th>\n",
       "      <th>aic</th>\n",
       "      <th>bic</th>\n",
       "      <th>kl_div</th>\n",
       "    </tr>\n",
       "  </thead>\n",
       "  <tbody>\n",
       "    <tr>\n",
       "      <th>lognorm</th>\n",
       "      <td>6.619427</td>\n",
       "      <td>448.866038</td>\n",
       "      <td>-1843.896790</td>\n",
       "      <td>inf</td>\n",
       "    </tr>\n",
       "    <tr>\n",
       "      <th>burr</th>\n",
       "      <td>8.906479</td>\n",
       "      <td>476.728045</td>\n",
       "      <td>-1706.334035</td>\n",
       "      <td>inf</td>\n",
       "    </tr>\n",
       "    <tr>\n",
       "      <th>kappa3</th>\n",
       "      <td>12.025638</td>\n",
       "      <td>457.068256</td>\n",
       "      <td>-1579.411596</td>\n",
       "      <td>inf</td>\n",
       "    </tr>\n",
       "    <tr>\n",
       "      <th>burr12</th>\n",
       "      <td>12.402924</td>\n",
       "      <td>465.214336</td>\n",
       "      <td>-1559.633144</td>\n",
       "      <td>inf</td>\n",
       "    </tr>\n",
       "    <tr>\n",
       "      <th>mielke</th>\n",
       "      <td>12.597003</td>\n",
       "      <td>470.722895</td>\n",
       "      <td>-1552.754824</td>\n",
       "      <td>inf</td>\n",
       "    </tr>\n",
       "  </tbody>\n",
       "</table>\n",
       "</div>"
      ],
      "text/plain": [
       "         sumsquare_error         aic          bic  kl_div\n",
       "lognorm         6.619427  448.866038 -1843.896790     inf\n",
       "burr            8.906479  476.728045 -1706.334035     inf\n",
       "kappa3         12.025638  457.068256 -1579.411596     inf\n",
       "burr12         12.402924  465.214336 -1559.633144     inf\n",
       "mielke         12.597003  470.722895 -1552.754824     inf"
      ]
     },
     "execution_count": 49,
     "metadata": {},
     "output_type": "execute_result"
    },
    {
     "data": {
      "image/png": "[encoded data removed]",
      "text/plain": [
       "<Figure size 432x288 with 1 Axes>"
      ]
     },
     "metadata": {
      "needs_background": "light"
     },
     "output_type": "display_data"
    }
   ],
   "source": [
    "fl.summary()\n"
   ]
  },
  {
   "cell_type": "code",
   "execution_count": 50,
   "metadata": {},
   "outputs": [
    {
     "data": {
      "text/html": [
       "<div>\n",
       "<style scoped>\n",
       "    .dataframe tbody tr th:only-of-type {\n",
       "        vertical-align: middle;\n",
       "    }\n",
       "\n",
       "    .dataframe tbody tr th {\n",
       "        vertical-align: top;\n",
       "    }\n",
       "\n",
       "    .dataframe thead th {\n",
       "        text-align: right;\n",
       "    }\n",
       "</style>\n",
       "<table border=\"1\" class=\"dataframe\">\n",
       "  <thead>\n",
       "    <tr style=\"text-align: right;\">\n",
       "      <th></th>\n",
       "      <th>sumsquare_error</th>\n",
       "      <th>aic</th>\n",
       "      <th>bic</th>\n",
       "      <th>kl_div</th>\n",
       "    </tr>\n",
       "  </thead>\n",
       "  <tbody>\n",
       "    <tr>\n",
       "      <th>kappa3</th>\n",
       "      <td>7763.650283</td>\n",
       "      <td>-39.673641</td>\n",
       "      <td>1286.872401</td>\n",
       "      <td>inf</td>\n",
       "    </tr>\n",
       "    <tr>\n",
       "      <th>lognorm</th>\n",
       "      <td>10510.902844</td>\n",
       "      <td>-189.815313</td>\n",
       "      <td>1421.083886</td>\n",
       "      <td>inf</td>\n",
       "    </tr>\n",
       "    <tr>\n",
       "      <th>expon</th>\n",
       "      <td>10573.514526</td>\n",
       "      <td>-195.263091</td>\n",
       "      <td>1417.621364</td>\n",
       "      <td>inf</td>\n",
       "    </tr>\n",
       "    <tr>\n",
       "      <th>burr12</th>\n",
       "      <td>10681.053780</td>\n",
       "      <td>-230.747372</td>\n",
       "      <td>1434.291333</td>\n",
       "      <td>inf</td>\n",
       "    </tr>\n",
       "    <tr>\n",
       "      <th>exponpow</th>\n",
       "      <td>12760.364919</td>\n",
       "      <td>-46.257741</td>\n",
       "      <td>1506.995227</td>\n",
       "      <td>inf</td>\n",
       "    </tr>\n",
       "  </tbody>\n",
       "</table>\n",
       "</div>"
      ],
      "text/plain": [
       "          sumsquare_error         aic          bic  kl_div\n",
       "kappa3        7763.650283  -39.673641  1286.872401     inf\n",
       "lognorm      10510.902844 -189.815313  1421.083886     inf\n",
       "expon        10573.514526 -195.263091  1417.621364     inf\n",
       "burr12       10681.053780 -230.747372  1434.291333     inf\n",
       "exponpow     12760.364919  -46.257741  1506.995227     inf"
      ]
     },
     "execution_count": 50,
     "metadata": {},
     "output_type": "execute_result"
    },
    {
     "data": {
      "image/png": "[encoded data removed]",
      "text/plain": [
       "<Figure size 432x288 with 1 Axes>"
      ]
     },
     "metadata": {
      "needs_background": "light"
     },
     "output_type": "display_data"
    }
   ],
   "source": [
    "fm.summary()"
   ]
  },
  {
   "cell_type": "code",
   "execution_count": 51,
   "metadata": {},
   "outputs": [],
   "source": [
    "pa = fa.fitted_param[\"lognorm\"]\n",
    "pc = fc.fitted_param[\"lognorm\"]\n",
    "pl = fl.fitted_param[\"lognorm\"]\n",
    "pm = fm.fitted_param[\"lognorm\"]"
   ]
  },
  {
   "cell_type": "code",
   "execution_count": 52,
   "metadata": {},
   "outputs": [
    {
     "data": {
      "text/plain": [
       "(1.173440571212828, -0.0022344097721718513, 0.06605005126276764)"
      ]
     },
     "execution_count": 52,
     "metadata": {},
     "output_type": "execute_result"
    }
   ],
   "source": [
    "pa"
   ]
  },
  {
   "cell_type": "code",
   "execution_count": 53,
   "metadata": {},
   "outputs": [
    {
     "data": {
      "text/plain": [
       "(1.0662489811418936, -0.0002100047231401417, 0.036796757185247816)"
      ]
     },
     "execution_count": 53,
     "metadata": {},
     "output_type": "execute_result"
    }
   ],
   "source": [
    "pc"
   ]
  },
  {
   "cell_type": "code",
   "execution_count": 54,
   "metadata": {},
   "outputs": [
    {
     "data": {
      "text/plain": [
       "(0.7281781027191212, -0.0012983834582655763, 0.008276916607336739)"
      ]
     },
     "execution_count": 54,
     "metadata": {},
     "output_type": "execute_result"
    }
   ],
   "source": [
    "pm"
   ]
  },
  {
   "cell_type": "code",
   "execution_count": 55,
   "metadata": {},
   "outputs": [
    {
     "data": {
      "text/plain": [
       "(1.535698810300702, 0.0032215040886630093, 0.06840980181898015)"
      ]
     },
     "execution_count": 55,
     "metadata": {},
     "output_type": "execute_result"
    }
   ],
   "source": [
    "pl"
   ]
  },
  {
   "cell_type": "code",
   "execution_count": 56,
   "metadata": {},
   "outputs": [],
   "source": [
    "test_dist = stats.lognorm.rvs(*pl, size = 1000, random_state=42)"
   ]
  },
  {
   "cell_type": "code",
   "execution_count": 57,
   "metadata": {},
   "outputs": [
    {
     "data": {
      "text/plain": [
       "<AxesSubplot:ylabel='Count'>"
      ]
     },
     "execution_count": 57,
     "metadata": {},
     "output_type": "execute_result"
    },
    {
     "data": {
      "image/png": "[encoded data removed]",
      "text/plain": [
       "<Figure size 432x288 with 1 Axes>"
      ]
     },
     "metadata": {
      "needs_background": "light"
     },
     "output_type": "display_data"
    }
   ],
   "source": [
    "sb.histplot(test_dist)"
   ]
  },
  {
   "cell_type": "code",
   "execution_count": 58,
   "metadata": {},
   "outputs": [
    {
     "data": {
      "text/plain": [
       "<AxesSubplot:ylabel='Count'>"
      ]
     },
     "execution_count": 58,
     "metadata": {},
     "output_type": "execute_result"
    },
    {
     "data": {
      "image/png": "[encoded data removed]",
      "text/plain": [
       "<Figure size 432x288 with 1 Axes>"
      ]
     },
     "metadata": {
      "needs_background": "light"
     },
     "output_type": "display_data"
    }
   ],
   "source": [
    "test2_dist = stats.lognorm.rvs(1.4525204178329565, 0.0001955834220820136, 0.07417152849481998, size = 1000, random_state=42)\n",
    "sb.histplot(test2_dist)"
   ]
  },
  {
   "cell_type": "code",
   "execution_count": 59,
   "metadata": {},
   "outputs": [
    {
     "data": {
      "text/plain": [
       "<AxesSubplot:xlabel='lead_ug_g', ylabel='Count'>"
      ]
     },
     "execution_count": 59,
     "metadata": {},
     "output_type": "execute_result"
    },
    {
     "data": {
      "image/png": "[encoded data removed]",
      "text/plain": [
       "<Figure size 432x288 with 1 Axes>"
      ]
     },
     "metadata": {
      "needs_background": "light"
     },
     "output_type": "display_data"
    }
   ],
   "source": [
    "sb.histplot(data=flocc, x = \"lead_ug_g\")"
   ]
  },
  {
   "cell_type": "code",
   "execution_count": 60,
   "metadata": {},
   "outputs": [
    {
     "data": {
      "text/plain": [
       "<AxesSubplot:xlabel='lead_ug_g', ylabel='Density'>"
      ]
     },
     "execution_count": 60,
     "metadata": {},
     "output_type": "execute_result"
    },
    {
     "data": {
      "image/png": "[encoded data removed]",
      "text/plain": [
       "<Figure size 432x288 with 1 Axes>"
      ]
     },
     "metadata": {
      "needs_background": "light"
     },
     "output_type": "display_data"
    }
   ],
   "source": [
    "# sb.kdeplot(x=test2_dist)\n",
    "sb.kdeplot(x=flocc.loc[:,\"lead_ug_g\"])"
   ]
  },
  {
   "cell_type": "code",
   "execution_count": 61,
   "metadata": {},
   "outputs": [
    {
     "name": "stdout",
     "output_type": "stream",
     "text": [
      "2.929405671203616\n",
      "2.972628715033881\n",
      "3.0090667806001634\n",
      "3.3179242723484648\n",
      "3.4910509815717363\n",
      "3.562886453686224\n",
      "3.9006105052772253\n",
      "4.46309940765431\n",
      "7.740069983095345\n",
      "25.39425255494967\n"
     ]
    }
   ],
   "source": [
    "test_dist_s = np.sort(test_dist)\n",
    "for i in test_dist_s[990:]:\n",
    "    print(i)"
   ]
  },
  {
   "cell_type": "code",
   "execution_count": 62,
   "metadata": {},
   "outputs": [
    {
     "data": {
      "text/plain": [
       "0.972"
      ]
     },
     "execution_count": 62,
     "metadata": {},
     "output_type": "execute_result"
    }
   ],
   "source": [
    "fail = test_dist_s >= 1.24\n",
    "1 - (np.sum(fail) / 1000)"
   ]
  },
  {
   "cell_type": "code",
   "execution_count": null,
   "metadata": {},
   "outputs": [],
   "source": []
  },
  {
   "cell_type": "code",
   "execution_count": 63,
   "metadata": {},
   "outputs": [
    {
     "data": {
      "text/html": [
       "<div>\n",
       "<style scoped>\n",
       "    .dataframe tbody tr th:only-of-type {\n",
       "        vertical-align: middle;\n",
       "    }\n",
       "\n",
       "    .dataframe tbody tr th {\n",
       "        vertical-align: top;\n",
       "    }\n",
       "\n",
       "    .dataframe thead th {\n",
       "        text-align: right;\n",
       "    }\n",
       "</style>\n",
       "<table border=\"1\" class=\"dataframe\">\n",
       "  <thead>\n",
       "    <tr style=\"text-align: right;\">\n",
       "      <th></th>\n",
       "      <th>arsenic_ug_g</th>\n",
       "      <th>cadmium_ug_g</th>\n",
       "      <th>lead_ug_g</th>\n",
       "      <th>mercury_ug_g</th>\n",
       "    </tr>\n",
       "  </thead>\n",
       "  <tbody>\n",
       "    <tr>\n",
       "      <th>count</th>\n",
       "      <td>396.000000</td>\n",
       "      <td>442.000000</td>\n",
       "      <td>411.000000</td>\n",
       "      <td>352.000000</td>\n",
       "    </tr>\n",
       "    <tr>\n",
       "      <th>mean</th>\n",
       "      <td>0.297943</td>\n",
       "      <td>0.102014</td>\n",
       "      <td>0.240119</td>\n",
       "      <td>0.018087</td>\n",
       "    </tr>\n",
       "    <tr>\n",
       "      <th>std</th>\n",
       "      <td>2.020421</td>\n",
       "      <td>0.358076</td>\n",
       "      <td>0.435570</td>\n",
       "      <td>0.108569</td>\n",
       "    </tr>\n",
       "    <tr>\n",
       "      <th>min</th>\n",
       "      <td>-0.005500</td>\n",
       "      <td>0.000067</td>\n",
       "      <td>0.000667</td>\n",
       "      <td>0.000033</td>\n",
       "    </tr>\n",
       "    <tr>\n",
       "      <th>25%</th>\n",
       "      <td>0.042700</td>\n",
       "      <td>0.018975</td>\n",
       "      <td>0.030517</td>\n",
       "      <td>0.003950</td>\n",
       "    </tr>\n",
       "    <tr>\n",
       "      <th>50%</th>\n",
       "      <td>0.074433</td>\n",
       "      <td>0.036650</td>\n",
       "      <td>0.092267</td>\n",
       "      <td>0.008000</td>\n",
       "    </tr>\n",
       "    <tr>\n",
       "      <th>75%</th>\n",
       "      <td>0.175167</td>\n",
       "      <td>0.073267</td>\n",
       "      <td>0.250167</td>\n",
       "      <td>0.014783</td>\n",
       "    </tr>\n",
       "    <tr>\n",
       "      <th>max</th>\n",
       "      <td>34.666667</td>\n",
       "      <td>4.956667</td>\n",
       "      <td>4.346667</td>\n",
       "      <td>2.000000</td>\n",
       "    </tr>\n",
       "  </tbody>\n",
       "</table>\n",
       "</div>"
      ],
      "text/plain": [
       "       arsenic_ug_g  cadmium_ug_g   lead_ug_g  mercury_ug_g\n",
       "count    396.000000    442.000000  411.000000    352.000000\n",
       "mean       0.297943      0.102014    0.240119      0.018087\n",
       "std        2.020421      0.358076    0.435570      0.108569\n",
       "min       -0.005500      0.000067    0.000667      0.000033\n",
       "25%        0.042700      0.018975    0.030517      0.003950\n",
       "50%        0.074433      0.036650    0.092267      0.008000\n",
       "75%        0.175167      0.073267    0.250167      0.014783\n",
       "max       34.666667      4.956667    4.346667      2.000000"
      ]
     },
     "execution_count": 63,
     "metadata": {},
     "output_type": "execute_result"
    }
   ],
   "source": [
    "floc.describe()"
   ]
  },
  {
   "cell_type": "code",
   "execution_count": 65,
   "metadata": {},
   "outputs": [
    {
     "data": {
      "text/plain": [
       "<AxesSubplot:>"
      ]
     },
     "execution_count": 65,
     "metadata": {},
     "output_type": "execute_result"
    },
    {
     "data": {
      "image/png": "[encoded data removed]",
      "text/plain": [
       "<Figure size 432x288 with 1 Axes>"
      ]
     },
     "metadata": {
      "needs_background": "light"
     },
     "output_type": "display_data"
    }
   ],
   "source": [
    "sb.violinplot(data=data)"
   ]
  },
  {
   "cell_type": "code",
   "execution_count": 66,
   "metadata": {},
   "outputs": [
    {
     "name": "stderr",
     "output_type": "stream",
     "text": [
      "C:\\Users\\Tom\\.conda\\envs\\Organigram\\lib\\site-packages\\seaborn\\categorical.py:1296: UserWarning: 67.3% of the points cannot be placed; you may want to decrease the size of the markers or use stripplot.\n",
      "  warnings.warn(msg, UserWarning)\n",
      "C:\\Users\\Tom\\.conda\\envs\\Organigram\\lib\\site-packages\\seaborn\\categorical.py:1296: UserWarning: 82.1% of the points cannot be placed; you may want to decrease the size of the markers or use stripplot.\n",
      "  warnings.warn(msg, UserWarning)\n",
      "C:\\Users\\Tom\\.conda\\envs\\Organigram\\lib\\site-packages\\seaborn\\categorical.py:1296: UserWarning: 82.7% of the points cannot be placed; you may want to decrease the size of the markers or use stripplot.\n",
      "  warnings.warn(msg, UserWarning)\n",
      "C:\\Users\\Tom\\.conda\\envs\\Organigram\\lib\\site-packages\\seaborn\\categorical.py:1296: UserWarning: 74.3% of the points cannot be placed; you may want to decrease the size of the markers or use stripplot.\n",
      "  warnings.warn(msg, UserWarning)\n"
     ]
    },
    {
     "data": {
      "text/plain": [
       "<AxesSubplot:>"
      ]
     },
     "execution_count": 66,
     "metadata": {},
     "output_type": "execute_result"
    },
    {
     "data": {
      "image/png": "[encoded data removed]",
      "text/plain": [
       "<Figure size 432x288 with 1 Axes>"
      ]
     },
     "metadata": {
      "needs_background": "light"
     },
     "output_type": "display_data"
    }
   ],
   "source": [
    "sb.swarmplot(data=data)"
   ]
  },
  {
   "cell_type": "code",
   "execution_count": 70,
   "metadata": {},
   "outputs": [
    {
     "data": {
      "image/png": "[encoded data removed]",
      "text/plain": [
       "<Figure size 432x288 with 1 Axes>"
      ]
     },
     "metadata": {
      "needs_background": "light"
     },
     "output_type": "display_data"
    }
   ],
   "source": [
    "g = sb.boxplot(data=data)\n",
    "g.set_yscale(\"log\")"
   ]
  },
  {
   "cell_type": "code",
   "execution_count": 76,
   "metadata": {},
   "outputs": [
    {
     "data": {
      "image/png": "[encoded data removed]",
      "text/plain": [
       "<Figure size 432x288 with 1 Axes>"
      ]
     },
     "metadata": {
      "needs_background": "light"
     },
     "output_type": "display_data"
    }
   ],
   "source": [
    "g = sb.histplot(data=data)\n",
    "g.set_xscale(\"log\")\n",
    "g.set_yscale(\"log\")"
   ]
  },
  {
   "cell_type": "code",
   "execution_count": 73,
   "metadata": {},
   "outputs": [
    {
     "data": {
      "image/png": "[encoded data removed]",
      "text/plain": [
       "<Figure size 432x288 with 1 Axes>"
      ]
     },
     "metadata": {
      "needs_background": "light"
     },
     "output_type": "display_data"
    }
   ],
   "source": [
    "g = sb.histplot(data=data)"
   ]
  },
  {
   "cell_type": "code",
   "execution_count": 74,
   "metadata": {},
   "outputs": [
    {
     "data": {
      "image/png": "[encoded data removed]",
      "text/plain": [
       "<Figure size 432x288 with 1 Axes>"
      ]
     },
     "metadata": {
      "needs_background": "light"
     },
     "output_type": "display_data"
    }
   ],
   "source": [
    "g = sb.boxplot(data=data)"
   ]
  },
  {
   "cell_type": "code",
   "execution_count": 75,
   "metadata": {},
   "outputs": [
    {
     "data": {
      "image/png": "[encoded data removed]",
      "text/plain": [
       "<Figure size 432x288 with 1 Axes>"
      ]
     },
     "metadata": {
      "needs_background": "light"
     },
     "output_type": "display_data"
    }
   ],
   "source": [
    "g = sb.violinplot(data=data)\n",
    "g.set_yscale(\"log\")"
   ]
  },
  {
   "cell_type": "code",
   "execution_count": 77,
   "metadata": {},
   "outputs": [
    {
     "name": "stderr",
     "output_type": "stream",
     "text": [
      "C:\\Users\\Tom\\.conda\\envs\\Organigram\\lib\\site-packages\\IPython\\core\\pylabtools.py:137: UserWarning: Creating legend with loc=\"best\" can be slow with large amounts of data.\n",
      "  fig.canvas.print_figure(bytes_io, **kw)\n"
     ]
    },
    {
     "data": {
      "image/png": "[encoded data removed]",
      "text/plain": [
       "<Figure size 432x288 with 1 Axes>"
      ]
     },
     "metadata": {
      "needs_background": "light"
     },
     "output_type": "display_data"
    }
   ],
   "source": [
    "g = sb.histplot(data=data)\n",
    "sb.kdeplot(data=data)\n",
    "g.set_xscale(\"log\")\n",
    "g.set_yscale(\"log\")"
   ]
  },
  {
   "cell_type": "code",
   "execution_count": 79,
   "metadata": {},
   "outputs": [
    {
     "data": {
      "image/png": "[encoded data removed]",
      "text/plain": [
       "<Figure size 432x288 with 1 Axes>"
      ]
     },
     "metadata": {
      "needs_background": "light"
     },
     "output_type": "display_data"
    }
   ],
   "source": [
    "g= sb.kdeplot(data=data)\n",
    "g.set_xscale(\"log\")\n",
    "g.set_yscale(\"log\")"
   ]
  },
  {
   "cell_type": "code",
   "execution_count": 16,
   "metadata": {},
   "outputs": [
    {
     "data": {
      "text/html": [
       "<div>\n",
       "<style scoped>\n",
       "    .dataframe tbody tr th:only-of-type {\n",
       "        vertical-align: middle;\n",
       "    }\n",
       "\n",
       "    .dataframe tbody tr th {\n",
       "        vertical-align: top;\n",
       "    }\n",
       "\n",
       "    .dataframe thead th {\n",
       "        text-align: right;\n",
       "    }\n",
       "</style>\n",
       "<table border=\"1\" class=\"dataframe\">\n",
       "  <thead>\n",
       "    <tr style=\"text-align: right;\">\n",
       "      <th></th>\n",
       "      <th>sumsquare_error</th>\n",
       "      <th>aic</th>\n",
       "      <th>bic</th>\n",
       "      <th>kl_div</th>\n",
       "    </tr>\n",
       "  </thead>\n",
       "  <tbody>\n",
       "    <tr>\n",
       "      <th>loglaplace</th>\n",
       "      <td>0.545933</td>\n",
       "      <td>874.405557</td>\n",
       "      <td>-6436.725573</td>\n",
       "      <td>inf</td>\n",
       "    </tr>\n",
       "    <tr>\n",
       "      <th>kappa3</th>\n",
       "      <td>0.909446</td>\n",
       "      <td>1024.618456</td>\n",
       "      <td>-5990.177656</td>\n",
       "      <td>inf</td>\n",
       "    </tr>\n",
       "    <tr>\n",
       "      <th>burr12</th>\n",
       "      <td>1.370688</td>\n",
       "      <td>1048.360203</td>\n",
       "      <td>-5624.450609</td>\n",
       "      <td>inf</td>\n",
       "    </tr>\n",
       "    <tr>\n",
       "      <th>mielke</th>\n",
       "      <td>1.754921</td>\n",
       "      <td>934.923531</td>\n",
       "      <td>-5408.228304</td>\n",
       "      <td>inf</td>\n",
       "    </tr>\n",
       "    <tr>\n",
       "      <th>lognorm</th>\n",
       "      <td>2.786638</td>\n",
       "      <td>1079.906212</td>\n",
       "      <td>-5010.391927</td>\n",
       "      <td>inf</td>\n",
       "    </tr>\n",
       "  </tbody>\n",
       "</table>\n",
       "</div>"
      ],
      "text/plain": [
       "            sumsquare_error          aic          bic  kl_div\n",
       "loglaplace         0.545933   874.405557 -6436.725573     inf\n",
       "kappa3             0.909446  1024.618456 -5990.177656     inf\n",
       "burr12             1.370688  1048.360203 -5624.450609     inf\n",
       "mielke             1.754921   934.923531 -5408.228304     inf\n",
       "lognorm            2.786638  1079.906212 -5010.391927     inf"
      ]
     },
     "execution_count": 16,
     "metadata": {},
     "output_type": "execute_result"
    },
    {
     "data": {
      "image/png": "[encoded data removed]",
      "text/plain": [
       "<Figure size 432x288 with 1 Axes>"
      ]
     },
     "metadata": {
      "needs_background": "light"
     },
     "output_type": "display_data"
    }
   ],
   "source": [
    "fa2 = Fitter(np.sort(data.arsenic_ug_g.dropna().values)[5:-5], distributions = doi)\n",
    "fa2.fit()\n",
    "fa2.summary()"
   ]
  },
  {
   "cell_type": "code",
   "execution_count": 17,
   "metadata": {},
   "outputs": [
    {
     "data": {
      "text/plain": [
       "(0.0, 1.0)"
      ]
     },
     "execution_count": 17,
     "metadata": {},
     "output_type": "execute_result"
    },
    {
     "data": {
      "image/png": "[encoded data removed]",
      "text/plain": [
       "<Figure size 432x288 with 1 Axes>"
      ]
     },
     "metadata": {
      "needs_background": "light"
     },
     "output_type": "display_data"
    }
   ],
   "source": [
    "g = sb.histplot(x = np.sort(data.arsenic_ug_g.dropna().values)[5:-5])\n",
    "g.set_xlim([0,1])"
   ]
  },
  {
   "cell_type": "code",
   "execution_count": 18,
   "metadata": {},
   "outputs": [],
   "source": [
    "sim = np.sort(data.arsenic_ug_g.dropna().values)[5:-5]"
   ]
  },
  {
   "cell_type": "code",
   "execution_count": 24,
   "metadata": {},
   "outputs": [
    {
     "data": {
      "text/plain": [
       "<AxesSubplot:ylabel='Density'>"
      ]
     },
     "execution_count": 24,
     "metadata": {},
     "output_type": "execute_result"
    },
    {
     "data": {
      "image/png": "[encoded data removed]",
      "text/plain": [
       "<Figure size 432x288 with 1 Axes>"
      ]
     },
     "metadata": {
      "needs_background": "light"
     },
     "output_type": "display_data"
    }
   ],
   "source": [
    "sb.kdeplot(x= sim)\n",
    "sb.histplot(x=sim)\n",
    "# plt.set_xlim([0,1])"
   ]
  },
  {
   "cell_type": "code",
   "execution_count": 31,
   "metadata": {},
   "outputs": [
    {
     "data": {
      "text/plain": [
       "['__class__',\n",
       " '__delattr__',\n",
       " '__dict__',\n",
       " '__dir__',\n",
       " '__doc__',\n",
       " '__eq__',\n",
       " '__format__',\n",
       " '__ge__',\n",
       " '__getattribute__',\n",
       " '__gt__',\n",
       " '__hash__',\n",
       " '__init__',\n",
       " '__init_subclass__',\n",
       " '__le__',\n",
       " '__lt__',\n",
       " '__module__',\n",
       " '__ne__',\n",
       " '__new__',\n",
       " '__reduce__',\n",
       " '__reduce_ex__',\n",
       " '__repr__',\n",
       " '__setattr__',\n",
       " '__sizeof__',\n",
       " '__str__',\n",
       " '__subclasshook__',\n",
       " '__weakref__',\n",
       " '_aic',\n",
       " '_alldata',\n",
       " '_bic',\n",
       " '_data',\n",
       " '_density',\n",
       " '_fitted_errors',\n",
       " '_get_xmax',\n",
       " '_get_xmin',\n",
       " '_init',\n",
       " '_kldiv',\n",
       " '_load_all_distributions',\n",
       " '_set_xmax',\n",
       " '_set_xmin',\n",
       " '_timed_run',\n",
       " '_trim_data',\n",
       " '_update_data_pdf',\n",
       " '_xmax',\n",
       " '_xmin',\n",
       " 'bins',\n",
       " 'distributions',\n",
       " 'fit',\n",
       " 'fitted_param',\n",
       " 'fitted_pdf',\n",
       " 'get_best',\n",
       " 'hist',\n",
       " 'plot_pdf',\n",
       " 'summary',\n",
       " 'timeout',\n",
       " 'x',\n",
       " 'xmax',\n",
       " 'xmin',\n",
       " 'y']"
      ]
     },
     "execution_count": 31,
     "metadata": {},
     "output_type": "execute_result"
    }
   ],
   "source": [
    "\n",
    "fa3 = Fitter(sim, distributions= doi)\n",
    "dir(fa3)\n"
   ]
  },
  {
   "cell_type": "code",
   "execution_count": null,
   "metadata": {},
   "outputs": [],
   "source": []
  }
 ],
 "metadata": {
  "interpreter": {
   "hash": "d5c84d657f45050687bf03b7911071edf47d676b3fcd1f563ab8d64826ff7a10"
  },
  "kernelspec": {
   "display_name": "Python 3.7.12 64-bit ('Organigram': conda)",
   "language": "python",
   "name": "python3"
  },
  "language_info": {
   "codemirror_mode": {
    "name": "ipython",
    "version": 3
   },
   "file_extension": ".py",
   "mimetype": "text/x-python",
   "name": "python",
   "nbconvert_exporter": "python",
   "pygments_lexer": "ipython3",
   "version": "3.7.12"
  },
  "orig_nbformat": 4
 },
 "nbformat": 4,
 "nbformat_minor": 2
}
